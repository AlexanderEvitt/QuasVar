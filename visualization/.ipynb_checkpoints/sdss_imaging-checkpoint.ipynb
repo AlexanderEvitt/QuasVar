{
 "cells": [
  {
   "cell_type": "code",
   "execution_count": 13,
   "metadata": {},
   "outputs": [],
   "source": [
    "from astroquery.sdss import SDSS\n",
    "from astropy import coordinates as coords\n",
    "from astropy import units as u\n",
    "import pandas as pd\n",
    "import matplotlib.pyplot as plt\n",
    "import numpy as np\n",
    "from astropy.wcs import WCS\n",
    "from astropy.io import fits\n",
    "from reproject import reproject_interp\n",
    "from astroquery.simbad import Simbad\n",
    "from astropy.visualization import make_lupton_rgb\n",
    "from astropy.wcs.utils import skycoord_to_pixel\n",
    "import warnings\n",
    "warnings.filterwarnings(\"ignore\")\n",
    "\n",
    "def hms_to_dd(hms):\n",
    "    coord_list = hms.split(' ')\n",
    "    for n in range(3-len(coord_list)):\n",
    "        coord_list.append(str(0))\n",
    "    return (float(coord_list[0]) * 15) + ((float(coord_list[1]) / 60) *15) + ((float(coord_list[2]) /(60**2))*15)\n",
    "\n",
    "def dms_to_dd(dms):\n",
    "    coord_list = dms.split(' ')\n",
    "    for n in range(3-len(coord_list)):\n",
    "        coord_list.append(str(0))\n",
    "    if int(coord_list[0]) < 0:\n",
    "        a = -1\n",
    "    else:\n",
    "        a = 1\n",
    "    return float(coord_list[0]) + ((a * float(coord_list[1]) / 60)) + (a*(float(coord_list[2]) /(60**2)))\n",
    "\n",
    "def find_object(name):\n",
    "    result_table = Simbad.query_object(name)\n",
    "    ra = hms_to_dd(result_table['RA'][0])\n",
    "    dec = dms_to_dd(result_table['DEC'][0])\n",
    "\n",
    "    pos = coords.SkyCoord(ra, dec, unit=u.deg)\n",
    "    xid = SDSS.query_region(pos)\n",
    "    return xid\n",
    "\n",
    "def make_rgb(xid,obs,freq='irg',black_point=0,stretch=0.5,Q=8):\n",
    "    im_r = SDSS.get_images(matches=xid, band=freq[0])[obs][0]\n",
    "    im_g = SDSS.get_images(matches=xid, band=freq[1])[obs][0]\n",
    "    im_b = SDSS.get_images(matches=xid, band=freq[2])[obs][0]\n",
    "\n",
    "    new_im_g, footprint_g = reproject_interp(im_g, im_r.header)\n",
    "    new_im_b, footprint_b = reproject_interp(im_b, im_r.header)\n",
    "\n",
    "    im_rgb = make_lupton_rgb(im_r.data, new_im_g, new_im_b, minimum=black_point,Q=Q,stretch=stretch)\n",
    "    return im_rgb,im_r.header\n",
    "\n",
    "def av_rgb(xid,freq='irg',black_point=0,Q=8,stretch=0.5):\n",
    "    images_list = []\n",
    "    for obs in range(len(xid)):\n",
    "        color_list = []\n",
    "        for color in freq:\n",
    "            color_list.append(SDSS.get_images(matches=xid, band=color)[obs][0])\n",
    "        images_list.append(color_list)\n",
    "        print(\"Observation {0} complete\".format(obs))\n",
    "    \n",
    "    header_info = images_list[0][0].header\n",
    "    for o in range(len(images_list)):\n",
    "        for c in range(len(images_list[o])):\n",
    "            images_list[o][c],a = reproject_interp(images_list[o][c],header_info)\n",
    "    r_list = []\n",
    "    g_list = []\n",
    "    b_list = []\n",
    "    for n in range(len(images_list)):\n",
    "        r_list.append(images_list[n][0])\n",
    "        g_list.append(images_list[n][1])\n",
    "        b_list.append(images_list[n][2])\n",
    "        \n",
    "    av_r = np.median(r_list,axis=0)\n",
    "    av_g = np.median(g_list,axis=0)\n",
    "    av_b = np.median(b_list,axis=0)\n",
    "\n",
    "    im_rgb = make_lupton_rgb(av_r, av_g, av_b, minimum=black_point,Q=Q,stretch=stretch)\n",
    "    return im_rgb,header_info,av_r,av_g,av_b,images_list"
   ]
  },
  {
   "cell_type": "code",
   "execution_count": 16,
   "metadata": {},
   "outputs": [],
   "source": [
    "'''\n",
    "Produce color and cutout images of all objects in the catalogue.\n",
    "'''\n",
    "\n",
    "ra_list = [0.3251036206603223] #pd.read_csv('E:/catalogues/blazar_cat-3.csv', sep=',', usecols=['RA'],squeeze=True).to_numpy()\n",
    "dec_list = [-7.774145004919009] #pd.read_csv('E:/catalogues/blazar_cat-3.csv', sep=',', usecols=['DEC'],squeeze=True).to_numpy()\n",
    "\n",
    "for row in range(0,len(ra_list)):\n",
    "    ra = ra_list[row]\n",
    "    dec = dec_list[row]\n",
    "    pos = coords.SkyCoord(ra, dec, unit=u.deg)\n",
    "    try:\n",
    "        xid = SDSS.query_region(pos)[:1]\n",
    "    except:\n",
    "        continue\n",
    "    im_rgb, header_info = make_rgb(xid,0,freq='irg')\n",
    "\n",
    "    plt.figure(figsize=(14,20),dpi=400)\n",
    "    ax = plt.subplot(projection=WCS(header_info))\n",
    "    ax.imshow(im_rgb, origin='lower')\n",
    "    ax.coords['ra'].set_axislabel('Right Ascension')\n",
    "    ax.coords['dec'].set_axislabel('Declination')\n",
    "    ax.set_title('Object at row {}'.format(row))\n",
    "    ax.scatter(pos.ra,pos.dec,edgecolors='r',facecolors='none',s=30,transform=ax.get_transform('world'))\n",
    "    plt.savefig('E:/images/new/' + str(row) + '.png')\n",
    "    plt.close()\n",
    "    \n",
    "    plt.figure(figsize=(14,20))\n",
    "    wmap = WCS(header_info)\n",
    "    ax = plt.subplot(projection=wmap)\n",
    "    ax.imshow(im_rgb, origin='lower')\n",
    "    ax.coords['ra'].set_axislabel('Right Ascension')\n",
    "    ax.coords['dec'].set_axislabel('Declination')\n",
    "    ax.set_title('Object at row {}, cutout'.format(row))\n",
    "    ax.set_xlim(skycoord_to_pixel(pos,wmap)[0]-10,skycoord_to_pixel(pos,wmap)[0]+10)\n",
    "    ax.set_ylim(skycoord_to_pixel(pos,wmap)[1]-10,skycoord_to_pixel(pos,wmap)[1]+10)\n",
    "    plt.savefig('E:/images/new/' + str(row) + 'cutout.png')\n",
    "    plt.close()"
   ]
  },
  {
   "cell_type": "code",
   "execution_count": null,
   "metadata": {},
   "outputs": [
    {
     "name": "stdout",
     "output_type": "stream",
     "text": [
      "PN G164.8+31.1 was observed 1 times\n"
     ]
    },
    {
     "data": {
      "text/plain": [
       "Text(0.5, 1.0, 'PN G164.8+31.1')"
      ]
     },
     "execution_count": 9,
     "metadata": {},
     "output_type": "execute_result"
    }
   ],
   "source": [
    "'''\n",
    "Produce single image\n",
    "'''\n",
    "name = 'PN G164.8+31.1'\n",
    "xid = find_object(name)\n",
    "print(str(name) + ' was observed ' + str(len(xid)) + ' times')\n",
    "im_rgb, header_info = make_rgb(xid,0,freq='rgu')\n",
    "\n",
    "plt.figure(figsize=(14,20),dpi=500)\n",
    "ax = plt.subplot(projection=WCS(header_info))\n",
    "ax.imshow(im_rgb, origin='lower')\n",
    "ax.coords['ra'].set_axislabel('Right Ascension')\n",
    "ax.coords['dec'].set_axislabel('Declination')\n",
    "ax.set_title(name)\n",
    "#plt.savefig('C:/Users/abcmo/Documents/Projects/Cool SDSS Images/' +name+'2.jpg',dpi=1000)"
   ]
  },
  {
   "cell_type": "code",
   "execution_count": 5,
   "metadata": {},
   "outputs": [
    {
     "name": "stdout",
     "output_type": "stream",
     "text": [
      "PN G164.8+31.1 was observed 1 times\n"
     ]
    },
    {
     "ename": "KeyboardInterrupt",
     "evalue": "",
     "output_type": "error",
     "traceback": [
      "\u001b[1;31m---------------------------------------------------------------------------\u001b[0m",
      "\u001b[1;31mKeyError\u001b[0m                                  Traceback (most recent call last)",
      "\u001b[1;32m~\\Anaconda3\\lib\\shelve.py\u001b[0m in \u001b[0;36m__getitem__\u001b[1;34m(self, key)\u001b[0m\n\u001b[0;32m    110\u001b[0m         \u001b[1;32mtry\u001b[0m\u001b[1;33m:\u001b[0m\u001b[1;33m\u001b[0m\u001b[1;33m\u001b[0m\u001b[0m\n\u001b[1;32m--> 111\u001b[1;33m             \u001b[0mvalue\u001b[0m \u001b[1;33m=\u001b[0m \u001b[0mself\u001b[0m\u001b[1;33m.\u001b[0m\u001b[0mcache\u001b[0m\u001b[1;33m[\u001b[0m\u001b[0mkey\u001b[0m\u001b[1;33m]\u001b[0m\u001b[1;33m\u001b[0m\u001b[1;33m\u001b[0m\u001b[0m\n\u001b[0m\u001b[0;32m    112\u001b[0m         \u001b[1;32mexcept\u001b[0m \u001b[0mKeyError\u001b[0m\u001b[1;33m:\u001b[0m\u001b[1;33m\u001b[0m\u001b[1;33m\u001b[0m\u001b[0m\n",
      "\u001b[1;31mKeyError\u001b[0m: 'https://data.sdss.org/sas/dr14/eboss/spectro/redux/v5_10_0/spectra/7339/spec-7339-56715-0795.fits'",
      "\nDuring handling of the above exception, another exception occurred:\n",
      "\u001b[1;31mKeyboardInterrupt\u001b[0m                         Traceback (most recent call last)",
      "\u001b[1;32m<ipython-input-5-80fb5efb7f11>\u001b[0m in \u001b[0;36m<module>\u001b[1;34m\u001b[0m\n\u001b[0;32m      5\u001b[0m \u001b[0mxid\u001b[0m \u001b[1;33m=\u001b[0m \u001b[0mfind_object\u001b[0m\u001b[1;33m(\u001b[0m\u001b[0mname\u001b[0m\u001b[1;33m)\u001b[0m\u001b[1;33m\u001b[0m\u001b[1;33m\u001b[0m\u001b[0m\n\u001b[0;32m      6\u001b[0m \u001b[0mprint\u001b[0m\u001b[1;33m(\u001b[0m\u001b[0mstr\u001b[0m\u001b[1;33m(\u001b[0m\u001b[0mname\u001b[0m\u001b[1;33m)\u001b[0m \u001b[1;33m+\u001b[0m \u001b[1;34m' was observed '\u001b[0m \u001b[1;33m+\u001b[0m \u001b[0mstr\u001b[0m\u001b[1;33m(\u001b[0m\u001b[0mlen\u001b[0m\u001b[1;33m(\u001b[0m\u001b[0mxid\u001b[0m\u001b[1;33m)\u001b[0m\u001b[1;33m)\u001b[0m \u001b[1;33m+\u001b[0m \u001b[1;34m' times'\u001b[0m\u001b[1;33m)\u001b[0m\u001b[1;33m\u001b[0m\u001b[1;33m\u001b[0m\u001b[0m\n\u001b[1;32m----> 7\u001b[1;33m \u001b[0mim_rgb\u001b[0m\u001b[1;33m,\u001b[0m\u001b[0mheader_info\u001b[0m\u001b[1;33m,\u001b[0m\u001b[0mav_r\u001b[0m\u001b[1;33m,\u001b[0m\u001b[0mav_g\u001b[0m\u001b[1;33m,\u001b[0m\u001b[0mav_b\u001b[0m\u001b[1;33m,\u001b[0m\u001b[0mimages_list\u001b[0m \u001b[1;33m=\u001b[0m \u001b[0mav_rgb\u001b[0m\u001b[1;33m(\u001b[0m\u001b[0mxid\u001b[0m\u001b[1;33m,\u001b[0m\u001b[0mfreq\u001b[0m\u001b[1;33m=\u001b[0m\u001b[1;34m'rgu'\u001b[0m\u001b[1;33m)\u001b[0m\u001b[1;33m\u001b[0m\u001b[1;33m\u001b[0m\u001b[0m\n\u001b[0m\u001b[0;32m      8\u001b[0m \u001b[1;33m\u001b[0m\u001b[0m\n\u001b[0;32m      9\u001b[0m \u001b[0mplt\u001b[0m\u001b[1;33m.\u001b[0m\u001b[0mfigure\u001b[0m\u001b[1;33m(\u001b[0m\u001b[0mfigsize\u001b[0m\u001b[1;33m=\u001b[0m\u001b[1;33m(\u001b[0m\u001b[1;36m14\u001b[0m\u001b[1;33m,\u001b[0m\u001b[1;36m20\u001b[0m\u001b[1;33m)\u001b[0m\u001b[1;33m,\u001b[0m\u001b[0mdpi\u001b[0m\u001b[1;33m=\u001b[0m\u001b[1;36m400\u001b[0m\u001b[1;33m)\u001b[0m\u001b[1;33m\u001b[0m\u001b[1;33m\u001b[0m\u001b[0m\n",
      "\u001b[1;32m<ipython-input-1-0e4f391fb15d>\u001b[0m in \u001b[0;36mav_rgb\u001b[1;34m(xid, freq, black_point, Q, stretch)\u001b[0m\n\u001b[0;32m     55\u001b[0m         \u001b[0mcolor_list\u001b[0m \u001b[1;33m=\u001b[0m \u001b[1;33m[\u001b[0m\u001b[1;33m]\u001b[0m\u001b[1;33m\u001b[0m\u001b[1;33m\u001b[0m\u001b[0m\n\u001b[0;32m     56\u001b[0m         \u001b[1;32mfor\u001b[0m \u001b[0mcolor\u001b[0m \u001b[1;32min\u001b[0m \u001b[0mfreq\u001b[0m\u001b[1;33m:\u001b[0m\u001b[1;33m\u001b[0m\u001b[1;33m\u001b[0m\u001b[0m\n\u001b[1;32m---> 57\u001b[1;33m             \u001b[0mcolor_list\u001b[0m\u001b[1;33m.\u001b[0m\u001b[0mappend\u001b[0m\u001b[1;33m(\u001b[0m\u001b[0mSDSS\u001b[0m\u001b[1;33m.\u001b[0m\u001b[0mget_images\u001b[0m\u001b[1;33m(\u001b[0m\u001b[0mmatches\u001b[0m\u001b[1;33m=\u001b[0m\u001b[0mxid\u001b[0m\u001b[1;33m,\u001b[0m \u001b[0mband\u001b[0m\u001b[1;33m=\u001b[0m\u001b[0mcolor\u001b[0m\u001b[1;33m)\u001b[0m\u001b[1;33m[\u001b[0m\u001b[0mobs\u001b[0m\u001b[1;33m]\u001b[0m\u001b[1;33m[\u001b[0m\u001b[1;36m0\u001b[0m\u001b[1;33m]\u001b[0m\u001b[1;33m)\u001b[0m\u001b[1;33m\u001b[0m\u001b[1;33m\u001b[0m\u001b[0m\n\u001b[0m\u001b[0;32m     58\u001b[0m         \u001b[0mimages_list\u001b[0m\u001b[1;33m.\u001b[0m\u001b[0mappend\u001b[0m\u001b[1;33m(\u001b[0m\u001b[0mcolor_list\u001b[0m\u001b[1;33m)\u001b[0m\u001b[1;33m\u001b[0m\u001b[1;33m\u001b[0m\u001b[0m\n\u001b[0;32m     59\u001b[0m         \u001b[0mprint\u001b[0m\u001b[1;33m(\u001b[0m\u001b[1;34m\"Observation {0} complete\"\u001b[0m\u001b[1;33m.\u001b[0m\u001b[0mformat\u001b[0m\u001b[1;33m(\u001b[0m\u001b[0mobs\u001b[0m\u001b[1;33m)\u001b[0m\u001b[1;33m)\u001b[0m\u001b[1;33m\u001b[0m\u001b[1;33m\u001b[0m\u001b[0m\n",
      "\u001b[1;32m~\\Anaconda3\\lib\\site-packages\\astroquery\\sdss\\core.py\u001b[0m in \u001b[0;36mget_images\u001b[1;34m(self, coordinates, radius, matches, run, rerun, camcol, field, band, timeout, cache, get_query_payload, data_release, show_progress)\u001b[0m\n\u001b[0;32m    779\u001b[0m                 \u001b[1;32mreturn\u001b[0m \u001b[0mreadable_objs\u001b[0m\u001b[1;33m\u001b[0m\u001b[1;33m\u001b[0m\u001b[0m\n\u001b[0;32m    780\u001b[0m             \u001b[1;32melse\u001b[0m\u001b[1;33m:\u001b[0m\u001b[1;33m\u001b[0m\u001b[1;33m\u001b[0m\u001b[0m\n\u001b[1;32m--> 781\u001b[1;33m                 \u001b[1;32mreturn\u001b[0m \u001b[1;33m[\u001b[0m\u001b[0mobj\u001b[0m\u001b[1;33m.\u001b[0m\u001b[0mget_fits\u001b[0m\u001b[1;33m(\u001b[0m\u001b[1;33m)\u001b[0m \u001b[1;32mfor\u001b[0m \u001b[0mobj\u001b[0m \u001b[1;32min\u001b[0m \u001b[0mreadable_objs\u001b[0m\u001b[1;33m]\u001b[0m\u001b[1;33m\u001b[0m\u001b[1;33m\u001b[0m\u001b[0m\n\u001b[0m\u001b[0;32m    782\u001b[0m \u001b[1;33m\u001b[0m\u001b[0m\n\u001b[0;32m    783\u001b[0m     def get_spectral_template_async(self, kind='qso', timeout=TIMEOUT,\n",
      "\u001b[1;32m~\\Anaconda3\\lib\\site-packages\\astroquery\\sdss\\core.py\u001b[0m in \u001b[0;36m<listcomp>\u001b[1;34m(.0)\u001b[0m\n\u001b[0;32m    779\u001b[0m                 \u001b[1;32mreturn\u001b[0m \u001b[0mreadable_objs\u001b[0m\u001b[1;33m\u001b[0m\u001b[1;33m\u001b[0m\u001b[0m\n\u001b[0;32m    780\u001b[0m             \u001b[1;32melse\u001b[0m\u001b[1;33m:\u001b[0m\u001b[1;33m\u001b[0m\u001b[1;33m\u001b[0m\u001b[0m\n\u001b[1;32m--> 781\u001b[1;33m                 \u001b[1;32mreturn\u001b[0m \u001b[1;33m[\u001b[0m\u001b[0mobj\u001b[0m\u001b[1;33m.\u001b[0m\u001b[0mget_fits\u001b[0m\u001b[1;33m(\u001b[0m\u001b[1;33m)\u001b[0m \u001b[1;32mfor\u001b[0m \u001b[0mobj\u001b[0m \u001b[1;32min\u001b[0m \u001b[0mreadable_objs\u001b[0m\u001b[1;33m]\u001b[0m\u001b[1;33m\u001b[0m\u001b[1;33m\u001b[0m\u001b[0m\n\u001b[0m\u001b[0;32m    782\u001b[0m \u001b[1;33m\u001b[0m\u001b[0m\n\u001b[0;32m    783\u001b[0m     def get_spectral_template_async(self, kind='qso', timeout=TIMEOUT,\n",
      "\u001b[1;32m~\\Anaconda3\\lib\\site-packages\\astroquery\\utils\\commons.py\u001b[0m in \u001b[0;36mget_fits\u001b[1;34m(self)\u001b[0m\n\u001b[0;32m    363\u001b[0m         \u001b[1;32mand\u001b[0m \u001b[1;32mreturn\u001b[0m \u001b[0mthe\u001b[0m \u001b[0mfile\u001b[0m \u001b[0mparsed\u001b[0m \u001b[1;32mas\u001b[0m \u001b[0mFITS\u001b[0m \u001b[0mHDUList\u001b[0m\u001b[1;33m\u001b[0m\u001b[1;33m\u001b[0m\u001b[0m\n\u001b[0;32m    364\u001b[0m         \"\"\"\n\u001b[1;32m--> 365\u001b[1;33m         \u001b[0mfiledata\u001b[0m \u001b[1;33m=\u001b[0m \u001b[0mself\u001b[0m\u001b[1;33m.\u001b[0m\u001b[0mget_string\u001b[0m\u001b[1;33m(\u001b[0m\u001b[1;33m)\u001b[0m\u001b[1;33m\u001b[0m\u001b[1;33m\u001b[0m\u001b[0m\n\u001b[0m\u001b[0;32m    366\u001b[0m \u001b[1;33m\u001b[0m\u001b[0m\n\u001b[0;32m    367\u001b[0m         \u001b[1;32mif\u001b[0m \u001b[0mlen\u001b[0m\u001b[1;33m(\u001b[0m\u001b[0mfiledata\u001b[0m\u001b[1;33m)\u001b[0m \u001b[1;33m==\u001b[0m \u001b[1;36m0\u001b[0m\u001b[1;33m:\u001b[0m\u001b[1;33m\u001b[0m\u001b[1;33m\u001b[0m\u001b[0m\n",
      "\u001b[1;32m~\\Anaconda3\\lib\\site-packages\\astroquery\\utils\\commons.py\u001b[0m in \u001b[0;36mget_string\u001b[1;34m(self)\u001b[0m\n\u001b[0;32m    422\u001b[0m         \u001b[1;32mif\u001b[0m \u001b[1;32mnot\u001b[0m \u001b[0mhasattr\u001b[0m\u001b[1;33m(\u001b[0m\u001b[0mself\u001b[0m\u001b[1;33m,\u001b[0m \u001b[1;34m'_string'\u001b[0m\u001b[1;33m)\u001b[0m\u001b[1;33m:\u001b[0m\u001b[1;33m\u001b[0m\u001b[1;33m\u001b[0m\u001b[0m\n\u001b[0;32m    423\u001b[0m             \u001b[1;32mtry\u001b[0m\u001b[1;33m:\u001b[0m\u001b[1;33m\u001b[0m\u001b[1;33m\u001b[0m\u001b[0m\n\u001b[1;32m--> 424\u001b[1;33m                 \u001b[1;32mwith\u001b[0m \u001b[0mself\u001b[0m\u001b[1;33m.\u001b[0m\u001b[0m_readable_object\u001b[0m \u001b[1;32mas\u001b[0m \u001b[0mf\u001b[0m\u001b[1;33m:\u001b[0m\u001b[1;33m\u001b[0m\u001b[1;33m\u001b[0m\u001b[0m\n\u001b[0m\u001b[0;32m    425\u001b[0m                     \u001b[0mdata\u001b[0m \u001b[1;33m=\u001b[0m \u001b[0mf\u001b[0m\u001b[1;33m.\u001b[0m\u001b[0mread\u001b[0m\u001b[1;33m(\u001b[0m\u001b[1;33m)\u001b[0m\u001b[1;33m\u001b[0m\u001b[1;33m\u001b[0m\u001b[0m\n\u001b[0;32m    426\u001b[0m                     \u001b[0mself\u001b[0m\u001b[1;33m.\u001b[0m\u001b[0m_string\u001b[0m \u001b[1;33m=\u001b[0m \u001b[0mdata\u001b[0m\u001b[1;33m\u001b[0m\u001b[1;33m\u001b[0m\u001b[0m\n",
      "\u001b[1;32m~\\Anaconda3\\lib\\contextlib.py\u001b[0m in \u001b[0;36m__enter__\u001b[1;34m(self)\u001b[0m\n\u001b[0;32m    110\u001b[0m         \u001b[1;32mdel\u001b[0m \u001b[0mself\u001b[0m\u001b[1;33m.\u001b[0m\u001b[0margs\u001b[0m\u001b[1;33m,\u001b[0m \u001b[0mself\u001b[0m\u001b[1;33m.\u001b[0m\u001b[0mkwds\u001b[0m\u001b[1;33m,\u001b[0m \u001b[0mself\u001b[0m\u001b[1;33m.\u001b[0m\u001b[0mfunc\u001b[0m\u001b[1;33m\u001b[0m\u001b[1;33m\u001b[0m\u001b[0m\n\u001b[0;32m    111\u001b[0m         \u001b[1;32mtry\u001b[0m\u001b[1;33m:\u001b[0m\u001b[1;33m\u001b[0m\u001b[1;33m\u001b[0m\u001b[0m\n\u001b[1;32m--> 112\u001b[1;33m             \u001b[1;32mreturn\u001b[0m \u001b[0mnext\u001b[0m\u001b[1;33m(\u001b[0m\u001b[0mself\u001b[0m\u001b[1;33m.\u001b[0m\u001b[0mgen\u001b[0m\u001b[1;33m)\u001b[0m\u001b[1;33m\u001b[0m\u001b[1;33m\u001b[0m\u001b[0m\n\u001b[0m\u001b[0;32m    113\u001b[0m         \u001b[1;32mexcept\u001b[0m \u001b[0mStopIteration\u001b[0m\u001b[1;33m:\u001b[0m\u001b[1;33m\u001b[0m\u001b[1;33m\u001b[0m\u001b[0m\n\u001b[0;32m    114\u001b[0m             \u001b[1;32mraise\u001b[0m \u001b[0mRuntimeError\u001b[0m\u001b[1;33m(\u001b[0m\u001b[1;34m\"generator didn't yield\"\u001b[0m\u001b[1;33m)\u001b[0m \u001b[1;32mfrom\u001b[0m \u001b[1;32mNone\u001b[0m\u001b[1;33m\u001b[0m\u001b[1;33m\u001b[0m\u001b[0m\n",
      "\u001b[1;32m~\\Anaconda3\\lib\\site-packages\\astropy\\utils\\data.py\u001b[0m in \u001b[0;36mget_readable_fileobj\u001b[1;34m(name_or_obj, encoding, cache, show_progress, remote_timeout, sources, http_headers)\u001b[0m\n\u001b[0;32m    234\u001b[0m                 \u001b[0mname_or_obj\u001b[0m\u001b[1;33m,\u001b[0m \u001b[0mcache\u001b[0m\u001b[1;33m=\u001b[0m\u001b[0mcache\u001b[0m\u001b[1;33m,\u001b[0m \u001b[0mshow_progress\u001b[0m\u001b[1;33m=\u001b[0m\u001b[0mshow_progress\u001b[0m\u001b[1;33m,\u001b[0m\u001b[1;33m\u001b[0m\u001b[1;33m\u001b[0m\u001b[0m\n\u001b[0;32m    235\u001b[0m                 \u001b[0mtimeout\u001b[0m\u001b[1;33m=\u001b[0m\u001b[0mremote_timeout\u001b[0m\u001b[1;33m,\u001b[0m \u001b[0msources\u001b[0m\u001b[1;33m=\u001b[0m\u001b[0msources\u001b[0m\u001b[1;33m,\u001b[0m\u001b[1;33m\u001b[0m\u001b[1;33m\u001b[0m\u001b[0m\n\u001b[1;32m--> 236\u001b[1;33m                 http_headers=http_headers)\n\u001b[0m\u001b[0;32m    237\u001b[0m         \u001b[0mfileobj\u001b[0m \u001b[1;33m=\u001b[0m \u001b[0mio\u001b[0m\u001b[1;33m.\u001b[0m\u001b[0mFileIO\u001b[0m\u001b[1;33m(\u001b[0m\u001b[0mname_or_obj\u001b[0m\u001b[1;33m,\u001b[0m \u001b[1;34m'r'\u001b[0m\u001b[1;33m)\u001b[0m\u001b[1;33m\u001b[0m\u001b[1;33m\u001b[0m\u001b[0m\n\u001b[0;32m    238\u001b[0m         \u001b[1;32mif\u001b[0m \u001b[0mis_url\u001b[0m \u001b[1;32mand\u001b[0m \u001b[1;32mnot\u001b[0m \u001b[0mcache\u001b[0m\u001b[1;33m:\u001b[0m\u001b[1;33m\u001b[0m\u001b[1;33m\u001b[0m\u001b[0m\n",
      "\u001b[1;32m~\\Anaconda3\\lib\\site-packages\\astropy\\utils\\data.py\u001b[0m in \u001b[0;36mdownload_file\u001b[1;34m(remote_url, cache, show_progress, timeout, sources, pkgname, http_headers)\u001b[0m\n\u001b[0;32m   1125\u001b[0m \u001b[1;33m\u001b[0m\u001b[0m\n\u001b[0;32m   1126\u001b[0m     \u001b[1;32mif\u001b[0m \u001b[0mcache\u001b[0m\u001b[1;33m:\u001b[0m\u001b[1;33m\u001b[0m\u001b[1;33m\u001b[0m\u001b[0m\n\u001b[1;32m-> 1127\u001b[1;33m         \u001b[1;32mwith\u001b[0m \u001b[0m_cache\u001b[0m\u001b[1;33m(\u001b[0m\u001b[0mpkgname\u001b[0m\u001b[1;33m)\u001b[0m \u001b[1;32mas\u001b[0m \u001b[1;33m(\u001b[0m\u001b[0mdldir\u001b[0m\u001b[1;33m,\u001b[0m \u001b[0murl2hash\u001b[0m\u001b[1;33m)\u001b[0m\u001b[1;33m:\u001b[0m\u001b[1;33m\u001b[0m\u001b[1;33m\u001b[0m\u001b[0m\n\u001b[0m\u001b[0;32m   1128\u001b[0m             \u001b[1;32mif\u001b[0m \u001b[0mdldir\u001b[0m \u001b[1;32mis\u001b[0m \u001b[1;32mNone\u001b[0m\u001b[1;33m:\u001b[0m\u001b[1;33m\u001b[0m\u001b[1;33m\u001b[0m\u001b[0m\n\u001b[0;32m   1129\u001b[0m                 \u001b[0mcache\u001b[0m \u001b[1;33m=\u001b[0m \u001b[1;32mFalse\u001b[0m\u001b[1;33m\u001b[0m\u001b[1;33m\u001b[0m\u001b[0m\n",
      "\u001b[1;32m~\\Anaconda3\\lib\\contextlib.py\u001b[0m in \u001b[0;36m__enter__\u001b[1;34m(self)\u001b[0m\n\u001b[0;32m    110\u001b[0m         \u001b[1;32mdel\u001b[0m \u001b[0mself\u001b[0m\u001b[1;33m.\u001b[0m\u001b[0margs\u001b[0m\u001b[1;33m,\u001b[0m \u001b[0mself\u001b[0m\u001b[1;33m.\u001b[0m\u001b[0mkwds\u001b[0m\u001b[1;33m,\u001b[0m \u001b[0mself\u001b[0m\u001b[1;33m.\u001b[0m\u001b[0mfunc\u001b[0m\u001b[1;33m\u001b[0m\u001b[1;33m\u001b[0m\u001b[0m\n\u001b[0;32m    111\u001b[0m         \u001b[1;32mtry\u001b[0m\u001b[1;33m:\u001b[0m\u001b[1;33m\u001b[0m\u001b[1;33m\u001b[0m\u001b[0m\n\u001b[1;32m--> 112\u001b[1;33m             \u001b[1;32mreturn\u001b[0m \u001b[0mnext\u001b[0m\u001b[1;33m(\u001b[0m\u001b[0mself\u001b[0m\u001b[1;33m.\u001b[0m\u001b[0mgen\u001b[0m\u001b[1;33m)\u001b[0m\u001b[1;33m\u001b[0m\u001b[1;33m\u001b[0m\u001b[0m\n\u001b[0m\u001b[0;32m    113\u001b[0m         \u001b[1;32mexcept\u001b[0m \u001b[0mStopIteration\u001b[0m\u001b[1;33m:\u001b[0m\u001b[1;33m\u001b[0m\u001b[1;33m\u001b[0m\u001b[0m\n\u001b[0;32m    114\u001b[0m             \u001b[1;32mraise\u001b[0m \u001b[0mRuntimeError\u001b[0m\u001b[1;33m(\u001b[0m\u001b[1;34m\"generator didn't yield\"\u001b[0m\u001b[1;33m)\u001b[0m \u001b[1;32mfrom\u001b[0m \u001b[1;32mNone\u001b[0m\u001b[1;33m\u001b[0m\u001b[1;33m\u001b[0m\u001b[0m\n",
      "\u001b[1;32m~\\Anaconda3\\lib\\site-packages\\astropy\\utils\\data.py\u001b[0m in \u001b[0;36m_cache\u001b[1;34m(pkgname, write)\u001b[0m\n\u001b[0;32m   1694\u001b[0m             \u001b[1;32mwith\u001b[0m \u001b[0m_cache_lock\u001b[0m\u001b[1;33m(\u001b[0m\u001b[0mpkgname\u001b[0m\u001b[1;33m)\u001b[0m\u001b[1;33m,\u001b[0m \u001b[0mshelve\u001b[0m\u001b[1;33m.\u001b[0m\u001b[0mopen\u001b[0m\u001b[1;33m(\u001b[0m\u001b[0murlmapfn\u001b[0m\u001b[1;33m,\u001b[0m \u001b[0mflag\u001b[0m\u001b[1;33m=\u001b[0m\u001b[1;34m\"r\"\u001b[0m\u001b[1;33m)\u001b[0m \u001b[1;32mas\u001b[0m \u001b[0murl2hash\u001b[0m\u001b[1;33m:\u001b[0m\u001b[1;33m\u001b[0m\u001b[1;33m\u001b[0m\u001b[0m\n\u001b[0;32m   1695\u001b[0m                 \u001b[1;31m# Copy so we can release the lock.\u001b[0m\u001b[1;33m\u001b[0m\u001b[1;33m\u001b[0m\u001b[1;33m\u001b[0m\u001b[0m\n\u001b[1;32m-> 1696\u001b[1;33m                 \u001b[0md\u001b[0m \u001b[1;33m=\u001b[0m \u001b[0mReadOnlyDict\u001b[0m\u001b[1;33m(\u001b[0m\u001b[0murl2hash\u001b[0m\u001b[1;33m.\u001b[0m\u001b[0mitems\u001b[0m\u001b[1;33m(\u001b[0m\u001b[1;33m)\u001b[0m\u001b[1;33m)\u001b[0m\u001b[1;33m\u001b[0m\u001b[1;33m\u001b[0m\u001b[0m\n\u001b[0m\u001b[0;32m   1697\u001b[0m         \u001b[1;32mexcept\u001b[0m \u001b[0mdbm\u001b[0m\u001b[1;33m.\u001b[0m\u001b[0merror\u001b[0m \u001b[1;32mas\u001b[0m \u001b[0me\u001b[0m\u001b[1;33m:\u001b[0m\u001b[1;33m\u001b[0m\u001b[1;33m\u001b[0m\u001b[0m\n\u001b[0;32m   1698\u001b[0m             \u001b[1;31m# Might be a \"file not found\" - that is, an un-initialized cache,\u001b[0m\u001b[1;33m\u001b[0m\u001b[1;33m\u001b[0m\u001b[1;33m\u001b[0m\u001b[0m\n",
      "\u001b[1;32m~\\Anaconda3\\lib\\_collections_abc.py\u001b[0m in \u001b[0;36m__iter__\u001b[1;34m(self)\u001b[0m\n\u001b[0;32m    742\u001b[0m     \u001b[1;32mdef\u001b[0m \u001b[0m__iter__\u001b[0m\u001b[1;33m(\u001b[0m\u001b[0mself\u001b[0m\u001b[1;33m)\u001b[0m\u001b[1;33m:\u001b[0m\u001b[1;33m\u001b[0m\u001b[1;33m\u001b[0m\u001b[0m\n\u001b[0;32m    743\u001b[0m         \u001b[1;32mfor\u001b[0m \u001b[0mkey\u001b[0m \u001b[1;32min\u001b[0m \u001b[0mself\u001b[0m\u001b[1;33m.\u001b[0m\u001b[0m_mapping\u001b[0m\u001b[1;33m:\u001b[0m\u001b[1;33m\u001b[0m\u001b[1;33m\u001b[0m\u001b[0m\n\u001b[1;32m--> 744\u001b[1;33m             \u001b[1;32myield\u001b[0m \u001b[1;33m(\u001b[0m\u001b[0mkey\u001b[0m\u001b[1;33m,\u001b[0m \u001b[0mself\u001b[0m\u001b[1;33m.\u001b[0m\u001b[0m_mapping\u001b[0m\u001b[1;33m[\u001b[0m\u001b[0mkey\u001b[0m\u001b[1;33m]\u001b[0m\u001b[1;33m)\u001b[0m\u001b[1;33m\u001b[0m\u001b[1;33m\u001b[0m\u001b[0m\n\u001b[0m\u001b[0;32m    745\u001b[0m \u001b[1;33m\u001b[0m\u001b[0m\n\u001b[0;32m    746\u001b[0m \u001b[0mItemsView\u001b[0m\u001b[1;33m.\u001b[0m\u001b[0mregister\u001b[0m\u001b[1;33m(\u001b[0m\u001b[0mdict_items\u001b[0m\u001b[1;33m)\u001b[0m\u001b[1;33m\u001b[0m\u001b[1;33m\u001b[0m\u001b[0m\n",
      "\u001b[1;32m~\\Anaconda3\\lib\\shelve.py\u001b[0m in \u001b[0;36m__getitem__\u001b[1;34m(self, key)\u001b[0m\n\u001b[0;32m    111\u001b[0m             \u001b[0mvalue\u001b[0m \u001b[1;33m=\u001b[0m \u001b[0mself\u001b[0m\u001b[1;33m.\u001b[0m\u001b[0mcache\u001b[0m\u001b[1;33m[\u001b[0m\u001b[0mkey\u001b[0m\u001b[1;33m]\u001b[0m\u001b[1;33m\u001b[0m\u001b[1;33m\u001b[0m\u001b[0m\n\u001b[0;32m    112\u001b[0m         \u001b[1;32mexcept\u001b[0m \u001b[0mKeyError\u001b[0m\u001b[1;33m:\u001b[0m\u001b[1;33m\u001b[0m\u001b[1;33m\u001b[0m\u001b[0m\n\u001b[1;32m--> 113\u001b[1;33m             \u001b[0mf\u001b[0m \u001b[1;33m=\u001b[0m \u001b[0mBytesIO\u001b[0m\u001b[1;33m(\u001b[0m\u001b[0mself\u001b[0m\u001b[1;33m.\u001b[0m\u001b[0mdict\u001b[0m\u001b[1;33m[\u001b[0m\u001b[0mkey\u001b[0m\u001b[1;33m.\u001b[0m\u001b[0mencode\u001b[0m\u001b[1;33m(\u001b[0m\u001b[0mself\u001b[0m\u001b[1;33m.\u001b[0m\u001b[0mkeyencoding\u001b[0m\u001b[1;33m)\u001b[0m\u001b[1;33m]\u001b[0m\u001b[1;33m)\u001b[0m\u001b[1;33m\u001b[0m\u001b[1;33m\u001b[0m\u001b[0m\n\u001b[0m\u001b[0;32m    114\u001b[0m             \u001b[0mvalue\u001b[0m \u001b[1;33m=\u001b[0m \u001b[0mUnpickler\u001b[0m\u001b[1;33m(\u001b[0m\u001b[0mf\u001b[0m\u001b[1;33m)\u001b[0m\u001b[1;33m.\u001b[0m\u001b[0mload\u001b[0m\u001b[1;33m(\u001b[0m\u001b[1;33m)\u001b[0m\u001b[1;33m\u001b[0m\u001b[1;33m\u001b[0m\u001b[0m\n\u001b[0;32m    115\u001b[0m             \u001b[1;32mif\u001b[0m \u001b[0mself\u001b[0m\u001b[1;33m.\u001b[0m\u001b[0mwriteback\u001b[0m\u001b[1;33m:\u001b[0m\u001b[1;33m\u001b[0m\u001b[1;33m\u001b[0m\u001b[0m\n",
      "\u001b[1;32m~\\Anaconda3\\lib\\dbm\\dumb.py\u001b[0m in \u001b[0;36m__getitem__\u001b[1;34m(self, key)\u001b[0m\n\u001b[0;32m    154\u001b[0m         \u001b[1;32mwith\u001b[0m \u001b[0m_io\u001b[0m\u001b[1;33m.\u001b[0m\u001b[0mopen\u001b[0m\u001b[1;33m(\u001b[0m\u001b[0mself\u001b[0m\u001b[1;33m.\u001b[0m\u001b[0m_datfile\u001b[0m\u001b[1;33m,\u001b[0m \u001b[1;34m'rb'\u001b[0m\u001b[1;33m)\u001b[0m \u001b[1;32mas\u001b[0m \u001b[0mf\u001b[0m\u001b[1;33m:\u001b[0m\u001b[1;33m\u001b[0m\u001b[1;33m\u001b[0m\u001b[0m\n\u001b[0;32m    155\u001b[0m             \u001b[0mf\u001b[0m\u001b[1;33m.\u001b[0m\u001b[0mseek\u001b[0m\u001b[1;33m(\u001b[0m\u001b[0mpos\u001b[0m\u001b[1;33m)\u001b[0m\u001b[1;33m\u001b[0m\u001b[1;33m\u001b[0m\u001b[0m\n\u001b[1;32m--> 156\u001b[1;33m             \u001b[0mdat\u001b[0m \u001b[1;33m=\u001b[0m \u001b[0mf\u001b[0m\u001b[1;33m.\u001b[0m\u001b[0mread\u001b[0m\u001b[1;33m(\u001b[0m\u001b[0msiz\u001b[0m\u001b[1;33m)\u001b[0m\u001b[1;33m\u001b[0m\u001b[1;33m\u001b[0m\u001b[0m\n\u001b[0m\u001b[0;32m    157\u001b[0m         \u001b[1;32mreturn\u001b[0m \u001b[0mdat\u001b[0m\u001b[1;33m\u001b[0m\u001b[1;33m\u001b[0m\u001b[0m\n\u001b[0;32m    158\u001b[0m \u001b[1;33m\u001b[0m\u001b[0m\n",
      "\u001b[1;31mKeyboardInterrupt\u001b[0m: "
     ]
    }
   ],
   "source": [
    "'''\n",
    "Produce averaged image stack\n",
    "'''\n",
    "name = 'PN G164.8+31.1'\n",
    "xid = find_object(name)\n",
    "print(str(name) + ' was observed ' + str(len(xid)) + ' times')\n",
    "im_rgb,header_info,av_r,av_g,av_b,images_list = av_rgb(xid,freq='rgu')\n",
    "\n",
    "plt.figure(figsize=(14,20),dpi=400)\n",
    "ax = plt.subplot(projection=WCS(header_info))\n",
    "ax.imshow(im_rgb, origin='lower')\n",
    "ax.coords['ra'].set_axislabel('Right Ascension')\n",
    "ax.coords['dec'].set_axislabel('Declination')\n",
    "ax.set_title(name)\n",
    "\n",
    "plt.savefig('C:/Users/abcmo/Documents/Projects/Cool SDSS Images/' +name+'RGU.png')"
   ]
  },
  {
   "cell_type": "code",
   "execution_count": null,
   "metadata": {},
   "outputs": [],
   "source": [
    "amount = 10\n",
    "\n",
    "ra_list = pd.read_csv('F:/catalogues/final_quasar_catalogue.csv', sep=',', usecols=['RA'],squeeze=True).to_numpy()\n",
    "dec_list = pd.read_csv('F:/catalogues/final_quasar_catalogue.csv', sep=',', usecols=['DEC'],squeeze=True).to_numpy()\n",
    "\n",
    "cutout_list = []\n",
    "for row in range(amount):\n",
    "    ra = ra_list[row]\n",
    "    dec = dec_list[row]\n",
    "    pos = coords.SkyCoord(ra, dec, unit=u.deg)\n",
    "    xid = SDSS.query_region(pos)[:1]\n",
    "    im_rgb, header_info = make_rgb(xid,0,freq='zir')\n",
    "    wmap = WCS(header_info)\n",
    "    cutout = im_rgb[int(skycoord_to_pixel(pos,wmap)[1])-7:int(skycoord_to_pixel(pos,wmap)[1])+7,int(skycoord_to_pixel(pos,wmap)[0])-7:int(skycoord_to_pixel(pos,wmap)[0])+7]\n",
    "    cutout_list.append(cutout)\n",
    "    \n",
    "processed = []\n",
    "for row in range(len(cutout_list)):\n",
    "    if cutout_list[row].shape[0] is 20 and cutout_list[row].shape[1] is 20:\n",
    "        processed.append(cutout_list[row])\n",
    "\n",
    "cutout_median = np.median(np.array(processed),axis=0)\n",
    "print(cutout_median.shape)\n",
    "plt.figure(figsize=(14,20))\n",
    "\n",
    "ax = plt.subplot()\n",
    "ax.imshow(cutout_median.astype(int), origin='lower')\n",
    "ax.set_title('Average of {} quasar images, cutout to 20x20'.format(amount))"
   ]
  },
  {
   "cell_type": "code",
   "execution_count": null,
   "metadata": {},
   "outputs": [],
   "source": [
    "print(int(skycoord_to_pixel(pos,wmap)[1])-10,int(skycoord_to_pixel(pos,wmap)[1])+10)"
   ]
  },
  {
   "cell_type": "code",
   "execution_count": null,
   "metadata": {},
   "outputs": [],
   "source": [
    "result_table = Simbad.query_object('M81')\n",
    "ra = hms_to_dd(result_table['RA'][0])\n",
    "dec = dms_to_dd(result_table['DEC'][0])\n",
    "\n",
    "pos = coords.SkyCoord(ra, dec, unit=u.deg)\n",
    "xid = SDSS.query_region(pos)\n",
    "print(xid)"
   ]
  },
  {
   "cell_type": "code",
   "execution_count": null,
   "metadata": {
    "scrolled": false
   },
   "outputs": [],
   "source": [
    "name = 'Messier 81'\n",
    "run = 752\n",
    "col = 1\n",
    "field = 373\n",
    "freq = 'irg'\n",
    "im_r = SDSS.get_images(run = run, camcol = col, field = field, band=freq[0])[0][0]\n",
    "im_g = SDSS.get_images(run = run, camcol = col, field = field, band=freq[1])[0][0]\n",
    "im_b = SDSS.get_images(run = run, camcol = col, field = field, band=freq[2])[0][0]\n",
    "\n",
    "new_im_g, footprint_g = reproject_interp(im_g, im_r.header)\n",
    "new_im_b, footprint_b = reproject_interp(im_b, im_r.header)\n",
    "\n",
    "im_rgb = make_lupton_rgb(im_r.data, new_im_g, new_im_b, stretch=0.5)\n",
    "header_info = im_r.header\n",
    "\n",
    "plt.figure(figsize=(14,20),dpi=400)\n",
    "ax = plt.subplot(projection=WCS(header_info))\n",
    "ax.imshow(im_rgb, origin='lower')\n",
    "ax.coords['ra'].set_axislabel('Right Ascension')\n",
    "ax.coords['dec'].set_axislabel('Declination')\n",
    "ax.set_title(name)"
   ]
  },
  {
   "cell_type": "code",
   "execution_count": null,
   "metadata": {},
   "outputs": [],
   "source": [
    "a = np.array([[1,2,3],[4,5,6],[7,8,9]])\n",
    "a[0:2,0:2]"
   ]
  },
  {
   "cell_type": "code",
   "execution_count": null,
   "metadata": {},
   "outputs": [],
   "source": [
    "processed = []\n",
    "for row in range(len(cutout_list)):\n",
    "    if cutout_list[row].shape[0] is 20 and cutout_list[row].shape[1] is 20:\n",
    "        processed.append(cutout_list[row])\n",
    "\n",
    "cutout_median = np.median(np.array(processed),axis=0)\n",
    "print(cutout_median.shape)\n",
    "plt.figure(figsize=(14,20))\n",
    "\n",
    "ax = plt.subplot()\n",
    "ax.imshow(cutout_median.astype(int), origin='lower')\n",
    "ax.set_title('Average of {} quasar images, cutout to 20x20'.format(amount))"
   ]
  },
  {
   "cell_type": "code",
   "execution_count": null,
   "metadata": {},
   "outputs": [],
   "source": [
    "z = pd.read_csv('F:/catalogues/final_quasar_catalogue.csv', sep=',', usecols=['z'],squeeze=True).to_numpy()[0]\n",
    "\n",
    "distance = (z*c)/H"
   ]
  },
  {
   "cell_type": "code",
   "execution_count": 10,
   "metadata": {},
   "outputs": [
    {
     "name": "stdout",
     "output_type": "stream",
     "text": [
      "40 was observed 11 times\n",
      "49 was observed 2 times\n",
      "51 was observed 2 times\n",
      "58 was observed 16 times\n",
      "59 was observed 2 times\n",
      "61 was observed 5 times\n",
      "63 was observed 2 times\n",
      "66 was observed 2 times\n",
      "76 was observed 2 times\n",
      "81 was observed 1 times\n",
      "82 was observed 1 times\n",
      "85 was observed 2 times\n",
      "86 was observed 1 times\n",
      "89 was observed 5 times\n",
      "90 was observed 3 times\n",
      "95 was observed 1 times\n",
      "96 was observed 2 times\n",
      "97 was observed 2 times\n",
      "102 was observed 2 times\n",
      "105 was observed 10 times\n",
      "108 was observed 1 times\n",
      "109 was observed 2 times\n"
     ]
    },
    {
     "ename": "TypeError",
     "evalue": "'NoneType' object is not subscriptable",
     "output_type": "error",
     "traceback": [
      "\u001b[1;31m---------------------------------------------------------------------------\u001b[0m",
      "\u001b[1;31mTypeError\u001b[0m                                 Traceback (most recent call last)",
      "\u001b[1;32m<ipython-input-10-1567687b4d8f>\u001b[0m in \u001b[0;36m<module>\u001b[1;34m\u001b[0m\n\u001b[0;32m      1\u001b[0m \u001b[1;32mfor\u001b[0m \u001b[0mi\u001b[0m \u001b[1;32min\u001b[0m \u001b[0mrange\u001b[0m\u001b[1;33m(\u001b[0m\u001b[1;36m1\u001b[0m\u001b[1;33m,\u001b[0m\u001b[1;36m150\u001b[0m\u001b[1;33m)\u001b[0m\u001b[1;33m:\u001b[0m\u001b[1;33m\u001b[0m\u001b[1;33m\u001b[0m\u001b[0m\n\u001b[1;32m----> 2\u001b[1;33m     \u001b[0mxid\u001b[0m \u001b[1;33m=\u001b[0m \u001b[0mfind_object\u001b[0m\u001b[1;33m(\u001b[0m\u001b[1;34m'Messier '\u001b[0m \u001b[1;33m+\u001b[0m \u001b[0mstr\u001b[0m\u001b[1;33m(\u001b[0m\u001b[0mi\u001b[0m\u001b[1;33m)\u001b[0m\u001b[1;33m)\u001b[0m\u001b[1;33m\u001b[0m\u001b[1;33m\u001b[0m\u001b[0m\n\u001b[0m\u001b[0;32m      3\u001b[0m     \u001b[1;32mif\u001b[0m \u001b[0mxid\u001b[0m \u001b[1;32mis\u001b[0m \u001b[1;32mnot\u001b[0m \u001b[1;32mNone\u001b[0m\u001b[1;33m:\u001b[0m\u001b[1;33m\u001b[0m\u001b[1;33m\u001b[0m\u001b[0m\n\u001b[0;32m      4\u001b[0m         \u001b[0mprint\u001b[0m\u001b[1;33m(\u001b[0m\u001b[0mstr\u001b[0m\u001b[1;33m(\u001b[0m\u001b[0mi\u001b[0m\u001b[1;33m)\u001b[0m \u001b[1;33m+\u001b[0m \u001b[1;34m' was observed '\u001b[0m \u001b[1;33m+\u001b[0m \u001b[0mstr\u001b[0m\u001b[1;33m(\u001b[0m\u001b[0mlen\u001b[0m\u001b[1;33m(\u001b[0m\u001b[0mxid\u001b[0m\u001b[1;33m)\u001b[0m\u001b[1;33m)\u001b[0m \u001b[1;33m+\u001b[0m \u001b[1;34m' times'\u001b[0m\u001b[1;33m)\u001b[0m\u001b[1;33m\u001b[0m\u001b[1;33m\u001b[0m\u001b[0m\n",
      "\u001b[1;32m<ipython-input-2-0e4f391fb15d>\u001b[0m in \u001b[0;36mfind_object\u001b[1;34m(name)\u001b[0m\n\u001b[0;32m     32\u001b[0m \u001b[1;32mdef\u001b[0m \u001b[0mfind_object\u001b[0m\u001b[1;33m(\u001b[0m\u001b[0mname\u001b[0m\u001b[1;33m)\u001b[0m\u001b[1;33m:\u001b[0m\u001b[1;33m\u001b[0m\u001b[1;33m\u001b[0m\u001b[0m\n\u001b[0;32m     33\u001b[0m     \u001b[0mresult_table\u001b[0m \u001b[1;33m=\u001b[0m \u001b[0mSimbad\u001b[0m\u001b[1;33m.\u001b[0m\u001b[0mquery_object\u001b[0m\u001b[1;33m(\u001b[0m\u001b[0mname\u001b[0m\u001b[1;33m)\u001b[0m\u001b[1;33m\u001b[0m\u001b[1;33m\u001b[0m\u001b[0m\n\u001b[1;32m---> 34\u001b[1;33m     \u001b[0mra\u001b[0m \u001b[1;33m=\u001b[0m \u001b[0mhms_to_dd\u001b[0m\u001b[1;33m(\u001b[0m\u001b[0mresult_table\u001b[0m\u001b[1;33m[\u001b[0m\u001b[1;34m'RA'\u001b[0m\u001b[1;33m]\u001b[0m\u001b[1;33m[\u001b[0m\u001b[1;36m0\u001b[0m\u001b[1;33m]\u001b[0m\u001b[1;33m)\u001b[0m\u001b[1;33m\u001b[0m\u001b[1;33m\u001b[0m\u001b[0m\n\u001b[0m\u001b[0;32m     35\u001b[0m     \u001b[0mdec\u001b[0m \u001b[1;33m=\u001b[0m \u001b[0mdms_to_dd\u001b[0m\u001b[1;33m(\u001b[0m\u001b[0mresult_table\u001b[0m\u001b[1;33m[\u001b[0m\u001b[1;34m'DEC'\u001b[0m\u001b[1;33m]\u001b[0m\u001b[1;33m[\u001b[0m\u001b[1;36m0\u001b[0m\u001b[1;33m]\u001b[0m\u001b[1;33m)\u001b[0m\u001b[1;33m\u001b[0m\u001b[1;33m\u001b[0m\u001b[0m\n\u001b[0;32m     36\u001b[0m \u001b[1;33m\u001b[0m\u001b[0m\n",
      "\u001b[1;31mTypeError\u001b[0m: 'NoneType' object is not subscriptable"
     ]
    }
   ],
   "source": [
    "for i in range(1,150):\n",
    "    xid = find_object('Messier ' + str(i))\n",
    "    if xid is not None:\n",
    "        print(str(i) + ' was observed ' + str(len(xid)) + ' times')"
   ]
  },
  {
   "cell_type": "code",
   "execution_count": null,
   "metadata": {},
   "outputs": [],
   "source": []
  }
 ],
 "metadata": {
  "kernelspec": {
   "display_name": "Python 3",
   "language": "python",
   "name": "python3"
  },
  "language_info": {
   "codemirror_mode": {
    "name": "ipython",
    "version": 3
   },
   "file_extension": ".py",
   "mimetype": "text/x-python",
   "name": "python",
   "nbconvert_exporter": "python",
   "pygments_lexer": "ipython3",
   "version": "3.8.3"
  }
 },
 "nbformat": 4,
 "nbformat_minor": 2
}
