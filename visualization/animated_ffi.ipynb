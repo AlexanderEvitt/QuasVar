{
 "cells": [
  {
   "cell_type": "code",
   "execution_count": 1,
   "metadata": {},
   "outputs": [],
   "source": [
    "import os\n",
    "import re\n",
    "import shutil\n",
    "from multiprocessing import Pool\n",
    "import requests\n",
    "from astropy.io import fits\n",
    "from astropy.wcs import WCS\n",
    "import matplotlib.pyplot as plt\n",
    "import numpy as np\n",
    "from IPython.display import clear_output\n",
    "import requests\n",
    "from astroquery.mast import Tesscut\n",
    "from astropy.coordinates import SkyCoord\n",
    "import imageio\n",
    "from os import listdir\n",
    "from os.path import isfile, join\n",
    "\n",
    "image_dir = 'E:/ffi/'\n",
    "script_url = \"https://archive.stsci.edu/missions/tess/download_scripts/sector\"\n",
    "script_url += \"/tesscurl_sector_{0}_ffic.sh\"\n",
    "\n",
    "def get_sector_table(ra,dec):\n",
    "    coord = SkyCoord(ra,dec,unit='deg')\n",
    "    sector_table = Tesscut.get_sectors(coordinates=coord)\n",
    "    print(sector_table)\n",
    "    \n",
    "def get_url_list(sector, camera=None, chip=None):\n",
    "    \"\"\"Get the list of FFI URLs by fetching the MAST bulk download script\"\"\"\n",
    "\n",
    "    # Construct the regular expression pattern\n",
    "    pattern = \"-s{0:04d}-\".format(sector)\n",
    "    if camera is None:\n",
    "        pattern += \"([1-4]+)-\"\n",
    "    else:\n",
    "        pattern += \"{0:d}-\".format(camera)\n",
    "    if chip is None:\n",
    "        pattern += \"([1-4]+)-\"\n",
    "    else:\n",
    "        pattern += \"{0:d}-\".format(chip)\n",
    "    prog = re.compile(pattern)\n",
    "\n",
    "    # Download the bulk download script\n",
    "    r = requests.get(script_url.format(sector))\n",
    "    r.raise_for_status()\n",
    "\n",
    "    # Loop over lines in the script and construct the right filenames\n",
    "    urls = []\n",
    "    for line in r.text.splitlines():\n",
    "        if line.startswith(\"#\"):\n",
    "            continue\n",
    "        if len(prog.findall(line)) == 0:\n",
    "            continue\n",
    "        line = line.strip()\n",
    "        fn, url = line.split()[-2:]\n",
    "        year = fn[4:8]\n",
    "        num = fn[8:11]\n",
    "        sector, chip, ccd = fn.split(\"-\")[1:4]\n",
    "        path = \"tess/ffi/{0}/{1}/{2}/{3}-{4}/{5}\".format(sector, year, num,\n",
    "                                                         chip, ccd, fn)\n",
    "        urls.append(url)\n",
    "\n",
    "    return urls\n",
    "\n",
    "def make_images(filenames):\n",
    "    print('There are ' + str(len(filenames)) + ' images to make.')\n",
    "    numb = 0\n",
    "    for fits_file in filenames:\n",
    "        fits_file = fits_file[69:]\n",
    "        with fits.open(image_dir + fits_file, mode = \"readonly\") as hdulist:\n",
    "            wcs_info = WCS(hdulist[1].header)\n",
    "            cal_image = hdulist[1].data\n",
    "            header = hdulist[1].header\n",
    "\n",
    "        mid_time = header['TSTART']\n",
    "\n",
    "        plt.figure(figsize = (8,8))\n",
    "\n",
    "        plt.subplot(111, projection = wcs_info)\n",
    "        plt.imshow(cal_image, vmin = np.percentile(cal_image,4),vmax = np.percentile(cal_image, 98),cmap=plt.cm.bone,origin = \"lower\")\n",
    "        plt.xlabel('RA')\n",
    "        plt.ylabel('Dec')\n",
    "        plt.title(\"TESS Calibrated FFI for Sector 1, Camera 4, CCD 2, Timestamp %f BTJD\" % mid_time)\n",
    "        plt.savefig(image_dir + str(mid_time)+'.png',dpi=300)\n",
    "        plt.close()\n",
    "        clear_output()\n",
    "        del wcs_info, cal_image, header\n",
    "        print(str(numb) + \" / \" + str(len(filenames)) + \"     \" + str(100*numb/len(filenames)) + '%')\n",
    "        numb = numb + 1\n",
    "    clear_output()\n",
    "    print(\"Images generated.\")\n",
    "        \n",
    "def download(filenames):\n",
    "    numb = 0\n",
    "    for file in filenames:\n",
    "        myfile = requests.get(file)\n",
    "        open(image_dir + str(file)[69:], 'wb').write(myfile.content)\n",
    "        numb = numb + 1\n",
    "        clear_output()\n",
    "        print(str(numb) + \" / \" + str(len(filenames)) + \"     \" + str(100*numb/len(filenames)) + '%')\n",
    "        \n",
    "def make_movie():\n",
    "    filenames = []\n",
    "    for files in listdir(image_dir):\n",
    "        filenames.append(image_dir + files)\n",
    "    with imageio.get_writer(image_dir + '/17-1-3.mp4', mode='I',fps=20) as writer:\n",
    "        num = 0\n",
    "        for filename in filenames:\n",
    "            try:\n",
    "                image = imageio.imread(filename)\n",
    "                writer.append_data(image)\n",
    "                clear_output()\n",
    "                print(num)\n",
    "                num = num + 1\n",
    "            except:\n",
    "                pass"
   ]
  },
  {
   "cell_type": "code",
   "execution_count": 2,
   "metadata": {
    "scrolled": true
   },
   "outputs": [
    {
     "name": "stdout",
     "output_type": "stream",
     "text": [
      "239\n"
     ]
    }
   ],
   "source": [
    "get_sector_table(216.75163244734077,23.80001035455686)\n",
    "filenames = get_url_list(23,camera=2,chip=4)[1:1200:5]\n",
    "download(filenames)\n",
    "make_images(filenames)\n",
    "make_movie()"
   ]
  },
  {
   "cell_type": "code",
   "execution_count": 6,
   "metadata": {},
   "outputs": [
    {
     "data": {
      "text/plain": [
       "'14h27m00.3918s +23d48m00.0373s'"
      ]
     },
     "execution_count": 6,
     "metadata": {},
     "output_type": "execute_result"
    }
   ],
   "source": [
    "from astropy import units as u\n",
    "from astropy.coordinates import SkyCoord\n",
    "\n",
    "c = SkyCoord(ra=216.75163244734077 *u.degree, dec=23.80001035455686*u.degree, frame='icrs')\n",
    "c.to_string('hmsdms')"
   ]
  },
  {
   "cell_type": "code",
   "execution_count": 13,
   "metadata": {},
   "outputs": [
    {
     "name": "stdout",
     "output_type": "stream",
     "text": [
      "59\n"
     ]
    }
   ],
   "source": [
    "216.75163244734077 "
   ]
  },
  {
   "cell_type": "code",
   "execution_count": null,
   "metadata": {},
   "outputs": [],
   "source": [
    "23.80001035455686"
   ]
  }
 ],
 "metadata": {
  "kernelspec": {
   "display_name": "Python 3",
   "language": "python",
   "name": "python3"
  },
  "language_info": {
   "codemirror_mode": {
    "name": "ipython",
    "version": 3
   },
   "file_extension": ".py",
   "mimetype": "text/x-python",
   "name": "python",
   "nbconvert_exporter": "python",
   "pygments_lexer": "ipython3",
   "version": "3.8.3"
  }
 },
 "nbformat": 4,
 "nbformat_minor": 4
}
