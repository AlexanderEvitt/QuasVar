{
 "cells": [
  {
   "cell_type": "code",
   "execution_count": 22,
   "metadata": {},
   "outputs": [],
   "source": [
    "import os\n",
    "import re\n",
    "import shutil\n",
    "from multiprocessing import Pool\n",
    "import requests\n",
    "from astropy.io import fits\n",
    "from astropy.wcs import WCS\n",
    "import matplotlib.pyplot as plt\n",
    "import numpy as np\n",
    "from IPython.display import clear_output\n",
    "import requests\n",
    "from astroquery.mast import Tesscut\n",
    "from astropy.coordinates import SkyCoord\n",
    "import imageio\n",
    "from os import listdir\n",
    "from os.path import isfile, join\n",
    "\n",
    "image_dir = 'E:/ffi/obs3/'\n",
    "script_url = \"https://archive.stsci.edu/missions/tess/download_scripts/sector\"\n",
    "script_url += \"/tesscurl_sector_{0}_ffic.sh\"\n",
    "\n",
    "def get_sector_table(ra,dec):\n",
    "    coord = SkyCoord(ra,dec,unit='deg')\n",
    "    sector_table = Tesscut.get_sectors(coordinates=coord)\n",
    "    print(sector_table)\n",
    "    \n",
    "def get_url_list(sector, camera=None, chip=None):\n",
    "    \"\"\"Get the list of FFI URLs by fetching the MAST bulk download script\"\"\"\n",
    "\n",
    "    # Construct the regular expression pattern\n",
    "    pattern = \"-s{0:04d}-\".format(sector)\n",
    "    if camera is None:\n",
    "        pattern += \"([1-4]+)-\"\n",
    "    else:\n",
    "        pattern += \"{0:d}-\".format(camera)\n",
    "    if chip is None:\n",
    "        pattern += \"([1-4]+)-\"\n",
    "    else:\n",
    "        pattern += \"{0:d}-\".format(chip)\n",
    "    prog = re.compile(pattern)\n",
    "\n",
    "    # Download the bulk download script\n",
    "    r = requests.get(script_url.format(sector))\n",
    "    r.raise_for_status()\n",
    "\n",
    "    # Loop over lines in the script and construct the right filenames\n",
    "    urls = []\n",
    "    for line in r.text.splitlines():\n",
    "        if line.startswith(\"#\"):\n",
    "            continue\n",
    "        if len(prog.findall(line)) == 0:\n",
    "            continue\n",
    "        line = line.strip()\n",
    "        fn, url = line.split()[-2:]\n",
    "        year = fn[4:8]\n",
    "        num = fn[8:11]\n",
    "        sector, chip, ccd = fn.split(\"-\")[1:4]\n",
    "        path = \"tess/ffi/{0}/{1}/{2}/{3}-{4}/{5}\".format(sector, year, num,\n",
    "                                                         chip, ccd, fn)\n",
    "        urls.append(url)\n",
    "\n",
    "    return urls\n",
    "\n",
    "def make_images(filenames):\n",
    "    print('There are ' + str(len(filenames)) + ' images to make.')\n",
    "    numb = 0\n",
    "    for fits_file in filenames:\n",
    "        fits_file = fits_file[69:]\n",
    "        with fits.open(image_dir + fits_file, mode = \"readonly\") as hdulist:\n",
    "            wcs_info = WCS(hdulist[1].header)\n",
    "            cal_image = hdulist[1].data\n",
    "            header = hdulist[1].header\n",
    "\n",
    "        mid_time = header['TSTART']\n",
    "\n",
    "        plt.figure(figsize = (8,8))\n",
    "\n",
    "        plt.subplot(111, projection = wcs_info)\n",
    "        plt.imshow(cal_image, vmin = np.percentile(cal_image,4),vmax = np.percentile(cal_image, 98),cmap=plt.cm.bone,origin = \"lower\")\n",
    "        plt.xlabel('RA')\n",
    "        plt.ylabel('Dec')\n",
    "        plt.title(\"TESS Calibrated FFI for Sector 1, Camera 4, CCD 2, Timestamp %f BTJD\" % mid_time)\n",
    "        plt.savefig(image_dir + str(mid_time)+'.png',dpi=300)\n",
    "        plt.close()\n",
    "        clear_output()\n",
    "        del wcs_info, cal_image, header\n",
    "        print(str(numb) + \" / \" + str(len(filenames)) + \"     \" + str(100*numb/len(filenames)) + '%')\n",
    "        numb = numb + 1\n",
    "    clear_output()\n",
    "    print(\"Images generated.\")\n",
    "        \n",
    "def download(filenames):\n",
    "    numb = 0\n",
    "    for file in filenames:\n",
    "        myfile = requests.get(file)\n",
    "        open(image_dir + str(file)[69:], 'wb').write(myfile.content)\n",
    "        numb = numb + 1\n",
    "        clear_output()\n",
    "        print(str(numb) + \" / \" + str(len(filenames)) + \"     \" + str(100*numb/len(filenames)) + '%')\n",
    "        \n",
    "def make_movie():\n",
    "    filenames = []\n",
    "    for files in listdir(image_dir):\n",
    "        filenames.append(image_dir + files)\n",
    "    with imageio.get_writer(image_dir + '/17-1-2.mp4', mode='I',fps=10) as writer:\n",
    "        num = 0\n",
    "        for filename in filenames:\n",
    "            try:\n",
    "                image = imageio.imread(filename)\n",
    "                writer.append_data(image)\n",
    "                clear_output()\n",
    "                print(num)\n",
    "                num = num + 1\n",
    "            except:\n",
    "                pass"
   ]
  },
  {
   "cell_type": "code",
   "execution_count": 23,
   "metadata": {},
   "outputs": [
    {
     "name": "stdout",
     "output_type": "stream",
     "text": [
      "  sectorName   sector camera ccd\n",
      "-------------- ------ ------ ---\n",
      "tess-s0017-1-2     17      1   2\n"
     ]
    }
   ],
   "source": [
    "get_sector_table(0,29.75)"
   ]
  },
  {
   "cell_type": "code",
   "execution_count": 24,
   "metadata": {},
   "outputs": [
    {
     "name": "stdout",
     "output_type": "stream",
     "text": [
      "112 / 226     49.557522123893804%\n"
     ]
    },
    {
     "ename": "OSError",
     "evalue": "Header missing END card.",
     "output_type": "error",
     "traceback": [
      "\u001b[1;31m---------------------------------------------------------------------------\u001b[0m",
      "\u001b[1;31mException\u001b[0m                                 Traceback (most recent call last)",
      "\u001b[1;32m~\\anaconda3\\lib\\site-packages\\astropy\\io\\fits\\hdu\\base.py\u001b[0m in \u001b[0;36m_readfrom_internal\u001b[1;34m(cls, data, header, checksum, ignore_missing_end, **kwargs)\u001b[0m\n\u001b[0;32m    405\u001b[0m                     \u001b[1;31m# that are needed to build the HDU object.\u001b[0m\u001b[1;33m\u001b[0m\u001b[1;33m\u001b[0m\u001b[1;33m\u001b[0m\u001b[0m\n\u001b[1;32m--> 406\u001b[1;33m                     \u001b[0mheader_str\u001b[0m\u001b[1;33m,\u001b[0m \u001b[0mheader\u001b[0m \u001b[1;33m=\u001b[0m \u001b[0m_BasicHeader\u001b[0m\u001b[1;33m.\u001b[0m\u001b[0mfromfile\u001b[0m\u001b[1;33m(\u001b[0m\u001b[0mdata\u001b[0m\u001b[1;33m)\u001b[0m\u001b[1;33m\u001b[0m\u001b[1;33m\u001b[0m\u001b[0m\n\u001b[0m\u001b[0;32m    407\u001b[0m                 \u001b[1;32mexcept\u001b[0m \u001b[0mException\u001b[0m\u001b[1;33m:\u001b[0m\u001b[1;33m\u001b[0m\u001b[1;33m\u001b[0m\u001b[0m\n",
      "\u001b[1;32m~\\anaconda3\\lib\\site-packages\\astropy\\io\\fits\\header.py\u001b[0m in \u001b[0;36mfromfile\u001b[1;34m(cls, fileobj)\u001b[0m\n\u001b[0;32m   2084\u001b[0m         \u001b[1;32mtry\u001b[0m\u001b[1;33m:\u001b[0m\u001b[1;33m\u001b[0m\u001b[1;33m\u001b[0m\u001b[0m\n\u001b[1;32m-> 2085\u001b[1;33m             \u001b[0mheader_str\u001b[0m\u001b[1;33m,\u001b[0m \u001b[0mcards\u001b[0m \u001b[1;33m=\u001b[0m \u001b[0mparse_header\u001b[0m\u001b[1;33m(\u001b[0m\u001b[0mfileobj\u001b[0m\u001b[1;33m)\u001b[0m\u001b[1;33m\u001b[0m\u001b[1;33m\u001b[0m\u001b[0m\n\u001b[0m\u001b[0;32m   2086\u001b[0m             \u001b[0m_check_padding\u001b[0m\u001b[1;33m(\u001b[0m\u001b[0mheader_str\u001b[0m\u001b[1;33m,\u001b[0m \u001b[0mBLOCK_SIZE\u001b[0m\u001b[1;33m,\u001b[0m \u001b[1;32mFalse\u001b[0m\u001b[1;33m)\u001b[0m\u001b[1;33m\u001b[0m\u001b[1;33m\u001b[0m\u001b[0m\n",
      "\u001b[1;32mastropy\\io\\fits\\_utils.pyx\u001b[0m in \u001b[0;36mastropy.io.fits._utils.parse_header\u001b[1;34m()\u001b[0m\n",
      "\u001b[1;31mException\u001b[0m: ",
      "\nDuring handling of the above exception, another exception occurred:\n",
      "\u001b[1;31mOSError\u001b[0m                                   Traceback (most recent call last)",
      "\u001b[1;32m<ipython-input-24-b3a4da7c6ebd>\u001b[0m in \u001b[0;36m<module>\u001b[1;34m\u001b[0m\n\u001b[0;32m      1\u001b[0m \u001b[0mfilenames\u001b[0m \u001b[1;33m=\u001b[0m \u001b[0mget_url_list\u001b[0m\u001b[1;33m(\u001b[0m\u001b[1;36m17\u001b[0m\u001b[1;33m,\u001b[0m\u001b[0mcamera\u001b[0m\u001b[1;33m=\u001b[0m\u001b[1;36m1\u001b[0m\u001b[1;33m,\u001b[0m\u001b[0mchip\u001b[0m\u001b[1;33m=\u001b[0m\u001b[1;36m1\u001b[0m\u001b[1;33m)\u001b[0m\u001b[1;33m[\u001b[0m\u001b[1;36m1\u001b[0m\u001b[1;33m:\u001b[0m\u001b[1;36m1200\u001b[0m\u001b[1;33m:\u001b[0m\u001b[1;36m5\u001b[0m\u001b[1;33m]\u001b[0m\u001b[1;33m\u001b[0m\u001b[1;33m\u001b[0m\u001b[0m\n\u001b[0;32m      2\u001b[0m \u001b[0mdownload\u001b[0m\u001b[1;33m(\u001b[0m\u001b[0mfilenames\u001b[0m\u001b[1;33m)\u001b[0m\u001b[1;33m\u001b[0m\u001b[1;33m\u001b[0m\u001b[0m\n\u001b[1;32m----> 3\u001b[1;33m \u001b[0mmake_images\u001b[0m\u001b[1;33m(\u001b[0m\u001b[0mfilenames\u001b[0m\u001b[1;33m)\u001b[0m\u001b[1;33m\u001b[0m\u001b[1;33m\u001b[0m\u001b[0m\n\u001b[0m\u001b[0;32m      4\u001b[0m \u001b[0mmake_movie\u001b[0m\u001b[1;33m(\u001b[0m\u001b[1;33m)\u001b[0m\u001b[1;33m\u001b[0m\u001b[1;33m\u001b[0m\u001b[0m\n",
      "\u001b[1;32m<ipython-input-22-5d1c6c7a22dd>\u001b[0m in \u001b[0;36mmake_images\u001b[1;34m(filenames)\u001b[0m\n\u001b[0;32m     67\u001b[0m     \u001b[1;32mfor\u001b[0m \u001b[0mfits_file\u001b[0m \u001b[1;32min\u001b[0m \u001b[0mfilenames\u001b[0m\u001b[1;33m:\u001b[0m\u001b[1;33m\u001b[0m\u001b[1;33m\u001b[0m\u001b[0m\n\u001b[0;32m     68\u001b[0m         \u001b[0mfits_file\u001b[0m \u001b[1;33m=\u001b[0m \u001b[0mfits_file\u001b[0m\u001b[1;33m[\u001b[0m\u001b[1;36m69\u001b[0m\u001b[1;33m:\u001b[0m\u001b[1;33m]\u001b[0m\u001b[1;33m\u001b[0m\u001b[1;33m\u001b[0m\u001b[0m\n\u001b[1;32m---> 69\u001b[1;33m         \u001b[1;32mwith\u001b[0m \u001b[0mfits\u001b[0m\u001b[1;33m.\u001b[0m\u001b[0mopen\u001b[0m\u001b[1;33m(\u001b[0m\u001b[0mimage_dir\u001b[0m \u001b[1;33m+\u001b[0m \u001b[0mfits_file\u001b[0m\u001b[1;33m,\u001b[0m \u001b[0mmode\u001b[0m \u001b[1;33m=\u001b[0m \u001b[1;34m\"readonly\"\u001b[0m\u001b[1;33m)\u001b[0m \u001b[1;32mas\u001b[0m \u001b[0mhdulist\u001b[0m\u001b[1;33m:\u001b[0m\u001b[1;33m\u001b[0m\u001b[1;33m\u001b[0m\u001b[0m\n\u001b[0m\u001b[0;32m     70\u001b[0m             \u001b[0mwcs_info\u001b[0m \u001b[1;33m=\u001b[0m \u001b[0mWCS\u001b[0m\u001b[1;33m(\u001b[0m\u001b[0mhdulist\u001b[0m\u001b[1;33m[\u001b[0m\u001b[1;36m1\u001b[0m\u001b[1;33m]\u001b[0m\u001b[1;33m.\u001b[0m\u001b[0mheader\u001b[0m\u001b[1;33m)\u001b[0m\u001b[1;33m\u001b[0m\u001b[1;33m\u001b[0m\u001b[0m\n\u001b[0;32m     71\u001b[0m             \u001b[0mcal_image\u001b[0m \u001b[1;33m=\u001b[0m \u001b[0mhdulist\u001b[0m\u001b[1;33m[\u001b[0m\u001b[1;36m1\u001b[0m\u001b[1;33m]\u001b[0m\u001b[1;33m.\u001b[0m\u001b[0mdata\u001b[0m\u001b[1;33m\u001b[0m\u001b[1;33m\u001b[0m\u001b[0m\n",
      "\u001b[1;32m~\\anaconda3\\lib\\site-packages\\astropy\\io\\fits\\hdu\\hdulist.py\u001b[0m in \u001b[0;36mfitsopen\u001b[1;34m(name, mode, memmap, save_backup, cache, lazy_load_hdus, **kwargs)\u001b[0m\n\u001b[0;32m    162\u001b[0m         \u001b[1;32mraise\u001b[0m \u001b[0mValueError\u001b[0m\u001b[1;33m(\u001b[0m\u001b[1;34mf'Empty filename: {name!r}'\u001b[0m\u001b[1;33m)\u001b[0m\u001b[1;33m\u001b[0m\u001b[1;33m\u001b[0m\u001b[0m\n\u001b[0;32m    163\u001b[0m \u001b[1;33m\u001b[0m\u001b[0m\n\u001b[1;32m--> 164\u001b[1;33m     return HDUList.fromfile(name, mode, memmap, save_backup, cache,\n\u001b[0m\u001b[0;32m    165\u001b[0m                             lazy_load_hdus, **kwargs)\n\u001b[0;32m    166\u001b[0m \u001b[1;33m\u001b[0m\u001b[0m\n",
      "\u001b[1;32m~\\anaconda3\\lib\\site-packages\\astropy\\io\\fits\\hdu\\hdulist.py\u001b[0m in \u001b[0;36mfromfile\u001b[1;34m(cls, fileobj, mode, memmap, save_backup, cache, lazy_load_hdus, **kwargs)\u001b[0m\n\u001b[0;32m    399\u001b[0m         \"\"\"\n\u001b[0;32m    400\u001b[0m \u001b[1;33m\u001b[0m\u001b[0m\n\u001b[1;32m--> 401\u001b[1;33m         return cls._readfrom(fileobj=fileobj, mode=mode, memmap=memmap,\n\u001b[0m\u001b[0;32m    402\u001b[0m                              \u001b[0msave_backup\u001b[0m\u001b[1;33m=\u001b[0m\u001b[0msave_backup\u001b[0m\u001b[1;33m,\u001b[0m \u001b[0mcache\u001b[0m\u001b[1;33m=\u001b[0m\u001b[0mcache\u001b[0m\u001b[1;33m,\u001b[0m\u001b[1;33m\u001b[0m\u001b[1;33m\u001b[0m\u001b[0m\n\u001b[0;32m    403\u001b[0m                              lazy_load_hdus=lazy_load_hdus, **kwargs)\n",
      "\u001b[1;32m~\\anaconda3\\lib\\site-packages\\astropy\\io\\fits\\hdu\\hdulist.py\u001b[0m in \u001b[0;36m_readfrom\u001b[1;34m(cls, fileobj, data, mode, memmap, cache, lazy_load_hdus, **kwargs)\u001b[0m\n\u001b[0;32m   1075\u001b[0m \u001b[1;33m\u001b[0m\u001b[0m\n\u001b[0;32m   1076\u001b[0m         \u001b[1;31m# Make sure at least the PRIMARY HDU can be read\u001b[0m\u001b[1;33m\u001b[0m\u001b[1;33m\u001b[0m\u001b[1;33m\u001b[0m\u001b[0m\n\u001b[1;32m-> 1077\u001b[1;33m         \u001b[0mread_one\u001b[0m \u001b[1;33m=\u001b[0m \u001b[0mhdulist\u001b[0m\u001b[1;33m.\u001b[0m\u001b[0m_read_next_hdu\u001b[0m\u001b[1;33m(\u001b[0m\u001b[1;33m)\u001b[0m\u001b[1;33m\u001b[0m\u001b[1;33m\u001b[0m\u001b[0m\n\u001b[0m\u001b[0;32m   1078\u001b[0m \u001b[1;33m\u001b[0m\u001b[0m\n\u001b[0;32m   1079\u001b[0m         \u001b[1;31m# If we're trying to read only and no header units were found,\u001b[0m\u001b[1;33m\u001b[0m\u001b[1;33m\u001b[0m\u001b[1;33m\u001b[0m\u001b[0m\n",
      "\u001b[1;32m~\\anaconda3\\lib\\site-packages\\astropy\\io\\fits\\hdu\\hdulist.py\u001b[0m in \u001b[0;36m_read_next_hdu\u001b[1;34m(self)\u001b[0m\n\u001b[0;32m   1150\u001b[0m                                 \u001b[0mfileobj\u001b[0m\u001b[1;33m.\u001b[0m\u001b[0mseek\u001b[0m\u001b[1;33m(\u001b[0m\u001b[0moffset\u001b[0m\u001b[1;33m,\u001b[0m \u001b[0mos\u001b[0m\u001b[1;33m.\u001b[0m\u001b[0mSEEK_SET\u001b[0m\u001b[1;33m)\u001b[0m\u001b[1;33m\u001b[0m\u001b[1;33m\u001b[0m\u001b[0m\n\u001b[0;32m   1151\u001b[0m \u001b[1;33m\u001b[0m\u001b[0m\n\u001b[1;32m-> 1152\u001b[1;33m                         \u001b[0mhdu\u001b[0m \u001b[1;33m=\u001b[0m \u001b[0m_BaseHDU\u001b[0m\u001b[1;33m.\u001b[0m\u001b[0mreadfrom\u001b[0m\u001b[1;33m(\u001b[0m\u001b[0mfileobj\u001b[0m\u001b[1;33m,\u001b[0m \u001b[1;33m**\u001b[0m\u001b[0mkwargs\u001b[0m\u001b[1;33m)\u001b[0m\u001b[1;33m\u001b[0m\u001b[1;33m\u001b[0m\u001b[0m\n\u001b[0m\u001b[0;32m   1153\u001b[0m                     \u001b[1;32mexcept\u001b[0m \u001b[0mEOFError\u001b[0m\u001b[1;33m:\u001b[0m\u001b[1;33m\u001b[0m\u001b[1;33m\u001b[0m\u001b[0m\n\u001b[0;32m   1154\u001b[0m                         \u001b[0mself\u001b[0m\u001b[1;33m.\u001b[0m\u001b[0m_read_all\u001b[0m \u001b[1;33m=\u001b[0m \u001b[1;32mTrue\u001b[0m\u001b[1;33m\u001b[0m\u001b[1;33m\u001b[0m\u001b[0m\n",
      "\u001b[1;32m~\\anaconda3\\lib\\site-packages\\astropy\\io\\fits\\hdu\\base.py\u001b[0m in \u001b[0;36mreadfrom\u001b[1;34m(cls, fileobj, checksum, ignore_missing_end, **kwargs)\u001b[0m\n\u001b[0;32m    323\u001b[0m             \u001b[0mfileobj\u001b[0m \u001b[1;33m=\u001b[0m \u001b[0m_File\u001b[0m\u001b[1;33m(\u001b[0m\u001b[0mfileobj\u001b[0m\u001b[1;33m)\u001b[0m\u001b[1;33m\u001b[0m\u001b[1;33m\u001b[0m\u001b[0m\n\u001b[0;32m    324\u001b[0m \u001b[1;33m\u001b[0m\u001b[0m\n\u001b[1;32m--> 325\u001b[1;33m         hdu = cls._readfrom_internal(fileobj, checksum=checksum,\n\u001b[0m\u001b[0;32m    326\u001b[0m                                      \u001b[0mignore_missing_end\u001b[0m\u001b[1;33m=\u001b[0m\u001b[0mignore_missing_end\u001b[0m\u001b[1;33m,\u001b[0m\u001b[1;33m\u001b[0m\u001b[1;33m\u001b[0m\u001b[0m\n\u001b[0;32m    327\u001b[0m                                      **kwargs)\n",
      "\u001b[1;32m~\\anaconda3\\lib\\site-packages\\astropy\\io\\fits\\hdu\\base.py\u001b[0m in \u001b[0;36m_readfrom_internal\u001b[1;34m(cls, data, header, checksum, ignore_missing_end, **kwargs)\u001b[0m\n\u001b[0;32m    411\u001b[0m                     \u001b[1;31m# in the wild.\u001b[0m\u001b[1;33m\u001b[0m\u001b[1;33m\u001b[0m\u001b[1;33m\u001b[0m\u001b[0m\n\u001b[0;32m    412\u001b[0m                     \u001b[0mdata\u001b[0m\u001b[1;33m.\u001b[0m\u001b[0mseek\u001b[0m\u001b[1;33m(\u001b[0m\u001b[0mheader_offset\u001b[0m\u001b[1;33m)\u001b[0m\u001b[1;33m\u001b[0m\u001b[1;33m\u001b[0m\u001b[0m\n\u001b[1;32m--> 413\u001b[1;33m                     header = Header.fromfile(data,\n\u001b[0m\u001b[0;32m    414\u001b[0m                                              endcard=not ignore_missing_end)\n\u001b[0;32m    415\u001b[0m             \u001b[0mhdu_fileobj\u001b[0m \u001b[1;33m=\u001b[0m \u001b[0mdata\u001b[0m\u001b[1;33m\u001b[0m\u001b[1;33m\u001b[0m\u001b[0m\n",
      "\u001b[1;32m~\\anaconda3\\lib\\site-packages\\astropy\\io\\fits\\header.py\u001b[0m in \u001b[0;36mfromfile\u001b[1;34m(cls, fileobj, sep, endcard, padding)\u001b[0m\n\u001b[0;32m    520\u001b[0m                         \u001b[1;32mbreak\u001b[0m\u001b[1;33m\u001b[0m\u001b[1;33m\u001b[0m\u001b[0m\n\u001b[0;32m    521\u001b[0m \u001b[1;33m\u001b[0m\u001b[0m\n\u001b[1;32m--> 522\u001b[1;33m             return cls._from_blocks(block_iter, is_binary, sep, endcard,\n\u001b[0m\u001b[0;32m    523\u001b[0m                                     padding)[1]\n\u001b[0;32m    524\u001b[0m         \u001b[1;32mfinally\u001b[0m\u001b[1;33m:\u001b[0m\u001b[1;33m\u001b[0m\u001b[1;33m\u001b[0m\u001b[0m\n",
      "\u001b[1;32m~\\anaconda3\\lib\\site-packages\\astropy\\io\\fits\\header.py\u001b[0m in \u001b[0;36m_from_blocks\u001b[1;34m(cls, block_iter, is_binary, sep, endcard, padding)\u001b[0m\n\u001b[0;32m    603\u001b[0m             \u001b[1;31m# TODO: Pass this error to validation framework as an ERROR,\u001b[0m\u001b[1;33m\u001b[0m\u001b[1;33m\u001b[0m\u001b[1;33m\u001b[0m\u001b[0m\n\u001b[0;32m    604\u001b[0m             \u001b[1;31m# rather than raising an exception\u001b[0m\u001b[1;33m\u001b[0m\u001b[1;33m\u001b[0m\u001b[1;33m\u001b[0m\u001b[0m\n\u001b[1;32m--> 605\u001b[1;33m             \u001b[1;32mraise\u001b[0m \u001b[0mOSError\u001b[0m\u001b[1;33m(\u001b[0m\u001b[1;34m'Header missing END card.'\u001b[0m\u001b[1;33m)\u001b[0m\u001b[1;33m\u001b[0m\u001b[1;33m\u001b[0m\u001b[0m\n\u001b[0m\u001b[0;32m    606\u001b[0m \u001b[1;33m\u001b[0m\u001b[0m\n\u001b[0;32m    607\u001b[0m         \u001b[0mheader_str\u001b[0m \u001b[1;33m=\u001b[0m \u001b[1;34m''\u001b[0m\u001b[1;33m.\u001b[0m\u001b[0mjoin\u001b[0m\u001b[1;33m(\u001b[0m\u001b[0mread_blocks\u001b[0m\u001b[1;33m)\u001b[0m\u001b[1;33m\u001b[0m\u001b[1;33m\u001b[0m\u001b[0m\n",
      "\u001b[1;31mOSError\u001b[0m: Header missing END card."
     ]
    }
   ],
   "source": [
    "filenames = get_url_list(17,camera=1,chip=1)[1:1200:5]\n",
    "download(filenames)\n",
    "make_images(filenames)\n",
    "make_movie()"
   ]
  },
  {
   "cell_type": "code",
   "execution_count": 25,
   "metadata": {},
   "outputs": [
    {
     "name": "stdout",
     "output_type": "stream",
     "text": [
      "112\n"
     ]
    }
   ],
   "source": [
    "make_movie()"
   ]
  },
  {
   "cell_type": "code",
   "execution_count": 12,
   "metadata": {},
   "outputs": [
    {
     "name": "stdout",
     "output_type": "stream",
     "text": [
      "Collecting imageio-ffmpeg\n",
      "  Using cached imageio_ffmpeg-0.4.3-py3-none-win_amd64.whl (22.6 MB)\n",
      "Installing collected packages: imageio-ffmpeg\n",
      "Successfully installed imageio-ffmpeg-0.4.3\n",
      "Note: you may need to restart the kernel to use updated packages.\n"
     ]
    }
   ],
   "source": [
    "pip install imageio-ffmpeg"
   ]
  },
  {
   "cell_type": "code",
   "execution_count": null,
   "metadata": {},
   "outputs": [],
   "source": []
  }
 ],
 "metadata": {
  "kernelspec": {
   "display_name": "Python 3",
   "language": "python",
   "name": "python3"
  },
  "language_info": {
   "codemirror_mode": {
    "name": "ipython",
    "version": 3
   },
   "file_extension": ".py",
   "mimetype": "text/x-python",
   "name": "python",
   "nbconvert_exporter": "python",
   "pygments_lexer": "ipython3",
   "version": "3.8.3"
  }
 },
 "nbformat": 4,
 "nbformat_minor": 4
}
