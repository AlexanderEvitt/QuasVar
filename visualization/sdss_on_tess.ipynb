{
 "cells": [
  {
   "cell_type": "code",
   "execution_count": 2,
   "id": "laden-sociology",
   "metadata": {},
   "outputs": [],
   "source": [
    "import os\n",
    "import re\n",
    "import shutil\n",
    "from multiprocessing import Pool\n",
    "import requests\n",
    "from astropy.io import fits\n",
    "from astropy.wcs import WCS\n",
    "import matplotlib.pyplot as plt\n",
    "import numpy as np\n",
    "from IPython.display import clear_output\n",
    "import requests\n",
    "from astroquery.mast import Tesscut\n",
    "from astropy.coordinates import SkyCoord\n",
    "import imageio\n",
    "from os import listdir\n",
    "from os.path import isfile, join\n",
    "\n",
    "image_dir = 'E:/ffi/'\n",
    "script_url = \"https://archive.stsci.edu/missions/tess/download_scripts/sector\"\n",
    "script_url += \"/tesscurl_sector_{0}_ffic.sh\""
   ]
  },
  {
   "cell_type": "code",
   "execution_count": 3,
   "id": "american-apparel",
   "metadata": {},
   "outputs": [
    {
     "name": "stdout",
     "output_type": "stream",
     "text": [
      "  sectorName   sector camera ccd\n",
      "-------------- ------ ------ ---\n",
      "tess-s0023-2-4     23      2   4\n",
      "tess-s0024-1-3     24      1   3\n"
     ]
    }
   ],
   "source": [
    "def get_sector_table(ra,dec):\n",
    "    coord = SkyCoord(ra,dec,unit='deg')\n",
    "    sector_table = Tesscut.get_sectors(coordinates=coord)\n",
    "    print(sector_table)\n",
    "    \n",
    "get_sector_table(216.75163244734077,23.80001035455686)"
   ]
  },
  {
   "cell_type": "code",
   "execution_count": null,
   "id": "handled-adapter",
   "metadata": {},
   "outputs": [],
   "source": []
  }
 ],
 "metadata": {
  "kernelspec": {
   "display_name": "Python 3",
   "language": "python",
   "name": "python3"
  },
  "language_info": {
   "codemirror_mode": {
    "name": "ipython",
    "version": 3
   },
   "file_extension": ".py",
   "mimetype": "text/x-python",
   "name": "python",
   "nbconvert_exporter": "python",
   "pygments_lexer": "ipython3",
   "version": "3.7.9"
  }
 },
 "nbformat": 4,
 "nbformat_minor": 5
}
