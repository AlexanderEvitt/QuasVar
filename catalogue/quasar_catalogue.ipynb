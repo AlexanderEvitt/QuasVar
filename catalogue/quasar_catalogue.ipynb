{
 "cells": [
  {
   "cell_type": "code",
   "execution_count": 1,
   "metadata": {},
   "outputs": [],
   "source": [
    "import numpy as np\n",
    "import pandas as pd\n",
    "from astropy.io import fits\n",
    "from astroquery.mast import Catalogs, Observations\n",
    "from astropy.table import Table, vstack\n",
    "import time\n",
    "import matplotlib\n",
    "import matplotlib.pyplot as plt\n",
    "from astropy import units as u\n",
    "from astropy.coordinates import SkyCoord\n",
    "import matplotlib.cm as cm\n",
    "import astropy.coordinates as ac\n",
    "import seaborn as sns\n",
    "from tess_stars2px import tess_stars2px_function_entry as tess_stars2px\n",
    "import math\n",
    "\n",
    "catalogue_dir = 'E:/catalogues/'"
   ]
  },
  {
   "cell_type": "code",
   "execution_count": null,
   "metadata": {},
   "outputs": [],
   "source": [
    "data = pd.read_table(catalogue_dir + 'SDSS-DR12Q-BH.dat')\n",
    "'''\n",
    "Mass data borrowed from https://arxiv.org/pdf/1609.09489.pdf\n",
    "\n",
    "   Bytes Format Units Label      Explanations\n",
    "--------------------------------------------------------------------------------\n",
    "   1- 10 F10.6  deg   RAdeg      Right Ascension in decimal degrees (J2000)\n",
    "  12- 21 F10.6  deg   DEdeg      Declination in decimal degrees (J2000)\n",
    "  24- 28 F5.3   ---   z          Redshift (visual from Paris et al. (2016))\n",
    "  30- 36 F7.3   mag   Mi         Absolute Magnitude i-band from Paris et al. \n",
    "  38- 44 F7.3   ---   L5100      log10(L at 5100A in erg s^-1)  (1)\n",
    "  46- 51 F6.3   ---   eL5100     error in log10(L at 5100A in erg s^-1)  (1)\n",
    "  53- 59 F7.3   ---   L3000      log10(L at 3000A in erg s^-1)  (1)\n",
    "  61- 65 F6.3   ---   eL3000     error in log10(L at 3000A in erg s^-1)  (1)\n",
    "  68- 74 F7.3   ---   L1350      log10(L at 1350A in erg s^-1)  (1)\n",
    "  76- 81 F6.3   ---   eL1350     error in log10(L at 1350A in erg s^-1)  (1)\n",
    "  83- 88 F6.3   ---   MBH_MgII   log10(M_BH in units on M_SUN from MgII)  (1)\n",
    "  90- 95 F6.3   ---   MBH_CIV    log10(M_BH in units on M_SUN from CIV)  (1)  \n",
    "  97-102 F6.3   ---   Lbol       log10(bolometric L in erg s^-1)  (1)\n",
    " 104-109 F6.3   ---   eLbol      error in log10(bolometric L in erg s^-1)  (1)\n",
    " 111-116 F6.3   ---   nEdd       log10(Eddington ratio)  (1)\n",
    "--------------------------------------------------------------------------------\n",
    "-99.999 = no measurement.\n",
    "-9.999  = no measurement or no uncertainty.\n",
    "\n",
    "Line by line match to SDSS Quasar Data Release 12\n",
    "'''\n",
    "\n",
    "def is_number(s):\n",
    "    try:\n",
    "        float(s)\n",
    "        return True\n",
    "    except ValueError:\n",
    "        return False\n",
    "\n",
    "mass_data = [['RADeg','DECDeg','z','Mi','L5100','eL5100','L3000','eL3000','L1350','eL1350','MBH_MgII','MBH_CIV','Lbol','eLbol','nEdd']]\n",
    "for row in range(len(data)-31):\n",
    "    list1 = [i for i in data[row+31:row+32].to_string().split(' ') if is_number(i) is True]\n",
    "    del list1[0]\n",
    "    mass_data.append(list1)"
   ]
  },
  {
   "cell_type": "code",
   "execution_count": null,
   "metadata": {},
   "outputs": [],
   "source": [
    "hdul = fits.open(catalogue_dir + 'DR12Q.fits')\n",
    "\n",
    "data = np.array(hdul[1].data)\n",
    "main_data = [[hdul[1].columns[i].name for i in range(158) if i not in [23,24,25,33,76,77,78,79,80,83,84]]]\n",
    "mag_data = [['UMAG','GMAG','RMAG','IMAG','ZMAG']]\n",
    "\n",
    "for n in range(len(data)):\n",
    "    datapoint = [data[n][i] for i in range(158) if i not in [23,24,25,33,76,77,78,79,80,83,84]]\n",
    "    main_data.append(datapoint)\n",
    "\n",
    "    datapoint = data[n][78]\n",
    "    mag_data.append(datapoint)\n",
    "\n",
    "full_data = pd.DataFrame(np.hstack((np.hstack((main_data,mag_data)),mass_data)))\n",
    "full_data.columns = full_data.iloc[0]\n",
    "full_data = full_data.drop(labels=0)\n",
    "del main_data,mag_data,mass_data\n",
    "full_data.to_csv(catalogue_dir + 'full_quasar_catalogue.csv',index=False)\n",
    "del full_data"
   ]
  },
  {
   "cell_type": "code",
   "execution_count": null,
   "metadata": {},
   "outputs": [],
   "source": [
    "pd.read_csv(catalogue_dir + 'full_quasar_catalogue.csv', sep=',', header=0, squeeze=True)\n",
    "\n",
    "full_data.replace(to_replace=-99.999,value=float('NaN')).replace(to_replace=-9.999,value=float('NaN'))\n",
    "full_data.loc[float(full_data['GMAG'])<25]\n",
    "full_data.to_csv(catalogue_dir + 'full_quasar_catalogue.csv')\n",
    "print(len(full_data))\n",
    "\n",
    "#df.loc[(df['column_name'] >= A) & (df['column_name'] <= B)]"
   ]
  },
  {
   "cell_type": "code",
   "execution_count": 3,
   "metadata": {},
   "outputs": [
    {
     "name": "stdout",
     "output_type": "stream",
     "text": [
      "17.49508559322034\n",
      "12.8144\n",
      "18.4957\n"
     ]
    },
    {
     "data": {
      "image/png": "[encoded data removed]",
      "text/plain": [
       "<Figure size 432x288 with 1 Axes>"
      ]
     },
     "metadata": {
      "needs_background": "light"
     },
     "output_type": "display_data"
    }
   ],
   "source": [
    "data = pd.read_csv('E:/catalogues/blazar_cat-3.csv', sep=',', usecols=['Gaia_G_Magnitude'], header=0, squeeze=True)\n",
    "\n",
    "# matplotlib histogram\n",
    "plt.hist(data, color = 'blue',bins = 50)\n",
    "\n",
    "# Add labels\n",
    "plt.title('Histogram of Blazar Gaia G-Band Magnitude')\n",
    "plt.xlabel('Gaia G-Band Magnitude')\n",
    "plt.ylabel('Objects per bin')\n",
    "#plt.savefig('sect.png',dpi=1000)\n",
    "print(np.mean(data))\n",
    "print(np.min(data))\n",
    "print(np.max(data))"
   ]
  },
  {
   "cell_type": "code",
   "execution_count": null,
   "metadata": {},
   "outputs": [],
   "source": [
    "counter = 0\n",
    "for objects in data:\n",
    "    if objects < 18.5:\n",
    "        counter = counter+1\n",
    "        \n",
    "print(counter)"
   ]
  },
  {
   "cell_type": "code",
   "execution_count": null,
   "metadata": {},
   "outputs": [],
   "source": [
    "data = pd.read_csv('full_quasar_catalogue.csv', sep=',', usecols=['OBJ_ID'], header=0, squeeze=True)\n",
    "data[0]"
   ]
  },
  {
   "cell_type": "code",
   "execution_count": null,
   "metadata": {},
   "outputs": [],
   "source": [
    "import numpy as np\n",
    "import pandas as pd\n",
    "from tess_stars2px import tess_stars2px_function_entry as tess_stars2px\n",
    "\n",
    "ralist = pd.read_csv('final_quasar_catalogue.csv', sep=',', usecols=['RA'],header=0,squeeze=True)\n",
    "declist = pd.read_csv('final_quasar_catalogue.csv', sep=',', usecols=['DEC'],header=0,squeeze=True)\n",
    "seclist = pd.read_csv('final_quasar_catalogue.csv', sep=',', usecols=['SECTORS'],header=0,squeeze=True)\n",
    "\n",
    "column = np.array(['Start'])\n",
    "for row in range(len(ralist)):\n",
    "    if seclist[row] == 1:\n",
    "        result = tess_stars2px(8675309, ralist[row], declist[row])\n",
    "        sector = result[3][result[3] < 21.5]\n",
    "        sectors = sector.tolist()\n",
    "        if sectors[0]==-1:\n",
    "            seclist[row]=0\n",
    "    if row%1000 == 0:\n",
    "        print(row)\n",
    "\n",
    "np.savetxt('additional_data.csv', seclist,  fmt='%s', delimiter=',')"
   ]
  },
  {
   "cell_type": "code",
   "execution_count": null,
   "metadata": {},
   "outputs": [],
   "source": [
    "len([i for i in range(len(seclist)) if seclist[i] == 0])"
   ]
  },
  {
   "cell_type": "code",
   "execution_count": null,
   "metadata": {},
   "outputs": [],
   "source": [
    "obj_list = pd.read_csv('final_quasar_catalogue.csv', sep=',', usecols=['GMAG'],header=0,squeeze=True)\n",
    "np.savetxt('somenums.csv', obj_list,  fmt='%s', delimiter=',')"
   ]
  },
  {
   "cell_type": "code",
   "execution_count": 16,
   "metadata": {},
   "outputs": [
    {
     "name": "stdout",
     "output_type": "stream",
     "text": [
      "1181\n"
     ]
    },
    {
     "data": {
      "image/png": "[encoded data removed]",
      "text/plain": [
       "<Figure size 432x288 with 1 Axes>"
      ]
     },
     "metadata": {
      "needs_background": "light"
     },
     "output_type": "display_data"
    }
   ],
   "source": [
    "data = pd.read_csv('E:/catalogues/final_quasar_catalogue.csv', sep=',', usecols=['IMAG'], header=0, squeeze=True)\n",
    "plt.hist(data,bins=50)\n",
    "\n",
    "counter = 0\n",
    "for i in data:\n",
    "    if i < 18:\n",
    "        counter += 1\n",
    "print(counter)"
   ]
  },
  {
   "cell_type": "code",
   "execution_count": 17,
   "metadata": {},
   "outputs": [
    {
     "name": "stdout",
     "output_type": "stream",
     "text": [
      "12.8144\n",
      "2\n"
     ]
    },
    {
     "data": {
      "image/png": "[encoded data removed]",
      "text/plain": [
       "<Figure size 432x288 with 1 Axes>"
      ]
     },
     "metadata": {
      "needs_background": "light"
     },
     "output_type": "display_data"
    }
   ],
   "source": [
    "data = pd.read_csv('fermi_10-2.csv', sep=',', usecols=['Gaia_G_Magnitude'], header=0, squeeze=True)\n",
    "print(np.min(data))\n",
    "plt.hist(data,bins=100)\n",
    "\n",
    "counter = 0\n",
    "for i in data:\n",
    "    if i <= 13:\n",
    "        counter += 1\n",
    "print(counter)"
   ]
  },
  {
   "cell_type": "code",
   "execution_count": null,
   "metadata": {},
   "outputs": [],
   "source": []
  }
 ],
 "metadata": {
  "kernelspec": {
   "display_name": "Python 3",
   "language": "python",
   "name": "python3"
  },
  "language_info": {
   "codemirror_mode": {
    "name": "ipython",
    "version": 3
   },
   "file_extension": ".py",
   "mimetype": "text/x-python",
   "name": "python",
   "nbconvert_exporter": "python",
   "pygments_lexer": "ipython3",
   "version": "3.8.3"
  }
 },
 "nbformat": 4,
 "nbformat_minor": 2
}
