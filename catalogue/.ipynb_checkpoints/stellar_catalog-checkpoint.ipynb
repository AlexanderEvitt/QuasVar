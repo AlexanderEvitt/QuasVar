{
 "cells": [
  {
   "cell_type": "code",
   "execution_count": 104,
   "metadata": {
    "scrolled": true
   },
   "outputs": [],
   "source": [
    "from astroquery.mast import Catalogs\n",
    "import csv\n",
    "import pandas as pd\n",
    "import numpy as np\n",
    "from tqdm import tqdm"
   ]
  },
  {
   "cell_type": "code",
   "execution_count": 105,
   "metadata": {},
   "outputs": [
    {
     "name": "stderr",
     "output_type": "stream",
     "text": [
      "708it [14:15,  1.21s/it]\n"
     ]
    }
   ],
   "source": [
    "# Load catalogue of blazars\n",
    "blazars = pd.read_csv('E:\\\\catalogues\\\\blazar_cat-3.csv')\n",
    "\n",
    "# Initialize empty lists of desired parameters\n",
    "ra_list, dec_list, GAIAmag_list, GAIA_list = [], [], [], []\n",
    "\n",
    "for index, row in tqdm(blazars.iterrows()):\n",
    "    \n",
    "    # Format coordinates\n",
    "    coords = str(blazars['RA'][index]) + ' ' + str(blazars['DEC'][index])\n",
    "    bright = blazars['Gaia_G_Magnitude'][index]\n",
    "\n",
    "    # Query the TIC within approximately ten TESS pixels\n",
    "    catalog_data = Catalogs.query_object(coords, radius = 0.055, catalog=\"TIC\").to_pandas()\n",
    "    \n",
    "    # Sort by difference between blazar brightness and star brightness\n",
    "    difs = []\n",
    "    for index, row in catalog_data.iterrows():\n",
    "        difs.append(abs(bright - row['GAIAmag']))\n",
    "    catalog_data['mag_difs'] = difs\n",
    "    catalog_data = catalog_data.sort_values('mag_difs',ignore_index=True)\n",
    "    \n",
    "    # Select the second object in the dataframe (to exclude the blazar itself), unless that object isn't a star\n",
    "    selected_object = 1\n",
    "    while catalog_data['objType'][selected_object] != 'STAR':\n",
    "        selected_object = selected_object + 1 \n",
    "    \n",
    "    # Append selected object to empty lists\n",
    "    ra_list.append(catalog_data['ra'][selected_object])\n",
    "    dec_list.append(catalog_data['dec'][selected_object])\n",
    "    GAIAmag_list.append(catalog_data['GAIAmag'][selected_object])\n",
    "    GAIA_list.append(catalog_data['GAIA'][selected_object])\n",
    "    \n",
    "# Append lists of objects to blazar catalogue\n",
    "blazars['match_RA'] = ra_list\n",
    "blazars['match_DEC'] = dec_list\n",
    "blazars['match_ID'] = GAIA_list\n",
    "blazars['match_MAG'] = GAIAmag_list"
   ]
  },
  {
   "cell_type": "code",
   "execution_count": 107,
   "metadata": {},
   "outputs": [],
   "source": [
    "blazars.to_csv('E:\\\\catalogues\\\\blazar_cat-4.csv')"
   ]
  },
  {
   "cell_type": "code",
   "execution_count": null,
   "metadata": {},
   "outputs": [],
   "source": []
  }
 ],
 "metadata": {
  "kernelspec": {
   "display_name": "Python 3",
   "language": "python",
   "name": "python3"
  },
  "language_info": {
   "codemirror_mode": {
    "name": "ipython",
    "version": 3
   },
   "file_extension": ".py",
   "mimetype": "text/x-python",
   "name": "python",
   "nbconvert_exporter": "python",
   "pygments_lexer": "ipython3",
   "version": "3.7.9"
  }
 },
 "nbformat": 4,
 "nbformat_minor": 4
}
