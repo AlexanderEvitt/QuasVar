{
 "cells": [
  {
   "cell_type": "code",
   "execution_count": 15,
   "metadata": {
    "scrolled": true
   },
   "outputs": [],
   "source": [
    "from astroquery.mast import Catalogs\n",
    "import csv\n",
    "\n",
    "with open('blazar_cat.csv', 'r') as inp, open('stellar_coords.csv', 'w') as out:\n",
    "    writer = csv.writer(out)\n",
    "    reader = csv.reader(inp)\n",
    "    for row in reader:\n",
    "        coords = str(row[1]) + \" \" + str(row[2])\n",
    "        bright = float(row[29])\n",
    "        catalog_data = Catalogs.query_object(coords, radius=.055, Gmag=[bright-0.1, bright+0.1],objType=\"STAR\",catalog=\"TIC\")\n",
    "        writer.writerow(catalog_data[:1])\n"
   ]
  },
  {
   "cell_type": "code",
   "execution_count": null,
   "metadata": {},
   "outputs": [],
   "source": []
  }
 ],
 "metadata": {
  "kernelspec": {
   "display_name": "Python 3",
   "language": "python",
   "name": "python3"
  },
  "language_info": {
   "codemirror_mode": {
    "name": "ipython",
    "version": 3
   },
   "file_extension": ".py",
   "mimetype": "text/x-python",
   "name": "python",
   "nbconvert_exporter": "python",
   "pygments_lexer": "ipython3",
   "version": "3.7.6"
  }
 },
 "nbformat": 4,
 "nbformat_minor": 2
}
