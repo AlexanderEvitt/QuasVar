{
 "cells": [
  {
   "cell_type": "code",
   "execution_count": 1,
   "metadata": {},
   "outputs": [],
   "source": [
    "import numpy as np\n",
    "import pandas as pd\n",
    "from astropy.io import fits\n",
    "from astroquery.mast import Catalogs, Observations\n",
    "from astropy.table import Table, vstack\n",
    "import time\n",
    "import matplotlib\n",
    "import matplotlib.pyplot as plt\n",
    "from astropy import units as u\n",
    "from astropy.coordinates import SkyCoord\n",
    "import matplotlib.cm as cm\n",
    "import astropy.coordinates as ac\n",
    "import seaborn as sns\n",
    "from tess_stars2px import tess_stars2px_function_entry as tess_stars2px\n",
    "import math"
   ]
  },
  {
   "cell_type": "code",
   "execution_count": null,
   "metadata": {},
   "outputs": [],
   "source": [
    "file = 'fermi_10.fit'\n",
    "\n",
    "hdu_list = fits.open(file)\n",
    "data = hdu_list[1].data\n",
    "hdr = hdu_list[1].header\n",
    "\n",
    "def print_stats():\n",
    "    print(hdr)\n",
    "    \n",
    "def fill(numtargets,filename):\n",
    "    f = open(filename, \"w+\")\n",
    "    f.close()\n",
    "    \n",
    "    numrows = numtargets\n",
    "    cataloguearray = [np.array(['Name', 'Data_Release', 'RA', 'Dec', 'LII', 'BII','Semi_Major_Axis_68','Semi_Minor_Axis_68','Position_Angle_68','Semi_Major_Axis_95','Semi_Minor_Axis_95','Position_Angle_95','Detection_Significance','Pivot_Energy','Flux_1_100_GeV','Flux_1_100_GeV_Error','Energy_Flux','Energy_Flux_Error','Spectrum_Type','PL_Flux_Density','PL_Flux_Density_Error','PL_Index','PL_Index_Error','LP_Flux_Density','LP_Flux_Density_Error','LP_Index','LP_Index_Error','LP_Beta','LP_Beta_Error','LP_Curve_Significance','PLEC_Flux_Density','PLEC_Flux_Density_Error','PLEC_Index','PLEC_Index_Error','PLEC_Exp_Factor','PLEC_Exp_Factor_Error','PLEC_Exp_Index','PLEC_Exp_Index_Error','PLEC_Curve_Significance','Npred','Variability_Index','Frac_Variability','Frac_Variability_Error','Significance_Peak','Flux_Peak','Flux_Peak_Error','Time_Peak','Time_Peak_Interval','Alt_GammaRay_Name_1','Alt_GammaRay_Name_2','Alt_GammaRay_Name_3','Alt_GammaRay_Name_4','Alt_GammaRay_Name_5','Extended_Source_Name','TeVCat_Flag'])]\n",
    "    for number in range(0,numrows):\n",
    "        rowlist = []\n",
    "        for numbers in range(0,55):\n",
    "            rowlist = rowlist + [hdu_list[1].data[number].field(numbers)]\n",
    "        cataloguearray = np.append(cataloguearray,[np.array(rowlist)],axis=0)\n",
    "\n",
    "    np.savetxt(filename, cataloguearray,  fmt='%s', delimiter=',')\n",
    "    \n",
    "fill(1000, 'fermi_10.csv')\n",
    "    \n",
    "pd.read_csv('fermi_10.csv')"
   ]
  },
  {
   "cell_type": "code",
   "execution_count": null,
   "metadata": {},
   "outputs": [],
   "source": [
    "file = 'table_4LAC.fits'\n",
    "\n",
    "hdu_list = fits.open(file)\n",
    "data = hdu_list[1].data\n",
    "hdr = hdu_list[1].header\n",
    "\n",
    "def print_stats():\n",
    "    print(hdr)\n",
    "    \n",
    "def fill(numtargets,filename):\n",
    "    f = open(filename, \"w+\")\n",
    "    f.close()\n",
    "    \n",
    "    numrows = numtargets\n",
    "    cataloguearray = [np.array(['Source_Name','RA','DEC','GLON','GLAT','Signif_Avg','Flux1000','Unc_Flux1000','Energy_Flux1000','Unc_Energy_Flux1000','SpectrumType','PL_Index','Unc_PL_Index','Pivot_Energy','LP_Index','Unc_LP_Index','LP_Beta','Unc_LP_beta','Flags','CLASS','ASSOC1','ASSOC_PROB_BAY','ASSOC_PROB_LR','Counterpart_Catalog','RA_Counterpart','DEC_Counterpart','Unc_Counterpart','VLBI_Counterpart','Gaia_Counterpart','Gaia_G_Magnitude','Redshift','SED_class','nu_syn','nuFnu_syn','Variability_Index','Frac_Variability','Unc_Frac_Variability','Highest_energy'])]\n",
    "    for number in range(0,numrows):\n",
    "        rowlist = []\n",
    "        for numbers in range(0,38):\n",
    "            rowlist = rowlist + [hdu_list[1].data[number].field(numbers)]\n",
    "        cataloguearray = np.append(cataloguearray,[np.array(rowlist)],axis=0)\n",
    "\n",
    "    np.savetxt(filename, cataloguearray,  fmt='%s', delimiter=',')\n",
    "    \n",
    "fill(2863, 'fermi_10.csv')\n",
    "    \n",
    "pd.read_csv('fermi_10.csv')"
   ]
  },
  {
   "cell_type": "code",
   "execution_count": null,
   "metadata": {},
   "outputs": [],
   "source": [
    "file = 'fermi_stuff.fits'\n",
    "\n",
    "hdu_list = fits.open(file)\n",
    "data = hdu_list[1].data\n",
    "hdr = hdu_list[1].header\n",
    "def fill_catalogue(brightnesscutoff,file):\n",
    "    data = hdu_list[1].data\n",
    "    if data['CLASS'] == 'bll' or data['CLASS'] == 'bcu':\n",
    "        mask = data['Gaia_G_Magnitude'] < brightnesscutoff\n",
    "        newdata = data[mask]\n",
    "    f = open(file, 'w')\n",
    "    np.savetxt(file, newdata,  fmt='%s', delimiter=',')\n",
    "    f.close()\n",
    "    \n",
    "fill_catalogue(0.939,18,'agn_catalogue2.csv')\n",
    "\n",
    "data = pd.read_csv('fermi_10.csv')\n",
    "badagn = ['fsrq','rdg','agn']\n",
    "brightnesscutoff = 18.5\n",
    "if data['Gaia_G_Magnitude'] < brightnesscutoff or data['Gaia_G_Magnitude'] != 'nan':\n",
    "    data = data[~data['CLASS'].isin(badagn)]\n",
    "\n",
    "print(data)"
   ]
  },
  {
   "cell_type": "code",
   "execution_count": null,
   "metadata": {},
   "outputs": [],
   "source": [
    "import numpy as np\n",
    "from astropy.io import fits\n",
    "import pandas as pd\n",
    "import matplotlib\n",
    "import matplotlib.pyplot as plt\n",
    "\n",
    "data = pd.read_csv('fermi_10.csv')\n",
    "badagn = ['fsrq','rdg','agn']\n",
    "brightnesscutoff = \"18.5\"\n",
    "if data['Gaia_G_Magnitude'] < brightnesscutoff or data['Gaia_G_Magnitude'] != \"0\":\n",
    "    data = data[~data['CLASS'].isin(badagn)]\n",
    "\n",
    "print(data)"
   ]
  },
  {
   "cell_type": "code",
   "execution_count": 4,
   "metadata": {},
   "outputs": [
    {
     "name": "stdout",
     "output_type": "stream",
     "text": [
      "['Source_Name', 'RA', 'DEC', 'GLON', 'GLAT', 'Signif_Avg', 'Flux1000', 'Unc_Flux1000', 'Energy_Flux1000', 'Unc_Energy_Flux1000', 'SpectrumType', 'PL_Index', 'Unc_PL_Index', 'Pivot_Energy', 'LP_Index', 'Unc_LP_Index', 'LP_Beta', 'Unc_LP_beta', 'Flags', 'CLASS', 'ASSOC1', 'ASSOC_PROB_BAY', 'ASSOC_PROB_LR', 'Counterpart_Catalog', 'RA_Counterpart', 'DEC_Counterpart', 'Unc_Counterpart', 'VLBI_Counterpart', 'Gaia_Counterpart', 'Gaia_G_Magnitude', 'Redshift', 'SED_class', 'nu_syn', 'nuFnu_syn', 'Variability_Index', 'Frac_Variability', 'Unc_Frac_Variability', 'Highest_energy']\n",
      "['4FGL J0001.2+4741', '0.3126', '47.6859', '114.2502', '-14.338059', '4.19693', '1.425261e-10', '3.7061673e-11', '1.6307984e-12', '4.4813526e-13', 'PowerLaw', '2.1983633', '0.18752055', '2365.8826', '2.1732736', '0.22415973', '0.02462352', '0.105218925', '0', 'bcu', 'B3 2358+474', '0.99609655', '0.93856317', 'crates', '0.3293408', '47.7002009361', '8.4e-07', 'RFC J0001+4742', 'Gaia DR2: 387294484030352896', '20.4141', '-inf', 'ISP', '100000000000000.0', '3.716456e-13', '17.288631', '0.65294766', '0.38334733', '65.5752']\n"
     ]
    },
    {
     "ename": "TypeError",
     "evalue": "'<' not supported between instances of 'str' and 'float'",
     "output_type": "error",
     "traceback": [
      "\u001b[1;31m---------------------------------------------------------------------------\u001b[0m",
      "\u001b[1;31mTypeError\u001b[0m                                 Traceback (most recent call last)",
      "\u001b[1;32m<ipython-input-4-e8aac5998cd0>\u001b[0m in \u001b[0;36m<module>\u001b[1;34m\u001b[0m\n\u001b[0;32m     12\u001b[0m         \u001b[0mprint\u001b[0m\u001b[1;33m(\u001b[0m\u001b[0mrow\u001b[0m\u001b[1;33m)\u001b[0m\u001b[1;33m\u001b[0m\u001b[1;33m\u001b[0m\u001b[0m\n\u001b[0;32m     13\u001b[0m         \u001b[1;32mif\u001b[0m \u001b[0mrow\u001b[0m\u001b[1;33m[\u001b[0m\u001b[1;36m29\u001b[0m\u001b[1;33m]\u001b[0m \u001b[1;33m!=\u001b[0m \u001b[1;34m'nan'\u001b[0m \u001b[1;32mand\u001b[0m \u001b[0mrow\u001b[0m\u001b[1;33m[\u001b[0m\u001b[1;36m29\u001b[0m\u001b[1;33m]\u001b[0m \u001b[1;33m!=\u001b[0m \u001b[1;34m'Gaia_G_Magnitude'\u001b[0m\u001b[1;33m:\u001b[0m\u001b[1;33m\u001b[0m\u001b[1;33m\u001b[0m\u001b[0m\n\u001b[1;32m---> 14\u001b[1;33m             \u001b[1;32mif\u001b[0m \u001b[0mrow\u001b[0m\u001b[1;33m[\u001b[0m\u001b[1;36m29\u001b[0m\u001b[1;33m]\u001b[0m \u001b[1;33m<\u001b[0m \u001b[0mmag_cutoff\u001b[0m\u001b[1;33m:\u001b[0m\u001b[1;33m\u001b[0m\u001b[1;33m\u001b[0m\u001b[0m\n\u001b[0m\u001b[0;32m     15\u001b[0m                 \u001b[1;32mif\u001b[0m \u001b[0mrow\u001b[0m\u001b[1;33m[\u001b[0m\u001b[1;36m19\u001b[0m\u001b[1;33m]\u001b[0m \u001b[1;33m!=\u001b[0m \u001b[0mbadagn\u001b[0m\u001b[1;33m:\u001b[0m\u001b[1;33m\u001b[0m\u001b[1;33m\u001b[0m\u001b[0m\n\u001b[0;32m     16\u001b[0m                     \u001b[0mwriter\u001b[0m\u001b[1;33m.\u001b[0m\u001b[0mwriterow\u001b[0m\u001b[1;33m(\u001b[0m\u001b[0mrow\u001b[0m\u001b[1;33m)\u001b[0m\u001b[1;33m\u001b[0m\u001b[1;33m\u001b[0m\u001b[0m\n",
      "\u001b[1;31mTypeError\u001b[0m: '<' not supported between instances of 'str' and 'float'"
     ]
    }
   ],
   "source": [
    "import csv\n",
    "data = pd.read_csv('fermi_10.csv')\n",
    "badagn = ['fsrq','rdg','agn']\n",
    "mag_cutoff = 18.5\n",
    "\n",
    "#we all write bad code\n",
    "\n",
    "with open('fermi_10.csv', 'r') as inp, open('blazar_cat.csv', 'w') as out:\n",
    "    writer = csv.writer(out)\n",
    "    reader = csv.reader(inp)\n",
    "    for row in reader:\n",
    "        print(row)\n",
    "        if row[29] != 'nan' and row[29] != 'Gaia_G_Magnitude' and row[29] < mag_cutoff:\n",
    "            if row[19] != badagn:\n",
    "                writer.writerow(row)"
   ]
  },
  {
   "cell_type": "code",
   "execution_count": 16,
   "metadata": {},
   "outputs": [],
   "source": [
    "pos = coords.SkyCoord(ra, dec, unit=u.deg)\n",
    "xid = SDSS.query_region(pos,obj_names=ids[row],spectro=True)"
   ]
  },
  {
   "cell_type": "code",
   "execution_count": 28,
   "metadata": {},
   "outputs": [
    {
     "data": {
      "text/html": [
       "<i>Table length=1</i>\n",
       "<table id=\"table3047959076000\" class=\"table-striped table-bordered table-condensed\">\n",
       "<thead><tr><th>solution_id</th><th>designation</th><th>source_id</th><th>random_index</th><th>ref_epoch</th><th>ra</th><th>ra_error</th><th>dec</th><th>dec_error</th><th>parallax</th><th>parallax_error</th><th>parallax_over_error</th><th>pmra</th><th>pmra_error</th><th>pmdec</th><th>pmdec_error</th><th>ra_dec_corr</th><th>ra_parallax_corr</th><th>ra_pmra_corr</th><th>ra_pmdec_corr</th><th>dec_parallax_corr</th><th>dec_pmra_corr</th><th>dec_pmdec_corr</th><th>parallax_pmra_corr</th><th>parallax_pmdec_corr</th><th>pmra_pmdec_corr</th><th>astrometric_n_obs_al</th><th>astrometric_n_obs_ac</th><th>astrometric_n_good_obs_al</th><th>astrometric_n_bad_obs_al</th><th>astrometric_gof_al</th><th>astrometric_chi2_al</th><th>astrometric_excess_noise</th><th>astrometric_excess_noise_sig</th><th>astrometric_params_solved</th><th>astrometric_primary_flag</th><th>astrometric_weight_al</th><th>astrometric_pseudo_colour</th><th>astrometric_pseudo_colour_error</th><th>mean_varpi_factor_al</th><th>astrometric_matched_observations</th><th>visibility_periods_used</th><th>astrometric_sigma5d_max</th><th>frame_rotator_object_type</th><th>matched_observations</th><th>duplicated_source</th><th>phot_g_n_obs</th><th>phot_g_mean_flux</th><th>phot_g_mean_flux_error</th><th>phot_g_mean_flux_over_error</th><th>phot_g_mean_mag</th><th>phot_bp_n_obs</th><th>phot_bp_mean_flux</th><th>phot_bp_mean_flux_error</th><th>phot_bp_mean_flux_over_error</th><th>phot_bp_mean_mag</th><th>phot_rp_n_obs</th><th>phot_rp_mean_flux</th><th>phot_rp_mean_flux_error</th><th>phot_rp_mean_flux_over_error</th><th>phot_rp_mean_mag</th><th>phot_bp_rp_excess_factor</th><th>phot_proc_mode</th><th>bp_rp</th><th>bp_g</th><th>g_rp</th><th>radial_velocity</th><th>radial_velocity_error</th><th>rv_nb_transits</th><th>rv_template_teff</th><th>rv_template_logg</th><th>rv_template_fe_h</th><th>phot_variable_flag</th><th>l</th><th>b</th><th>ecl_lon</th><th>ecl_lat</th><th>priam_flags</th><th>teff_val</th><th>teff_percentile_lower</th><th>teff_percentile_upper</th><th>a_g_val</th><th>a_g_percentile_lower</th><th>a_g_percentile_upper</th><th>e_bp_min_rp_val</th><th>e_bp_min_rp_percentile_lower</th><th>e_bp_min_rp_percentile_upper</th><th>flame_flags</th><th>radius_val</th><th>radius_percentile_lower</th><th>radius_percentile_upper</th><th>lum_val</th><th>lum_percentile_lower</th><th>lum_percentile_upper</th><th>datalink_url</th><th>epoch_photometry_url</th><th>dist</th></tr></thead>\n",
       "<thead><tr><th></th><th></th><th></th><th></th><th>yr</th><th>deg</th><th>mas</th><th>deg</th><th>mas</th><th>mas</th><th>mas</th><th></th><th>mas / yr</th><th>mas / yr</th><th>mas / yr</th><th>mas / yr</th><th></th><th></th><th></th><th></th><th></th><th></th><th></th><th></th><th></th><th></th><th></th><th></th><th></th><th></th><th></th><th></th><th>mas</th><th></th><th></th><th></th><th>1 / mas2</th><th>1 / um</th><th>1 / um</th><th></th><th></th><th></th><th>mas</th><th></th><th></th><th></th><th></th><th>electron / s</th><th>electron / s</th><th></th><th>mag</th><th></th><th>electron / s</th><th>electron / s</th><th></th><th>mag</th><th></th><th>electron / s</th><th>electron / s</th><th></th><th>mag</th><th></th><th></th><th>mag</th><th>mag</th><th>mag</th><th>km / s</th><th>km / s</th><th></th><th>K</th><th>log(cm.s**-2)</th><th>dex</th><th></th><th>deg</th><th>deg</th><th>deg</th><th>deg</th><th></th><th>K</th><th>K</th><th>K</th><th>mag</th><th>mag</th><th>mag</th><th>mag</th><th>mag</th><th>mag</th><th></th><th>Rsun</th><th>Rsun</th><th>Rsun</th><th>Lsun</th><th>Lsun</th><th>Lsun</th><th></th><th></th><th></th></tr></thead>\n",
       "<thead><tr><th>int64</th><th>object</th><th>int64</th><th>int64</th><th>float64</th><th>float64</th><th>float64</th><th>float64</th><th>float64</th><th>float64</th><th>float64</th><th>float32</th><th>float64</th><th>float64</th><th>float64</th><th>float64</th><th>float32</th><th>float32</th><th>float32</th><th>float32</th><th>float32</th><th>float32</th><th>float32</th><th>float32</th><th>float32</th><th>float32</th><th>int32</th><th>int32</th><th>int32</th><th>int32</th><th>float32</th><th>float32</th><th>float64</th><th>float64</th><th>int16</th><th>bool</th><th>float32</th><th>float64</th><th>float64</th><th>float32</th><th>int16</th><th>int16</th><th>float32</th><th>int32</th><th>int16</th><th>bool</th><th>int32</th><th>float64</th><th>float64</th><th>float32</th><th>float32</th><th>int32</th><th>float64</th><th>float64</th><th>float32</th><th>float32</th><th>int32</th><th>float64</th><th>float64</th><th>float32</th><th>float32</th><th>float32</th><th>int16</th><th>float32</th><th>float32</th><th>float32</th><th>float64</th><th>float64</th><th>int32</th><th>float32</th><th>float32</th><th>float32</th><th>object</th><th>float64</th><th>float64</th><th>float64</th><th>float64</th><th>int64</th><th>float32</th><th>float32</th><th>float32</th><th>float32</th><th>float32</th><th>float32</th><th>float32</th><th>float32</th><th>float32</th><th>int64</th><th>float32</th><th>float32</th><th>float32</th><th>float32</th><th>float32</th><th>float32</th><th>object</th><th>object</th><th>float64</th></tr></thead>\n",
       "<tr><td>1635721458409799680</td><td>Gaia DR2 2777889636218550144</td><td>2777889636218550144</td><td>1462694155</td><td>2015.5</td><td>12.227504319375338</td><td>7.89892055397474</td><td>14.223619675714263</td><td>3.7436816480420543</td><td>--</td><td>--</td><td>--</td><td>--</td><td>--</td><td>--</td><td>--</td><td>0.8503217</td><td>--</td><td>--</td><td>--</td><td>--</td><td>--</td><td>--</td><td>--</td><td>--</td><td>--</td><td>81</td><td>0</td><td>80</td><td>1</td><td>0.4023035</td><td>79.341705</td><td>0.0</td><td>0.0</td><td>3</td><td>False</td><td>0.013106448</td><td>--</td><td>--</td><td>-0.08124296</td><td>10</td><td>5</td><td>30.862076</td><td>0</td><td>11</td><td>False</td><td>82</td><td>82.56838500434317</td><td>1.9335732478448588</td><td>42.702488</td><td>20.896332</td><td>4</td><td>32.49138635341641</td><td>18.973009459946237</td><td>1.7125057</td><td>21.571968</td><td>10</td><td>105.56035642924763</td><td>13.374628283276053</td><td>7.8925824</td><td>19.703167</td><td>1.6719686</td><td>0</td><td>1.8688011</td><td>0.6756363</td><td>1.1931648</td><td>--</td><td>--</td><td>0</td><td>--</td><td>--</td><td>--</td><td>NOT_AVAILABLE</td><td>122.00475472287754</td><td>-48.64357945738564</td><td>16.804104668461385</td><td>8.265918924308263</td><td>--</td><td>--</td><td>--</td><td>--</td><td>--</td><td>--</td><td>--</td><td>--</td><td>--</td><td>--</td><td>--</td><td>--</td><td>--</td><td>--</td><td>--</td><td>--</td><td>--</td><td>https://gea.esac.esa.int/data-server/datalink/links?ID=Gaia+DR2+2777889636218550144</td><td></td><td>0.005522007798881475</td></tr>\n",
       "</table>"
      ],
      "text/plain": [
       "<Table length=1>\n",
       "    solution_id             designation          ...         dist        \n",
       "                                                 ...                     \n",
       "       int64                   object            ...       float64       \n",
       "------------------- ---------------------------- ... --------------------\n",
       "1635721458409799680 Gaia DR2 2777889636218550144 ... 0.005522007798881475"
      ]
     },
     "execution_count": 28,
     "metadata": {},
     "output_type": "execute_result"
    }
   ],
   "source": [
    "from astroquery.gaia import Gaia\n",
    "from astropy import coordinates as coords\n",
    "from astropy import units as u\n",
    "\n",
    "coord = SkyCoord(ra=0.5378, dec=-67.4746, unit=(u.degree, u.degree), frame='icrs')\n",
    "Gaia.query_object(pos,u.Quantity(0.01, u.deg),columns=['solution_id','designation'])"
   ]
  },
  {
   "cell_type": "raw",
   "metadata": {},
   "source": []
  }
 ],
 "metadata": {
  "kernelspec": {
   "display_name": "Python 3",
   "language": "python",
   "name": "python3"
  },
  "language_info": {
   "codemirror_mode": {
    "name": "ipython",
    "version": 3
   },
   "file_extension": ".py",
   "mimetype": "text/x-python",
   "name": "python",
   "nbconvert_exporter": "python",
   "pygments_lexer": "ipython3",
   "version": "3.8.3"
  }
 },
 "nbformat": 4,
 "nbformat_minor": 2
}
