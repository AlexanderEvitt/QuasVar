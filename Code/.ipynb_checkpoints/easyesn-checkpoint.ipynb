{
 "cells": [
  {
   "cell_type": "code",
   "execution_count": 3,
   "metadata": {},
   "outputs": [
    {
     "name": "stderr",
     "output_type": "stream",
     "text": [
      "Using Numpy backend.\n"
     ]
    }
   ],
   "source": [
    "import matplotlib.pyplot as plt\n",
    "import numpy as np\n",
    "from easyesn import ClassificationESN\n",
    "from easyesn import OneHotEncoder\n",
    "from easyesn.optimizers import GradientOptimizer\n",
    "from easyesn.optimizers import GridSearchOptimizer\n",
    "from easyesn import helper as hlp\n",
    "from sklearn.model_selection import train_test_split\n",
    "import os\n",
    "import math\n",
    "import pandas as pd\n",
    "import pickle\n",
    "from sklearn.metrics import confusion_matrix\n",
    "def unencode(matrix):\n",
    "    new_matrix = np.zeros(matrix.shape[0])\n",
    "    for i in range(matrix.shape[0]):\n",
    "        val = np.where(matrix[i]==1)[0]\n",
    "        new_matrix[i] = classes[int(val)]\n",
    "    return new_matrix"
   ]
  },
  {
   "cell_type": "code",
   "execution_count": 8,
   "metadata": {},
   "outputs": [],
   "source": [
    "n_train = 100099999\n",
    "n_test = 9999999\n",
    "x_train = np.load('xtrain.npy')[:n_train]\n",
    "x_test = np.load('xtest.npy')[:n_test]\n",
    "y_train = np.load('ytrain.npy')[:n_train]\n",
    "y_test = np.load('ytest.npy')[:n_test]"
   ]
  },
  {
   "cell_type": "code",
   "execution_count": 9,
   "metadata": {},
   "outputs": [
    {
     "ename": "MemoryError",
     "evalue": "Unable to allocate 28.5 GiB for an array with shape (504, 7582000) and data type float64",
     "output_type": "error",
     "traceback": [
      "\u001b[1;31m---------------------------------------------------------------------------\u001b[0m",
      "\u001b[1;31mMemoryError\u001b[0m                               Traceback (most recent call last)",
      "\u001b[1;32m<ipython-input-9-254b3a33afa3>\u001b[0m in \u001b[0;36m<module>\u001b[1;34m\u001b[0m\n\u001b[0;32m     15\u001b[0m                         \u001b[0minputDensity\u001b[0m\u001b[1;33m=\u001b[0m\u001b[1;36m1.0\u001b[0m\u001b[1;33m,\u001b[0m\u001b[1;33m\u001b[0m\u001b[1;33m\u001b[0m\u001b[0m\n\u001b[0;32m     16\u001b[0m                         solver='lsqr')\n\u001b[1;32m---> 17\u001b[1;33m \u001b[0mesn\u001b[0m\u001b[1;33m.\u001b[0m\u001b[0mfit\u001b[0m\u001b[1;33m(\u001b[0m\u001b[0mx_train\u001b[0m\u001b[1;33m,\u001b[0m \u001b[0my_train\u001b[0m\u001b[1;33m,\u001b[0m \u001b[0mverbose\u001b[0m\u001b[1;33m=\u001b[0m\u001b[1;36m1\u001b[0m\u001b[1;33m)\u001b[0m\u001b[1;33m\u001b[0m\u001b[1;33m\u001b[0m\u001b[0m\n\u001b[0m",
      "\u001b[1;32m~\\Anaconda3\\lib\\site-packages\\easyesn\\ClassificationESN.py\u001b[0m in \u001b[0;36mfit\u001b[1;34m(self, inputData, outputData, transientTime, transientTimeCalculationEpsilon, transientTimeCalculationLength, verbose)\u001b[0m\n\u001b[0;32m     81\u001b[0m \u001b[1;33m\u001b[0m\u001b[0m\n\u001b[0;32m     82\u001b[0m \u001b[1;33m\u001b[0m\u001b[0m\n\u001b[1;32m---> 83\u001b[1;33m         \u001b[0mself\u001b[0m\u001b[1;33m.\u001b[0m\u001b[0m_X\u001b[0m \u001b[1;33m=\u001b[0m \u001b[0mB\u001b[0m\u001b[1;33m.\u001b[0m\u001b[0mzeros\u001b[0m\u001b[1;33m(\u001b[0m\u001b[1;33m(\u001b[0m\u001b[1;36m1\u001b[0m \u001b[1;33m+\u001b[0m \u001b[0mself\u001b[0m\u001b[1;33m.\u001b[0m\u001b[0mn_input\u001b[0m \u001b[1;33m+\u001b[0m \u001b[0mself\u001b[0m\u001b[1;33m.\u001b[0m\u001b[0mn_reservoir\u001b[0m\u001b[1;33m,\u001b[0m \u001b[0mnSequences\u001b[0m\u001b[1;33m*\u001b[0m\u001b[1;33m(\u001b[0m\u001b[0mtrainingLength\u001b[0m\u001b[1;33m-\u001b[0m\u001b[0mtransientTime\u001b[0m\u001b[1;33m)\u001b[0m\u001b[1;33m)\u001b[0m\u001b[1;33m)\u001b[0m\u001b[1;33m\u001b[0m\u001b[1;33m\u001b[0m\u001b[0m\n\u001b[0m\u001b[0;32m     84\u001b[0m         \u001b[0mY_target\u001b[0m \u001b[1;33m=\u001b[0m \u001b[0mB\u001b[0m\u001b[1;33m.\u001b[0m\u001b[0mzeros\u001b[0m\u001b[1;33m(\u001b[0m\u001b[1;33m(\u001b[0m\u001b[0mself\u001b[0m\u001b[1;33m.\u001b[0m\u001b[0mn_output\u001b[0m\u001b[1;33m,\u001b[0m \u001b[1;33m(\u001b[0m\u001b[0mtrainingLength\u001b[0m\u001b[1;33m-\u001b[0m\u001b[0mtransientTime\u001b[0m\u001b[1;33m)\u001b[0m\u001b[1;33m*\u001b[0m\u001b[0mnSequences\u001b[0m\u001b[1;33m)\u001b[0m\u001b[1;33m)\u001b[0m\u001b[1;33m\u001b[0m\u001b[1;33m\u001b[0m\u001b[0m\n\u001b[0;32m     85\u001b[0m \u001b[1;33m\u001b[0m\u001b[0m\n",
      "\u001b[1;32m~\\Anaconda3\\lib\\site-packages\\easyesn\\backend\\numpyBackend.py\u001b[0m in \u001b[0;36mzeros\u001b[1;34m(x)\u001b[0m\n\u001b[0;32m     41\u001b[0m \u001b[1;33m\u001b[0m\u001b[0m\n\u001b[0;32m     42\u001b[0m \u001b[1;32mdef\u001b[0m \u001b[0mzeros\u001b[0m\u001b[1;33m(\u001b[0m\u001b[0mx\u001b[0m\u001b[1;33m)\u001b[0m\u001b[1;33m:\u001b[0m\u001b[1;33m\u001b[0m\u001b[1;33m\u001b[0m\u001b[0m\n\u001b[1;32m---> 43\u001b[1;33m         \u001b[1;32mreturn\u001b[0m \u001b[0mnp\u001b[0m\u001b[1;33m.\u001b[0m\u001b[0mzeros\u001b[0m\u001b[1;33m(\u001b[0m\u001b[0mx\u001b[0m\u001b[1;33m)\u001b[0m\u001b[1;33m\u001b[0m\u001b[1;33m\u001b[0m\u001b[0m\n\u001b[0m\u001b[0;32m     44\u001b[0m \u001b[1;33m\u001b[0m\u001b[0m\n\u001b[0;32m     45\u001b[0m \u001b[1;32mdef\u001b[0m \u001b[0mempty\u001b[0m\u001b[1;33m(\u001b[0m\u001b[0mx\u001b[0m\u001b[1;33m)\u001b[0m\u001b[1;33m:\u001b[0m\u001b[1;33m\u001b[0m\u001b[1;33m\u001b[0m\u001b[0m\n",
      "\u001b[1;31mMemoryError\u001b[0m: Unable to allocate 28.5 GiB for an array with shape (504, 7582000) and data type float64"
     ]
    }
   ],
   "source": [
    "#esn = ClassificationESN(n_input=1, n_classes=len(y[0]), n_reservoir=50, leakingRate=0.2, regressionParameters=[1e-2], solver=\"lsqr\")\n",
    "\n",
    "esn = ClassificationESN(n_input=3, n_classes=len(y_train[0]),\n",
    "                        n_reservoir=500,\n",
    "                        regressionParameters=[1e-5],\n",
    "                        spectralRadius=0.95, noiseLevel=0.00121,\n",
    "                        inputScaling=None,\n",
    "                        leakingRate=1.0,\n",
    "                        reservoirDensity=0.2,\n",
    "                        randomSeed=42,\n",
    "                        weightGeneration='naive',\n",
    "                        bias=1.0,\n",
    "                        outputBias=1.0,\n",
    "                        outputInputScaling=1.0,\n",
    "                        inputDensity=1.0,\n",
    "                        solver='lsqr')\n",
    "esn.fit(x_train, y_train, verbose=1)"
   ]
  },
  {
   "cell_type": "code",
   "execution_count": 37,
   "metadata": {},
   "outputs": [
    {
     "data": {
      "text/plain": [
       "1.0"
      ]
     },
     "execution_count": 37,
     "metadata": {},
     "output_type": "execute_result"
    },
    {
     "data": {
      "image/png": "[encoded data removed]",
      "text/plain": [
       "<Figure size 432x288 with 1 Axes>"
      ]
     },
     "metadata": {
      "needs_background": "light"
     },
     "output_type": "display_data"
    }
   ],
   "source": [
    "plt.plot(var_set[:24],errors)\n",
    "var_set[errors.index(min(errors))]"
   ]
  },
  {
   "cell_type": "code",
   "execution_count": 11,
   "metadata": {},
   "outputs": [
    {
     "name": "stderr",
     "output_type": "stream",
     "text": [
      "100% (1000 of 1000) |####################| Elapsed Time: 0:00:22 Time:  0:00:22\n"
     ]
    },
    {
     "data": {
      "image/png": "[encoded data removed]",
      "text/plain": [
       "<Figure size 432x288 with 2 Axes>"
      ]
     },
     "metadata": {
      "needs_background": "light"
     },
     "output_type": "display_data"
    }
   ],
   "source": [
    "y_test_pred = esn.predict(x_test, transientTime=100, verbose=1)\n",
    "\n",
    "classes = [6,7,8,9,10,11]\n",
    "cm = confusion_matrix(unencode(y_test),unencode(y_test_pred),labels=classes)\n",
    "plt.imshow(cm,cmap='jet')\n",
    "plt.xlabel('Predicted y-values')\n",
    "plt.ylabel('Actual y-values')\n",
    "plt.colorbar()\n",
    "plt.show()"
   ]
  },
  {
   "cell_type": "code",
   "execution_count": 4,
   "metadata": {},
   "outputs": [],
   "source": [
    "inputLength = 500\n",
    "n = len(os.listdir('F:/sector_lightcurves/'))\n",
    "\n",
    "mags =  pd.read_csv('F:/catalogues/final_quasar_catalogue.csv', sep=',', usecols=['GMAG'],header=0,squeeze=True)\n",
    "magnesiums =  pd.read_csv('F:/catalogues/final_quasar_catalogue.csv', sep=',', usecols=['MBH_MgII'],header=0,squeeze=True)\n",
    "carbons =  pd.read_csv('F:/catalogues/final_quasar_catalogue.csv', sep=',', usecols=['MBH_CIV'],header=0,squeeze=True)\n",
    "y = np.zeros(n)\n",
    "for i in range(len(y)):\n",
    "    mag = magnesiums[i]\n",
    "    car = carbons[i]\n",
    "    if not math.isnan(mag) and not math.isnan(car):\n",
    "        mass = 0.5*(mag+car)\n",
    "    elif not math.isnan(mag):\n",
    "        mass = mag\n",
    "    elif not math.isnan(car):\n",
    "        mass = car\n",
    "    y[i] = int(mass)\n",
    "    \n",
    "ohe = OneHotEncoder()\n",
    "y = ohe.fit_transform(y)\n",
    "\n",
    "x = []\n",
    "for file in os.listdir('F:/sector_lightcurves/')[:n]:\n",
    "    row = int(file.split('-')[0])\n",
    "    with open('F:/sector_lightcurves/'+file,'rb') as rfile:\n",
    "        lc = pickle.load(rfile)\n",
    "    lc = lc.remove_nans()\n",
    "    x.append(np.vstack((lc.time[:inputLength],lc.flux[:inputLength],mags[row]*np.ones(inputLength))).transpose())\n",
    "    #x.append(lc.time[:inputLength])\n",
    "x = np.array(x)\n",
    "\n",
    "x_train, x_test, y_train, y_test = train_test_split(x, y, test_size=0.2, random_state=42)\n",
    "np.save('xtrain.npy',x_train)\n",
    "np.save('ytrain.npy',y_train)\n",
    "np.save('xtest.npy',x_test)\n",
    "np.save('ytest.npy',y_test)"
   ]
  },
  {
   "cell_type": "code",
   "execution_count": 34,
   "metadata": {},
   "outputs": [],
   "source": [
    "esn = ClassificationESN(n_input=3, n_classes=3,\n",
    "                        n_reservoir=5000,\n",
    "                        regressionParameters=[1e-2],\n",
    "                        spectralRadius=1.0, noiseLevel=0.0,\n",
    "                        inputScaling=None,\n",
    "                        leakingRate=1.0,\n",
    "                        reservoirDensity=0.2,\n",
    "                        randomSeed=0,\n",
    "                        weightGeneration='naive',\n",
    "                        bias=1.0,\n",
    "                        outputBias=1.0,\n",
    "                        outputInputScaling=1.0,\n",
    "                        inputDensity=1.0,\n",
    "                        solver='pinv')"
   ]
  },
  {
   "cell_type": "code",
   "execution_count": null,
   "metadata": {},
   "outputs": [],
   "source": [
    "pip install cupy"
   ]
  },
  {
   "cell_type": "code",
   "execution_count": null,
   "metadata": {},
   "outputs": [],
   "source": []
  }
 ],
 "metadata": {
  "kernelspec": {
   "display_name": "Python 3",
   "language": "python",
   "name": "python3"
  },
  "language_info": {
   "codemirror_mode": {
    "name": "ipython",
    "version": 3
   },
   "file_extension": ".py",
   "mimetype": "text/x-python",
   "name": "python",
   "nbconvert_exporter": "python",
   "pygments_lexer": "ipython3",
   "version": "3.7.5"
  }
 },
 "nbformat": 4,
 "nbformat_minor": 4
}
