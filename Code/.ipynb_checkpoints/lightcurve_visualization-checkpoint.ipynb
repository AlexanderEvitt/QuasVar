{
 "cells": [
  {
   "cell_type": "code",
   "execution_count": null,
   "metadata": {},
   "outputs": [],
   "source": [
    "import lightkurve as lk\n",
    "import pickle\n",
    "import matplotlib.pyplot as plt\n",
    "import numpy as np\n",
    "from tkinter import Tk, Label, Entry, Button\n",
    "from tkinter.ttk import Combobox\n",
    "\n",
    "lc_dir = 'F:/sector_lightcurves/'\n",
    "\n",
    "def load(file='1lc.pickle',width=18,height=3,dpi=1000,alpha=0.75,bin=True,bins=2000,sigma=20,save=False):\n",
    "    plt.figure(figsize=(width, height), dpi=dpi)\n",
    "    with open(file,'rb') as rfile:\n",
    "        lc = pickle.load(rfile)\n",
    "    lc.quality = np.zeros(len(lc.flux),dtype='int')\n",
    "    if bin == True:\n",
    "        lc = lc.remove_nans().remove_outliers(sigma=sigma).bin(bins=bins)\n",
    "    elif bin == False:\n",
    "        lc = lc.remove_nans().remove_outliers(sigma=sigma)\n",
    "    plt.plot(lc.time,lc.flux,color='blue',alpha=alpha,label='TIC ' + str(lc.targetid))\n",
    "    #plt.xlim(left=1340,right=1380)\n",
    "    plt.xlabel(\"Time (BTJD Days)\")\n",
    "    plt.ylabel(\"Flux (e/s)\")\n",
    "    plt.title(\"Flux as a function of time for \" + 'TIC ' + str(lc.targetid))\n",
    "    if save == True:\n",
    "        plt.savefig(str(file) + \".png\")\n",
    "   \n",
    "def load2(file='1lc.pickle',file2='2lc.pickle',width=18,height=3,dpi=1000,alpha=0.75,bin=True,save=False):\n",
    "    plt.figure(figsize=(width, height), dpi=dpi)\n",
    "    with open(file,'rb') as rfile:\n",
    "        lc = pickle.load(rfile)\n",
    "    if bin == True:\n",
    "        lc = lc.remove_nans().remove_outliers().bin()\n",
    "    elif bin == False:\n",
    "        lc = lc.remove_nans().remove_outliers()\n",
    "    plt.plot(lc.time,lc.flux,color='red',alpha=alpha,label='TIC ' + str(lc.targetid))\n",
    "    \n",
    "    with open(file2,'rb') as rfile:\n",
    "        lc1 = pickle.load(rfile)\n",
    "    if bin == True:\n",
    "        lc1 = lc1.remove_nans().remove_outliers().bin()\n",
    "    elif bin == False:\n",
    "        lc1 = lc1.remove_nans().remove_outliers(sigma=20)\n",
    "    plt.plot(lc1.time,lc1.flux,color='blue',alpha=alpha,label='TIC ' + str(lc1.targetid))\n",
    "    plt.xlabel(\"Time (BTJD Days)\")\n",
    "    plt.ylabel(\"Flux (e/s)\")\n",
    "    plt.title(\"Flux as a function of time for \" + 'TIC ' + str(lc.targetid) + \" (red) and \" + 'TIC ' + str(lc1.targetid) + \" (blue)\")\n",
    "    if save == True:\n",
    "        plt.savefig(str(file)+\".png\")\n",
    "\n",
    "load(lc_dir + 'sector_lightcurves/1-1lc.pickle',bin=False,width=11,height=4,sigma=4)\n",
    "\n"
   ]
  }
 ],
 "metadata": {
  "kernelspec": {
   "display_name": "Python 3",
   "language": "python",
   "name": "python3"
  },
  "language_info": {
   "codemirror_mode": {
    "name": "ipython",
    "version": 3
   },
   "file_extension": ".py",
   "mimetype": "text/x-python",
   "name": "python",
   "nbconvert_exporter": "python",
   "pygments_lexer": "ipython3",
   "version": "3.7.6"
  }
 },
 "nbformat": 4,
 "nbformat_minor": 2
}
