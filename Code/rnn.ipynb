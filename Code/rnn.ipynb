{
 "cells": [
  {
   "cell_type": "code",
   "execution_count": 44,
   "metadata": {
    "scrolled": true
   },
   "outputs": [],
   "source": [
    "import numpy as np\n",
    "from pickle import dump, load\n",
    "from numpy import array\n",
    "from tensorflow.keras.utils import to_categorical\n",
    "from tensorflow.keras.models import Sequential\n",
    "from tensorflow.keras.layers import Dense, LSTM, Dropout\n",
    "from tensorflow.keras.models import load_model\n",
    "from tensorflow.keras.preprocessing.sequence import pad_sequences\n",
    "from tensorflow.keras.callbacks import EarlyStopping\n",
    "from os import listdir\n",
    "import lightkurve as lk\n",
    "import pickle\n",
    "import pandas as pd\n",
    "from collections import Counter\n",
    "\n",
    "def build_model(X,lstm_layers,cells,output_size):\n",
    "    model = Sequential()\n",
    "    model.add(Dense(units=cells,input_shape=(X.shape[1], X.shape[2])))\n",
    "    for i in range(lstm_layers - 1):\n",
    "        model.add(LSTM(cells,return_sequences=True,dropout=0.1,recurrent_dropout=0.1))\n",
    "\n",
    "    model.add(LSTM(cells,return_sequences=False,dropout=0.1,recurrent_dropout=0.1))\n",
    "    # Dropout for regularization\n",
    "    #model.add(Dropout(0.5))\n",
    "\n",
    "    # Output layer\n",
    "    model.add(Dense(output_size, activation='tanh'))\n",
    "\n",
    "    # Compile the model\n",
    "    model.compile(\n",
    "        optimizer='adam',\n",
    "        loss='mean_absolute_error',\n",
    "        metrics=['mean_absolute_error'])\n",
    "    return model\n",
    "\n",
    "# generate a sequence of characters with a language model\n",
    "def generate_data(data_path, data_amount, bins=1000):\n",
    "    if data_amount == 'auto':\n",
    "        data_amount = len(listdir(data_path))\n",
    "        print(\"There are {0} lightcurves present in the data_path\".format(data_amount))\n",
    "    list_files = listdir(data_path)[0:data_amount]\n",
    "    # generate lightcurve data\n",
    "    X = np.zeros((0,bins,2))\n",
    "    rows = []\n",
    "    for file in list_files:\n",
    "        with open(data_path + '/' + file, 'rb') as rfile:\n",
    "            lc = pickle.load(rfile)\n",
    "        if len(lc.flux)< bins:\n",
    "            continue\n",
    "        lc.quality = np.zeros(len(lc.flux),dtype='int')\n",
    "        lc = lc.remove_outliers(sigma=20).remove_nans()\n",
    "        flux = np.reshape(np.array([lc.time[:bins]]),(bins,1))\n",
    "        flux_norm = (flux - np.min(flux))/(np.max(flux)-np.min(flux))\n",
    "        time = np.reshape(np.array([lc.flux[:bins]]),(bins,1))\n",
    "        time_norm = (time - 0)/(3000-0)\n",
    "        X_curve = np.array([np.concatenate((flux,time),axis=1)])\n",
    "\n",
    "        X = np.concatenate((X,X_curve),axis=0)\n",
    "        row = int(file.split('-')[0])\n",
    "        rows.append(row)\n",
    "    print('Generating lightcurve data complete')\n",
    "    \n",
    "    what_rows = []\n",
    "    [what_rows.append(x) for x in rows if x not in what_rows]\n",
    "    count_rows = Counter(rows)\n",
    "    print('Objects identified')\n",
    "    y = []\n",
    "    ya = pd.read_csv('final_catalogue.csv', sep=',', usecols=['Tmag'],header=0,squeeze=True).to_numpy()\n",
    "    for r in what_rows:\n",
    "        y_point = [ya[r]]\n",
    "        y_list = []\n",
    "        for x in range(0,count_rows[r]):\n",
    "            y_list += y_point\n",
    "        y += y_list\n",
    "    print('Magnitudes created')\n",
    "    \n",
    "    y = np.array(y)\n",
    "    y = (y-10)/(18-10)\n",
    "    return X,y\n"
   ]
  },
  {
   "cell_type": "code",
   "execution_count": 45,
   "metadata": {},
   "outputs": [
    {
     "name": "stdout",
     "output_type": "stream",
     "text": [
      "There are 140 lightcurves present in the data_path\n",
      "Generating lightcurve data complete\n",
      "Objects identified\n",
      "Magnitudes created\n",
      "ERROR:tensorflow:==================================\n",
      "Object was never used (type <class 'tensorflow.python.ops.tensor_array_ops.TensorArray'>):\n",
      "<tensorflow.python.ops.tensor_array_ops.TensorArray object at 0x0000021432C23448>\n",
      "If you want to mark it as used call its \"mark_used()\" method.\n",
      "It was originally created here:\n",
      "  File \"C:\\Users\\811261\\AppData\\Local\\Continuum\\anaconda3\\lib\\site-packages\\tensorflow\\python\\keras\\backend.py\", line 3722, in <genexpr>\n",
      "    for ta, input_ in zip(input_ta, flatted_inputs))  File \"C:\\Users\\811261\\AppData\\Local\\Continuum\\anaconda3\\lib\\site-packages\\tensorflow\\python\\util\\tf_should_use.py\", line 193, in wrapped\n",
      "    return _add_should_use_warning(fn(*args, **kwargs))\n",
      "==================================\n",
      "ERROR:tensorflow:==================================\n",
      "Object was never used (type <class 'tensorflow.python.ops.tensor_array_ops.TensorArray'>):\n",
      "<tensorflow.python.ops.tensor_array_ops.TensorArray object at 0x0000021432C236C8>\n",
      "If you want to mark it as used call its \"mark_used()\" method.\n",
      "It was originally created here:\n",
      "  File \"C:\\Users\\811261\\AppData\\Local\\Continuum\\anaconda3\\lib\\site-packages\\tensorflow\\python\\keras\\backend.py\", line 3722, in <genexpr>\n",
      "    for ta, input_ in zip(input_ta, flatted_inputs))  File \"C:\\Users\\811261\\AppData\\Local\\Continuum\\anaconda3\\lib\\site-packages\\tensorflow\\python\\util\\tf_should_use.py\", line 193, in wrapped\n",
      "    return _add_should_use_warning(fn(*args, **kwargs))  File \"C:\\Users\\811261\\AppData\\Local\\Continuum\\anaconda3\\lib\\site-packages\\tensorflow\\python\\ops\\tensor_array_ops.py\", line 1256, in unstack\n",
      "    return self._implementation.unstack(value, name=name)  File \"C:\\Users\\811261\\AppData\\Local\\Continuum\\anaconda3\\lib\\site-packages\\tensorflow\\python\\util\\tf_should_use.py\", line 193, in wrapped\n",
      "    return _add_should_use_warning(fn(*args, **kwargs))\n",
      "==================================\n",
      "ERROR:tensorflow:==================================\n",
      "Object was never used (type <class 'tensorflow.python.ops.tensor_array_ops.TensorArray'>):\n",
      "<tensorflow.python.ops.tensor_array_ops.TensorArray object at 0x0000021432C32DC8>\n",
      "If you want to mark it as used call its \"mark_used()\" method.\n",
      "It was originally created here:\n",
      "  File \"C:\\Users\\811261\\AppData\\Local\\Continuum\\anaconda3\\lib\\site-packages\\tensorflow\\python\\keras\\backend.py\", line 3722, in <genexpr>\n",
      "    for ta, input_ in zip(input_ta, flatted_inputs))  File \"C:\\Users\\811261\\AppData\\Local\\Continuum\\anaconda3\\lib\\site-packages\\tensorflow\\python\\util\\tf_should_use.py\", line 193, in wrapped\n",
      "    return _add_should_use_warning(fn(*args, **kwargs))  File \"C:\\Users\\811261\\AppData\\Local\\Continuum\\anaconda3\\lib\\site-packages\\tensorflow\\python\\ops\\tensor_array_ops.py\", line 1256, in unstack\n",
      "    return self._implementation.unstack(value, name=name)  File \"C:\\Users\\811261\\AppData\\Local\\Continuum\\anaconda3\\lib\\site-packages\\tensorflow\\python\\util\\tf_should_use.py\", line 193, in wrapped\n",
      "    return _add_should_use_warning(fn(*args, **kwargs))  File \"C:\\Users\\811261\\AppData\\Local\\Continuum\\anaconda3\\lib\\site-packages\\tensorflow\\python\\ops\\tensor_array_ops.py\", line 351, in unstack\n",
      "    indices=math_ops.range(0, num_elements), value=value, name=name)  File \"C:\\Users\\811261\\AppData\\Local\\Continuum\\anaconda3\\lib\\site-packages\\tensorflow\\python\\util\\tf_should_use.py\", line 193, in wrapped\n",
      "    return _add_should_use_warning(fn(*args, **kwargs))\n",
      "==================================\n",
      "Model: \"sequential_3\"\n",
      "_________________________________________________________________\n",
      "Layer (type)                 Output Shape              Param #   \n",
      "=================================================================\n",
      "dense_5 (Dense)              (None, 700, 100)          300       \n",
      "_________________________________________________________________\n",
      "lstm_3 (LSTM)                (None, 100)               80400     \n",
      "_________________________________________________________________\n",
      "dense_6 (Dense)              (None, 1)                 101       \n",
      "=================================================================\n",
      "Total params: 80,801\n",
      "Trainable params: 80,801\n",
      "Non-trainable params: 0\n",
      "_________________________________________________________________\n",
      "Train on 126 samples, validate on 14 samples\n",
      "Epoch 1/20\n",
      "126/126 [==============================] - 27s 218ms/sample - loss: 1.1134 - mean_absolute_error: 1.1134 - val_loss: 0.2170 - val_mean_absolute_error: 0.2170\n",
      "Epoch 2/20\n",
      "126/126 [==============================] - 24s 190ms/sample - loss: 0.4982 - mean_absolute_error: 0.4982 - val_loss: 0.0398 - val_mean_absolute_error: 0.0398\n",
      "Epoch 3/20\n",
      "126/126 [==============================] - 26s 206ms/sample - loss: 0.1838 - mean_absolute_error: 0.1838 - val_loss: 0.1017 - val_mean_absolute_error: 0.1017\n",
      "Epoch 4/20\n",
      "126/126 [==============================] - 25s 199ms/sample - loss: 0.1323 - mean_absolute_error: 0.1323 - val_loss: 0.1091 - val_mean_absolute_error: 0.1091\n",
      "[[17.069317]]\n"
     ]
    }
   ],
   "source": [
    "X,y = generate_data(data_path = 'C:/Users/811261/Documents/Research/Lightcurves/sector_lightcurves',data_amount='auto',bins=700)\n",
    "\n",
    "firstRun = True\n",
    "if firstRun is False:\n",
    "    #model = load_model(str('bot.h5'))\n",
    "    print(\"Model loaded\")\n",
    "else:\n",
    "    model = build_model(X,lstm_layers=1,cells=100,output_size=1)\n",
    "model.summary()\n",
    "\n",
    "history = model.fit(X, y, batch_size=50, epochs=20, verbose=1, callbacks = [EarlyStopping(monitor='val_loss', patience=2)], validation_split=0.1)\n",
    "print((model.predict(np.array([X[0]]), verbose=0) * 8) + 10)\n",
    "#model.save(str('bot.h5'))\n"
   ]
  },
  {
   "cell_type": "code",
   "execution_count": null,
   "metadata": {},
   "outputs": [],
   "source": [
    "in_text = input()\n",
    "n_chars = 100\n",
    "diversity = 0.5\n",
    "seq_length = 100\n",
    "\n",
    "generate_seq(model, mapping, in_text, n_chars, diversity, seq_length=seq_length)"
   ]
  },
  {
   "cell_type": "code",
   "execution_count": null,
   "metadata": {},
   "outputs": [],
   "source": [
    "from tensorflow.python.client import device_lib \n",
    "print(device_lib.list_local_devices())"
   ]
  },
  {
   "cell_type": "code",
   "execution_count": 27,
   "metadata": {},
   "outputs": [
    {
     "name": "stdout",
     "output_type": "stream",
     "text": [
      "There are 140 lightcurves present in the data_path\n",
      "Generating lightcurve data complete\n"
     ]
    }
   ],
   "source": [
    "data_amount = 'auto'\n",
    "data_path = 'C:/Users/811261/Documents/Research/Lightcurves/sector_lightcurves'\n",
    "bins=1000\n",
    "if data_amount == 'auto':\n",
    "    data_amount = len(listdir(data_path))\n",
    "    print(\"There are {0} lightcurves present in the data_path\".format(data_amount))\n",
    "list_files = listdir(data_path)[0:data_amount]\n",
    "# generate lightcurve data\n",
    "X = np.zeros((0,1000,2))\n",
    "rows = []\n",
    "for file in list_files:\n",
    "    with open(data_path + '/' + file, 'rb') as rfile:\n",
    "        lc = pickle.load(rfile)\n",
    "    if len(lc.flux)< bins:\n",
    "        continue\n",
    "    lc.quality = np.zeros(len(lc.flux),dtype='int')\n",
    "    lc = lc.remove_outliers(sigma=20).remove_nans()\n",
    "    flux = np.reshape(np.array([lc.time[:bins]]),(bins,1))\n",
    "    time = np.reshape(np.array([lc.flux[:bins]]),(bins,1))\n",
    "    X_curve = np.array([np.concatenate((flux,time),axis=1)])\n",
    "    \n",
    "    X = np.concatenate((X,X_curve),axis=0)\n",
    "    row = int(file.split('-')[0])\n",
    "    rows.append(row)\n",
    "print('Generating lightcurve data complete')"
   ]
  },
  {
   "cell_type": "code",
   "execution_count": 57,
   "metadata": {},
   "outputs": [
    {
     "name": "stdout",
     "output_type": "stream",
     "text": [
      "[17, 17.069316864013672, 17.101011276245117, 17.101011276245117, 17.02680778503418, 17.101011276245117, 17.100982666015625, 17.101011276245117, 17.101011276245117, 17.101011276245117, 17.101011276245117, 17.101011276245117, 17.101011276245117, 17.101011276245117, 17.069316864013672, 17.620288848876953, 17.101011276245117, 17.101011276245117, 17.101011276245117, 17.099929809570312, 17.101011276245117, 17.101011276245117, 17.101011276245117, 17.101011276245117, 17.101011276245117, 17.101011276245117, 17.101011276245117, 17.620288848876953, 17.02680778503418, 17.101011276245117, 17.101011276245117, 17.101011276245117, 17.101011276245117, 17.101011276245117, 17.101011276245117, 17.101011276245117, 17.101011276245117, 17.101011276245117, 17.101011276245117, 17.101011276245117, 17.069316864013672, 17.10093116760254, 17.02680778503418, 17.101011276245117, 17.101011276245117, 17.101011276245117, 17.101011276245117, 17.101011276245117, 17.101011276245117, 17.101011276245117, 17.101011276245117, 17.101011276245117, 17.101011276245117, 17.101011276245117, 17.101011276245117, 17.101011276245117, 17.101011276245117, 17.101011276245117, 17.101011276245117, 17.101011276245117, 17.2893123626709, 17.101011276245117, 17.101011276245117, 17.101011276245117, 17.02680778503418, 17.101011276245117, 17.101011276245117, 17.101011276245117, 17.101011276245117, 17.101011276245117, 17.101011276245117, 17.101011276245117, 17.101011276245117, 17.101011276245117, 17.2893123626709, 17.101011276245117, 17.101011276245117, 17.026809692382812, 17.101011276245117, 17.101011276245117, 17.101011276245117, 17.101011276245117, 17.101011276245117, 17.101011276245117, 17.101011276245117, 17.101011276245117, 17.2893123626709, 17.101011276245117, 17.101011276245117, 17.069316864013672, 17.101011276245117, 17.041885375976562, 17.069316864013672, 17.101011276245117, 17.101011276245117, 17.101011276245117, 17.101011276245117, 17.101011276245117, 17.620288848876953, 17.620288848876953, 17.620288848876953, 17.620288848876953, 17.069316864013672, 17.101011276245117, 17.02680778503418, 17.069316864013672, 17.101011276245117, 17.101011276245117, 17.101011276245117, 17.101011276245117, 17.101011276245117, 17.101011276245117, 17.101011276245117, 17.101011276245117, 17.620288848876953, 17.100561141967773, 17.101011276245117, 17.101011276245117, 17.101011276245117, 17.101011276245117, 17.101011276245117, 17.101011276245117, 17.101011276245117, 17.101011276245117, 17.101011276245117, 17.701969146728516, 17.620288848876953]\n"
     ]
    }
   ],
   "source": [
    "l = [17]\n",
    "for num in range(0,126):\n",
    "    l.append(float((model.predict(np.array([X[num]]), verbose=0) * 8) + 10))\n",
    "print(l)"
   ]
  },
  {
   "cell_type": "code",
   "execution_count": 58,
   "metadata": {},
   "outputs": [
    {
     "name": "stdout",
     "output_type": "stream",
     "text": [
      "17.136375247024176\n"
     ]
    },
    {
     "data": {
      "image/png": "[encoded data removed]",
      "text/plain": [
       "<Figure size 432x288 with 1 Axes>"
      ]
     },
     "metadata": {
      "needs_background": "light"
     },
     "output_type": "display_data"
    }
   ],
   "source": [
    "# Import the libraries\n",
    "import matplotlib.pyplot as plt\n",
    "\n",
    "data = l\n",
    "# matplotlib histogram\n",
    "plt.hist(data, color = 'blue',bins = 20)\n",
    "\n",
    "# Add labels\n",
    "plt.title('Histogram of AGN Brightness (TESS Magnitude)')\n",
    "plt.xlabel('TESS Magnitude')\n",
    "plt.ylabel('Objects per bin')\n",
    "#plt.savefig('sect.png',dpi=1000)\n",
    "print(np.mean(data))"
   ]
  },
  {
   "cell_type": "code",
   "execution_count": 56,
   "metadata": {},
   "outputs": [
    {
     "data": {
      "text/plain": [
       "17.620288848876953"
      ]
     },
     "execution_count": 56,
     "metadata": {},
     "output_type": "execute_result"
    }
   ],
   "source": [
    "float((model.predict(np.array([X[num]]), verbose=0) * 8) + 10)"
   ]
  },
  {
   "cell_type": "code",
   "execution_count": null,
   "metadata": {},
   "outputs": [],
   "source": []
  }
 ],
 "metadata": {
  "kernelspec": {
   "display_name": "Python 3",
   "language": "python",
   "name": "python3"
  },
  "language_info": {
   "codemirror_mode": {
    "name": "ipython",
    "version": 3
   },
   "file_extension": ".py",
   "mimetype": "text/x-python",
   "name": "python",
   "nbconvert_exporter": "python",
   "pygments_lexer": "ipython3",
   "version": "3.7.6"
  }
 },
 "nbformat": 4,
 "nbformat_minor": 4
}
