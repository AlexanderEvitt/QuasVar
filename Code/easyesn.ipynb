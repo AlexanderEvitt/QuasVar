{
 "cells": [
  {
   "cell_type": "code",
   "execution_count": 1,
   "metadata": {},
   "outputs": [
    {
     "name": "stderr",
     "output_type": "stream",
     "text": [
      "Using Numpy backend.\n"
     ]
    }
   ],
   "source": [
    "import matplotlib.pyplot as plt\n",
    "import numpy as np\n",
    "from easyesn import ClassificationESN\n",
    "from easyesn import OneHotEncoder\n",
    "from easyesn.optimizers import GradientOptimizer\n",
    "from easyesn.optimizers import GridSearchOptimizer\n",
    "from easyesn import helper as hlp\n",
    "from sklearn.model_selection import train_test_split\n",
    "import os\n",
    "import math\n",
    "import pandas as pd\n",
    "import pickle\n",
    "from sklearn.metrics import confusion_matrix\n",
    "def unencode(matrix):\n",
    "    new_matrix = np.zeros(matrix.shape[0])\n",
    "    for i in range(matrix.shape[0]):\n",
    "        val = np.where(matrix[i]==1)[0]\n",
    "        new_matrix[i] = classes[int(val)]\n",
    "    return new_matrix"
   ]
  },
  {
   "cell_type": "code",
   "execution_count": 3,
   "metadata": {},
   "outputs": [],
   "source": [
    "n_train = 15000\n",
    "n_test = 2000\n",
    "x_train = np.load('E:/x_r.npy')[:n_train]\n",
    "x_test = np.load('E:/x_r.npy')[n_train:]\n",
    "y_train = np.load('E:/y_r.npy')[:n_train]\n",
    "y_test = np.load('E:/y_r.npy')[n_train:]"
   ]
  },
  {
   "cell_type": "code",
   "execution_count": 6,
   "metadata": {},
   "outputs": [
    {
     "name": "stderr",
     "output_type": "stream",
     "text": [
      "100% (5000 of 5000) |####################| Elapsed Time: 0:02:39 Time:  0:02:39\n"
     ]
    },
    {
     "data": {
      "text/plain": [
       "0.42992197803869037"
      ]
     },
     "execution_count": 6,
     "metadata": {},
     "output_type": "execute_result"
    }
   ],
   "source": [
    "#esn = ClassificationESN(n_input=1, n_classes=len(y[0]), n_reservoir=50, leakingRate=0.2, regressionParameters=[1e-2], solver=\"lsqr\")\n",
    "\n",
    "esn = ClassificationESN(n_input=1, n_classes=len(y_train[0]),\n",
    "                        n_reservoir=250,\n",
    "                        regressionParameters=[1e-6],\n",
    "                        spectralRadius=0.95, noiseLevel=0.00121,\n",
    "                        inputScaling=None,\n",
    "                        leakingRate=1,\n",
    "                        reservoirDensity=0.2,\n",
    "                        randomSeed=42,\n",
    "                        weightGeneration='naive',\n",
    "                        bias=1.0,\n",
    "                        outputBias=1.0,\n",
    "                        outputInputScaling=1.0,\n",
    "                        inputDensity=0.2,\n",
    "                        solver='lsqr')\n",
    "esn.fit(x_train, y_train, verbose=1)"
   ]
  },
  {
   "cell_type": "code",
   "execution_count": 7,
   "metadata": {},
   "outputs": [
    {
     "name": "stderr",
     "output_type": "stream",
     "text": [
      "100% (2000 of 2000) |####################| Elapsed Time: 0:01:00 Time:  0:01:00\n"
     ]
    },
    {
     "data": {
      "image/png": "[encoded data removed]",
      "text/plain": [
       "<Figure size 432x288 with 2 Axes>"
      ]
     },
     "metadata": {
      "needs_background": "light"
     },
     "output_type": "display_data"
    }
   ],
   "source": [
    "y_test_pred = esn.predict(x_test, transientTime=100, verbose=1)\n",
    "\n",
    "classes = [0,1,2,3,4,5]\n",
    "cm = confusion_matrix(unencode(y_test),unencode(y_test_pred),labels=classes)\n",
    "plt.imshow(cm,cmap='jet')\n",
    "plt.xlabel('Predicted y-values')\n",
    "plt.ylabel('Actual y-values')\n",
    "plt.colorbar()\n",
    "plt.show()"
   ]
  },
  {
   "cell_type": "code",
   "execution_count": 86,
   "metadata": {},
   "outputs": [],
   "source": []
  },
  {
   "cell_type": "code",
   "execution_count": null,
   "metadata": {},
   "outputs": [],
   "source": []
  }
 ],
 "metadata": {
  "kernelspec": {
   "display_name": "Python 3",
   "language": "python",
   "name": "python3"
  },
  "language_info": {
   "codemirror_mode": {
    "name": "ipython",
    "version": 3
   },
   "file_extension": ".py",
   "mimetype": "text/x-python",
   "name": "python",
   "nbconvert_exporter": "python",
   "pygments_lexer": "ipython3",
   "version": "3.7.5"
  }
 },
 "nbformat": 4,
 "nbformat_minor": 4
}
