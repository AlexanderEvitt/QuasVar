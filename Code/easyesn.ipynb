{
 "cells": [
  {
   "cell_type": "code",
   "execution_count": 4,
   "metadata": {},
   "outputs": [
    {
     "name": "stderr",
     "output_type": "stream",
     "text": [
      "Using Numpy backend.\n"
     ]
    }
   ],
   "source": [
    "import matplotlib.pyplot as plt\n",
    "import numpy as np\n",
    "from easyesn import ClassificationESN\n",
    "from easyesn import OneHotEncoder\n",
    "from easyesn.optimizers import GradientOptimizer\n",
    "from easyesn.optimizers import GridSearchOptimizer\n",
    "from easyesn import helper as hlp\n",
    "from sklearn.model_selection import train_test_split\n",
    "import os\n",
    "import math\n",
    "import pandas as pd\n",
    "import pickle\n",
    "from sklearn.metrics import confusion_matrix\n",
    "def unencode(matrix):\n",
    "    new_matrix = np.zeros(matrix.shape[0])\n",
    "    for i in range(matrix.shape[0]):\n",
    "        val = np.where(matrix[i]==1)[0]\n",
    "        new_matrix[i] = classes[int(val)]\n",
    "    return new_matrix"
   ]
  },
  {
   "cell_type": "code",
   "execution_count": 83,
   "metadata": {},
   "outputs": [],
   "source": [
    "n_train = 2000\n",
    "n_test = 2000\n",
    "x_train = np.load('E:/xtrain.npy')[:n_train]\n",
    "x_test = np.load('E:/xtest.npy')[:n_test]\n",
    "y_train = np.load('E:/ytrain.npy')[:n_train]\n",
    "y_test = np.load('E:/ytest.npy')[:n_test]"
   ]
  },
  {
   "cell_type": "code",
   "execution_count": 88,
   "metadata": {},
   "outputs": [
    {
     "name": "stderr",
     "output_type": "stream",
     "text": [
      "100% (2000 of 2000) |####################| Elapsed Time: 0:01:00 Time:  0:01:00\n"
     ]
    },
    {
     "data": {
      "text/plain": [
       "0.376801339724515"
      ]
     },
     "execution_count": 88,
     "metadata": {},
     "output_type": "execute_result"
    }
   ],
   "source": [
    "#esn = ClassificationESN(n_input=1, n_classes=len(y[0]), n_reservoir=50, leakingRate=0.2, regressionParameters=[1e-2], solver=\"lsqr\")\n",
    "\n",
    "esn = ClassificationESN(n_input=3, n_classes=len(y_train[0]),\n",
    "                        n_reservoir=500,\n",
    "                        regressionParameters=[1e-6],\n",
    "                        spectralRadius=0.95, noiseLevel=0.00121,\n",
    "                        inputScaling=None,\n",
    "                        leakingRate=1,\n",
    "                        reservoirDensity=0.2,\n",
    "                        randomSeed=42,\n",
    "                        weightGeneration='naive',\n",
    "                        bias=1.0,\n",
    "                        outputBias=1.0,\n",
    "                        outputInputScaling=1.0,\n",
    "                        inputDensity=0.2,\n",
    "                        solver='pinv')\n",
    "esn.fit(x_train, y_train, verbose=1)"
   ]
  },
  {
   "cell_type": "code",
   "execution_count": 89,
   "metadata": {},
   "outputs": [
    {
     "name": "stderr",
     "output_type": "stream",
     "text": [
      "100% (2000 of 2000) |####################| Elapsed Time: 0:00:59 Time:  0:00:59\n"
     ]
    },
    {
     "data": {
      "image/png": "[encoded data removed]",
      "text/plain": [
       "<Figure size 432x288 with 2 Axes>"
      ]
     },
     "metadata": {
      "needs_background": "light"
     },
     "output_type": "display_data"
    }
   ],
   "source": [
    "y_test_pred = esn.predict(x_train, transientTime=100, verbose=1)\n",
    "\n",
    "classes = [0,1,2,3,4,5]\n",
    "cm = confusion_matrix(unencode(y_train),unencode(y_test_pred),labels=classes)\n",
    "plt.imshow(cm,cmap='jet')\n",
    "plt.xlabel('Predicted y-values')\n",
    "plt.ylabel('Actual y-values')\n",
    "plt.colorbar()\n",
    "plt.show()"
   ]
  },
  {
   "cell_type": "code",
   "execution_count": 86,
   "metadata": {},
   "outputs": [],
   "source": [
    "import sys\n",
    "inputLength = 760\n",
    "n = len(os.listdir('E:/sector_lightcurves/'))\n",
    "\n",
    "mags =  pd.read_csv('E:/catalogues/final_quasar_catalogue.csv', sep=',', usecols=['GMAG'],header=0,squeeze=True).to_numpy()\n",
    "magnesiums =  pd.read_csv('E:/catalogues/final_quasar_catalogue.csv', sep=',', usecols=['MBH_MgII'],header=0,squeeze=True)\n",
    "carbons =  pd.read_csv('E:/catalogues/final_quasar_catalogue.csv', sep=',', usecols=['MBH_CIV'],header=0,squeeze=True)\n",
    "masses = np.zeros(n)\n",
    "for i in range(len(masses)):\n",
    "    mag = magnesiums[i]\n",
    "    car = carbons[i]\n",
    "    if not math.isnan(mag) and not math.isnan(car):\n",
    "        mass = 0.5*(mag+car)\n",
    "    elif not math.isnan(mag):\n",
    "        mass = mag\n",
    "    elif not math.isnan(car):\n",
    "        mass = car\n",
    "    masses[i] = mass\n",
    "\n",
    "mags = mags/np.max(mags)\n",
    "y = np.zeros((n,6))\n",
    "for i in range(len(masses)):\n",
    "    if masses[i] < 8.5:\n",
    "        y[i,0] = 1\n",
    "    elif masses[i] < 8.75:\n",
    "        y[i,1] = 1\n",
    "    elif masses[i] < 9:\n",
    "        y[i,2] = 1\n",
    "    elif masses[i] < 9.25:\n",
    "        y[i,3] = 1\n",
    "    elif masses[i] < 9.5:\n",
    "        y[i,4] = 1\n",
    "    else:\n",
    "        y[i,5] = 1\n",
    "\n",
    "x = []\n",
    "for file in os.listdir('E:/sector_lightcurves/')[:n]:\n",
    "    row = int(file.split('-')[0])\n",
    "    with open('E:/sector_lightcurves/'+file,'rb') as rfile:\n",
    "        lc = pickle.load(rfile)\n",
    "    lc = lc.remove_nans().remove_outliers(sigma=25)\n",
    "    #cut_std = np.std(lc.remove_outliers(sigma=3).flux[:inputLength])\n",
    "    cut_std = np.std(lc.flux[:inputLength])\n",
    "    flux = lc.flux[:inputLength]/cut_std\n",
    "    x.append(np.vstack((flux,mags[row]*np.ones(inputLength))).transpose())\n",
    "x = np.array(x)\n",
    "\n",
    "#x_train, x_test, y_train, y_test = train_test_split(x, y, test_size=0.2, random_state=42)"
   ]
  },
  {
   "cell_type": "code",
   "execution_count": 89,
   "metadata": {},
   "outputs": [],
   "source": [
    "#alternative that doens't add another variable like mag\n",
    "inputLength = 760\n",
    "n = len(os.listdir('E:/sector_lightcurves/'))\n",
    "\n",
    "magnesiums =  pd.read_csv('E:/catalogues/final_quasar_catalogue.csv', sep=',', usecols=['MBH_MgII'],header=0,squeeze=True)\n",
    "carbons =  pd.read_csv('E:/catalogues/final_quasar_catalogue.csv', sep=',', usecols=['MBH_CIV'],header=0,squeeze=True)\n",
    "masses = np.zeros(n)\n",
    "for i in range(len(masses)):\n",
    "    mag = magnesiums[i]\n",
    "    car = carbons[i]\n",
    "    if not math.isnan(mag) and not math.isnan(car):\n",
    "        mass = 0.5*(mag+car)\n",
    "    elif not math.isnan(mag):\n",
    "        mass = mag\n",
    "    elif not math.isnan(car):\n",
    "        mass = car\n",
    "    masses[i] = mass\n",
    "\n",
    "mags = mags/np.max(mags)\n",
    "y = np.zeros((n,6))\n",
    "for i in range(len(masses)):\n",
    "    if masses[i] < 8.5:\n",
    "        y[i,0] = 1\n",
    "    elif masses[i] < 8.75:\n",
    "        y[i,1] = 1\n",
    "    elif masses[i] < 9:\n",
    "        y[i,2] = 1\n",
    "    elif masses[i] < 9.25:\n",
    "        y[i,3] = 1\n",
    "    elif masses[i] < 9.5:\n",
    "        y[i,4] = 1\n",
    "    else:\n",
    "        y[i,5] = 1\n",
    "\n",
    "x = []\n",
    "for file in os.listdir('E:/sector_lightcurves/')[:n]:\n",
    "    row = int(file.split('-')[0])\n",
    "    with open('E:/sector_lightcurves/'+file,'rb') as rfile:\n",
    "        lc = pickle.load(rfile)\n",
    "    lc = lc.remove_nans().remove_outliers(sigma=25)\n",
    "    #cut_std = np.std(lc.remove_outliers(sigma=3).flux[:inputLength])\n",
    "    cut_std = np.std(lc.flux[:inputLength])\n",
    "    flux = lc.flux[:inputLength]/cut_std\n",
    "    flux = np.array([np.array([flux[i]]) for i in range(len(flux))])\n",
    "    x.append(flux)\n",
    "x = np.array(x)\n",
    "\n",
    "np.save('x_magless.npy',x)\n",
    "np.save('y_magless.npy',y)\n",
    "\n",
    "#x_train, x_test, y_train, y_test = train_test_split(x, y, test_size=0.2, random_state=42)"
   ]
  },
  {
   "cell_type": "code",
   "execution_count": 20,
   "metadata": {},
   "outputs": [
    {
     "name": "stdout",
     "output_type": "stream",
     "text": [
      "[[2.38544027 2.02439423]\n",
      " [2.91856997 2.87101523]\n",
      " [2.52816535 2.84213482]\n",
      " [2.86960241 2.90892078]\n",
      " [2.42733123 2.34374843]\n",
      " [2.10584282 2.66276945]\n",
      " [2.6516806  2.78581572]\n",
      " [2.0128003  2.59520533]\n",
      " [2.46011843 2.04024334]\n",
      " [2.05692964 2.4210092 ]\n",
      " [2.51029296 2.35402675]\n",
      " [2.62051666 2.7555925 ]\n",
      " [2.72198995 2.52081573]\n",
      " [2.02470773 2.33096586]\n",
      " [2.41247622 2.51063658]]\n"
     ]
    },
    {
     "data": {
      "text/plain": [
       "array([[-0.21797989, -1.86405661],\n",
       "       [ 1.66681611,  1.25014641],\n",
       "       [ 0.28660212,  1.14391297],\n",
       "       [ 1.49369901,  1.38957784],\n",
       "       [-0.06988102, -0.68934703],\n",
       "       [-1.20645261,  0.48413702],\n",
       "       [ 0.72327082,  0.93674933],\n",
       "       [-1.53538977,  0.23560976],\n",
       "       [ 0.04603295, -1.80575741],\n",
       "       [-1.37937742, -0.40515171],\n",
       "       [ 0.2234171 , -0.65153932],\n",
       "       [ 0.61309563,  0.82557648],\n",
       "       [ 0.97183844, -0.03802427],\n",
       "       [-1.49329291, -0.73636631],\n",
       "       [-0.12239854, -0.07546716]])"
      ]
     },
     "execution_count": 20,
     "metadata": {},
     "output_type": "execute_result"
    }
   ],
   "source": [
    "from sklearn.preprocessing import StandardScaler\n",
    "ss = StandardScaler()\n",
    "data = np.random.uniform(3,2,(15,2))\n",
    "print(data)\n",
    "ss.fit_transform(data)"
   ]
  },
  {
   "cell_type": "code",
   "execution_count": 87,
   "metadata": {},
   "outputs": [],
   "source": [
    "np.save('x_standardized.npy',x)\n",
    "np.save('y_standardized.npy',y)"
   ]
  },
  {
   "cell_type": "code",
   "execution_count": 30,
   "metadata": {},
   "outputs": [
    {
     "name": "stdout",
     "output_type": "stream",
     "text": [
      "(18955,)\n"
     ]
    }
   ],
   "source": [
    "import os\n",
    "#alternative that regresses\n",
    "inputLength = 760\n",
    "n = len(os.listdir('E:/sector_lightcurves/'))\n",
    "\n",
    "magnesiums =  pd.read_csv('E:/catalogues/final_quasar_catalogue.csv', sep=',', usecols=['MBH_MgII'],header=0,squeeze=True)\n",
    "carbons =  pd.read_csv('E:/catalogues/final_quasar_catalogue.csv', sep=',', usecols=['MBH_CIV'],header=0,squeeze=True)\n",
    "masses = np.zeros(n)\n",
    "for i in range(len(masses)):\n",
    "    mag = magnesiums[i]\n",
    "    car = carbons[i]\n",
    "    if not math.isnan(mag) and not math.isnan(car):\n",
    "        mass = 0.5*(mag+car)\n",
    "    elif not math.isnan(mag):\n",
    "        mass = mag\n",
    "    elif not math.isnan(car):\n",
    "        mass = car\n",
    "    masses[i] = np.array([mass])\n",
    "\n",
    "y = (masses-np.mean(masses))/np.std(masses)\n",
    "\n",
    "\n",
    "print(y.shape)\n",
    "\n",
    "x = []\n",
    "for file in os.listdir('E:/sector_lightcurves/')[:n]:\n",
    "    row = int(file.split('-')[0])\n",
    "    with open('E:/sector_lightcurves/'+file,'rb') as rfile:\n",
    "        lc = pickle.load(rfile)\n",
    "    lc = lc.remove_nans().remove_outliers(sigma=25)\n",
    "    #cut_std = np.std(lc.remove_outliers(sigma=3).flux[:inputLength])\n",
    "    cut_std = np.std(lc.flux[:inputLength])\n",
    "    flux = lc.flux[:inputLength]/cut_std\n",
    "    flux = np.array([np.array([flux[i]]) for i in range(len(flux))])\n",
    "    x.append(flux)\n",
    "x = np.array(x)\n",
    "\n",
    "np.save('E:/x_r.npy',x)\n",
    "np.save('E:/y_r.npy',y)\n",
    "\n",
    "#x_train, x_test, y_train, y_test = train_test_split(x, y, test_size=0.2, random_state=42)"
   ]
  },
  {
   "cell_type": "code",
   "execution_count": 34,
   "metadata": {},
   "outputs": [
    {
     "data": {
      "text/plain": [
       "-4.726224090277038"
      ]
     },
     "execution_count": 34,
     "metadata": {},
     "output_type": "execute_result"
    }
   ],
   "source": [
    "np.min(y)"
   ]
  },
  {
   "cell_type": "code",
   "execution_count": 16,
   "metadata": {},
   "outputs": [
    {
     "data": {
      "text/plain": [
       "(18955, 760, 2)"
      ]
     },
     "execution_count": 16,
     "metadata": {},
     "output_type": "execute_result"
    }
   ],
   "source": [
    "x.shape"
   ]
  },
  {
   "cell_type": "code",
   "execution_count": 42,
   "metadata": {},
   "outputs": [
    {
     "name": "stdout",
     "output_type": "stream",
     "text": [
      "1\n"
     ]
    }
   ],
   "source": [
    "file = '1-1lc.pickle'\n",
    "print(file.split('lc')[0].split('-')[1])"
   ]
  },
  {
   "cell_type": "code",
   "execution_count": null,
   "metadata": {},
   "outputs": [],
   "source": []
  }
 ],
 "metadata": {
  "kernelspec": {
   "display_name": "Python 3",
   "language": "python",
   "name": "python3"
  },
  "language_info": {
   "codemirror_mode": {
    "name": "ipython",
    "version": 3
   },
   "file_extension": ".py",
   "mimetype": "text/x-python",
   "name": "python",
   "nbconvert_exporter": "python",
   "pygments_lexer": "ipython3",
   "version": "3.7.5"
  }
 },
 "nbformat": 4,
 "nbformat_minor": 4
}
