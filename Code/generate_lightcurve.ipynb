{
 "cells": [
  {
   "cell_type": "code",
   "execution_count": 1,
   "metadata": {},
   "outputs": [
    {
     "name": "stdout",
     "output_type": "stream",
     "text": [
      "gzip was not found on your system! You should solve this issue for astroquery.eso to be at its best!\n",
      "On POSIX system: make sure gzip is installed and in your path!On Windows: same for 7-zip (http://www.7-zip.org)!\n"
     ]
    }
   ],
   "source": [
    "import eleanor\n",
    "import lightkurve as lk \n",
    "from IPython.display import clear_output\n",
    "import pandas as pd\n",
    "import numpy as np\n",
    "import pickle\n",
    "from os import listdir\n",
    "import warnings"
   ]
  },
  {
   "cell_type": "code",
   "execution_count": 20,
   "metadata": {},
   "outputs": [
    {
     "name": "stdout",
     "output_type": "stream",
     "text": [
      "[195, 627, 981, 1472, 2910, 3613, 3643, 3670, 3716, 3763, 3802, 3855, 3875, 3949, 4146, 4157, 4215, 4241, 4482, 4518, 4609, 4648, 4768, 4887, 5332, 5362, 5391, 5431, 5556, 5561]\n",
      "0.33785957607872824\n"
     ]
    }
   ],
   "source": [
    "warnings.filterwarnings('ignore')\n",
    "file_list = []\n",
    "for files in listdir('F:/lightcurves'):\n",
    "    file_list.append(int(files[:-9]))\n",
    "total_targets = range(0,len(pd.read_csv('F:/catalogues/final_quasar_catalogue.csv', sep=',', header=0, usecols=['RA'],squeeze=True)))\n",
    "target_list = [x for x in total_targets if x not in file_list]\n",
    "print(target_list[:30])\n",
    "print(len(target_list)/len(total_targets))"
   ]
  },
  {
   "cell_type": "code",
   "execution_count": null,
   "metadata": {},
   "outputs": [
    {
     "name": "stdout",
     "output_type": "stream",
     "text": [
      "Done\n",
      "Found star in Sector(s) 14 15 21\n",
      "Downloading URL https://mast.stsci.edu/tesscut/api/v0.1/astrocut?ra=195.17799009952907&dec=64.19032365640582&y=31&x=31&units=px&sector=14 to C:\\Users\\abcmo\\.eleanor/tesscut\\tesscut_20200509142957.zip ... [Done]\n",
      "Inflating...\n",
      "Downloading URL https://mast.stsci.edu/tesscut/api/v0.1/astrocut?ra=195.17799009952907&dec=64.19032365640582&y=31&x=31&units=px&sector=15 to C:\\Users\\abcmo\\.eleanor/tesscut\\tesscut_20200509143008.zip ... [Done]\n",
      "Inflating...\n",
      "Downloading URL https://mast.stsci.edu/tesscut/api/v0.1/astrocut?ra=195.17799009952907&dec=64.19032365640582&y=31&x=31&units=px&sector=21 to C:\\Users\\abcmo\\.eleanor/tesscut\\tesscut_20200509143020.zip ..."
     ]
    }
   ],
   "source": [
    "ral = pd.read_csv('F:/catalogues/final_quasar_catalogue.csv', sep=',', header=0, usecols=['RA'],squeeze=True)\n",
    "decl = pd.read_csv('F:/catalogues/final_quasar_catalogue.csv', sep=',', header=0, usecols=['DEC'],squeeze=True)\n",
    "terrible_targets = []\n",
    "\n",
    "for row in target_list[10:]:\n",
    "    try:\n",
    "        ra = ral[row]\n",
    "        dec = decl[row]\n",
    "\n",
    "        star = eleanor.multi_sectors(sectors='all',tic=0,coords=(ra,dec),tc=True)\n",
    "\n",
    "        full_lc = lk.LightCurve([],[])\n",
    "        for observation in star:\n",
    "            data = eleanor.TargetData(observation,bkg_size=15,do_pca=False)\n",
    "            data.custom_aperture(shape='rectangle', h=1,w=1, method='exact')\n",
    "            data.get_lightcurve()\n",
    "\n",
    "            q = data.quality == 0\n",
    "\n",
    "            lc = data.to_lightkurve()#flux=data.pca_flux)\n",
    "            lc.flux = lc.flux - np.median(lc.flux)\n",
    "            full_lc = full_lc.append(lc)\n",
    "\n",
    "            with open('F:/sector_lightcurves/' + str(row) + '-' + str(observation.sector) + 'lc.pickle','wb') as wfile:\n",
    "                pickle.dump(lc,wfile)\n",
    "        with open('F:/lightcurves/' + str(row) + 'lc.pickle','wb') as wfile:\n",
    "            pickle.dump(full_lc,wfile)\n",
    "        clear_output()\n",
    "        print(\"Done\")\n",
    "    except:\n",
    "        terrible_targets.append(row)\n",
    "        clear_output()\n",
    "        print(\"Error\")\n",
    "        continue"
   ]
  },
  {
   "cell_type": "code",
   "execution_count": 12,
   "metadata": {},
   "outputs": [
    {
     "data": {
      "text/plain": [
       "0"
      ]
     },
     "execution_count": 12,
     "metadata": {},
     "output_type": "execute_result"
    }
   ],
   "source": [
    "from tess_stars2px import tess_stars2px_function_entry as tess_stars2px\n",
    "result = tess_stars2px(8675309, ra, dec)\n",
    "sector = result[3][result[3] < 21.5]\n",
    "sectors = sector.tolist()\n",
    "len(sectors)"
   ]
  },
  {
   "cell_type": "code",
   "execution_count": null,
   "metadata": {},
   "outputs": [],
   "source": []
  }
 ],
 "metadata": {
  "kernelspec": {
   "display_name": "Python 3",
   "language": "python",
   "name": "python3"
  },
  "language_info": {
   "codemirror_mode": {
    "name": "ipython",
    "version": 3
   },
   "file_extension": ".py",
   "mimetype": "text/x-python",
   "name": "python",
   "nbconvert_exporter": "python",
   "pygments_lexer": "ipython3",
   "version": "3.7.6"
  }
 },
 "nbformat": 4,
 "nbformat_minor": 4
}
