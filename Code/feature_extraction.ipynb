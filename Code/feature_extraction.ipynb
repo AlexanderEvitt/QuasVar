{
 "cells": [
  {
   "cell_type": "code",
   "execution_count": 6,
   "metadata": {},
   "outputs": [
    {
     "name": "stderr",
     "output_type": "stream",
     "text": [
      "100%|████████████████████████████████████████████████████████████████████████████| 15767/15767 [02:48<00:00, 93.74it/s]\n"
     ]
    }
   ],
   "source": [
    "from tsfresh import extract_features\n",
    "import pandas as pd\n",
    "import numpy as np\n",
    "import pickle\n",
    "import os\n",
    "from tqdm import tqdm\n",
    "\n",
    "\n",
    "frames = []\n",
    "counter = 1\n",
    "for file in tqdm(os.listdir('F:/lightcurves/')):\n",
    "    filepath = 'F:/lightcurves/' + file\n",
    "    with open(filepath,'rb') as rfile:\n",
    "        lc = pickle.load(rfile)\n",
    "    frames.append(pd.DataFrame({'id':counter*np.ones(len(lc.flux)),'time':lc.time,'flux':lc.flux}))\n",
    "    counter = counter + 1\n",
    "timeseries = pd.concat(frames)"
   ]
  },
  {
   "cell_type": "code",
   "execution_count": null,
   "metadata": {},
   "outputs": [
    {
     "name": "stderr",
     "output_type": "stream",
     "text": [
      "\r",
      "Feature Extraction:   0%|                                                                       | 0/10 [00:00<?, ?it/s]"
     ]
    }
   ],
   "source": [
    "extracted_features = extract_features(timeseries, column_id=\"id\", column_sort=\"time\")"
   ]
  },
  {
   "cell_type": "code",
   "execution_count": 16,
   "metadata": {},
   "outputs": [
    {
     "name": "stdout",
     "output_type": "stream",
     "text": [
      "763\n"
     ]
    },
    {
     "data": {
      "text/plain": [
       "id\n",
       "1.0      8440.162238\n",
       "2.0      5331.049356\n",
       "3.0      6833.173367\n",
       "4.0      8490.189776\n",
       "5.0      5378.675228\n",
       "            ...     \n",
       "136.0    4905.288059\n",
       "137.0    4856.394545\n",
       "138.0    -760.834600\n",
       "139.0    4670.863339\n",
       "140.0    4759.945606\n",
       "Name: flux__mean, Length: 140, dtype: float64"
      ]
     },
     "execution_count": 16,
     "metadata": {},
     "output_type": "execute_result"
    }
   ],
   "source": [
    "print(len(extracted_features.columns))\n",
    "extracted_features['flux__mean']"
   ]
  },
  {
   "cell_type": "code",
   "execution_count": 28,
   "metadata": {},
   "outputs": [
    {
     "ename": "IndexError",
     "evalue": "only integers, slices (`:`), ellipsis (`...`), numpy.newaxis (`None`) and integer or boolean arrays are valid indices",
     "output_type": "error",
     "traceback": [
      "\u001b[1;31m---------------------------------------------------------------------------\u001b[0m",
      "\u001b[1;31mIndexError\u001b[0m                                Traceback (most recent call last)",
      "\u001b[1;32m<ipython-input-28-da8d093c7d91>\u001b[0m in \u001b[0;36m<module>\u001b[1;34m\u001b[0m\n\u001b[0;32m      2\u001b[0m \u001b[0mn\u001b[0m \u001b[1;33m=\u001b[0m \u001b[1;34m'mean'\u001b[0m\u001b[1;33m\u001b[0m\u001b[1;33m\u001b[0m\u001b[0m\n\u001b[0;32m      3\u001b[0m \u001b[0mb\u001b[0m \u001b[1;33m=\u001b[0m \u001b[1;36m25\u001b[0m\u001b[1;33m\u001b[0m\u001b[1;33m\u001b[0m\u001b[0m\n\u001b[1;32m----> 4\u001b[1;33m \u001b[0mprint\u001b[0m\u001b[1;33m(\u001b[0m\u001b[0mextracted_features\u001b[0m\u001b[1;33m.\u001b[0m\u001b[0mcolumns\u001b[0m\u001b[1;33m[\u001b[0m\u001b[0mn\u001b[0m\u001b[1;33m]\u001b[0m\u001b[1;33m[\u001b[0m\u001b[1;36m6\u001b[0m\u001b[1;33m:\u001b[0m\u001b[1;33m]\u001b[0m\u001b[1;33m)\u001b[0m\u001b[1;33m\u001b[0m\u001b[1;33m\u001b[0m\u001b[0m\n\u001b[0m\u001b[0;32m      5\u001b[0m \u001b[0mdata\u001b[0m \u001b[1;33m=\u001b[0m \u001b[0mextracted_features\u001b[0m\u001b[1;33m[\u001b[0m\u001b[0mextracted_features\u001b[0m\u001b[1;33m.\u001b[0m\u001b[0mcolumns\u001b[0m\u001b[1;33m[\u001b[0m\u001b[0mn\u001b[0m\u001b[1;33m]\u001b[0m\u001b[1;33m]\u001b[0m\u001b[1;33m\u001b[0m\u001b[1;33m\u001b[0m\u001b[0m\n\u001b[0;32m      6\u001b[0m \u001b[0mprint\u001b[0m\u001b[1;33m(\u001b[0m\u001b[0mnp\u001b[0m\u001b[1;33m.\u001b[0m\u001b[0mmax\u001b[0m\u001b[1;33m(\u001b[0m\u001b[0mdata\u001b[0m\u001b[1;33m)\u001b[0m\u001b[1;33m/\u001b[0m\u001b[0mnp\u001b[0m\u001b[1;33m.\u001b[0m\u001b[0mstd\u001b[0m\u001b[1;33m(\u001b[0m\u001b[0mdata\u001b[0m\u001b[1;33m)\u001b[0m\u001b[1;33m)\u001b[0m\u001b[1;33m\u001b[0m\u001b[1;33m\u001b[0m\u001b[0m\n",
      "\u001b[1;32m~\\AppData\\Local\\Continuum\\anaconda3\\lib\\site-packages\\pandas\\core\\indexes\\base.py\u001b[0m in \u001b[0;36m__getitem__\u001b[1;34m(self, key)\u001b[0m\n\u001b[0;32m   3928\u001b[0m         \u001b[1;32mif\u001b[0m \u001b[0mis_scalar\u001b[0m\u001b[1;33m(\u001b[0m\u001b[0mkey\u001b[0m\u001b[1;33m)\u001b[0m\u001b[1;33m:\u001b[0m\u001b[1;33m\u001b[0m\u001b[1;33m\u001b[0m\u001b[0m\n\u001b[0;32m   3929\u001b[0m             \u001b[0mkey\u001b[0m \u001b[1;33m=\u001b[0m \u001b[0mcom\u001b[0m\u001b[1;33m.\u001b[0m\u001b[0mcast_scalar_indexer\u001b[0m\u001b[1;33m(\u001b[0m\u001b[0mkey\u001b[0m\u001b[1;33m)\u001b[0m\u001b[1;33m\u001b[0m\u001b[1;33m\u001b[0m\u001b[0m\n\u001b[1;32m-> 3930\u001b[1;33m             \u001b[1;32mreturn\u001b[0m \u001b[0mgetitem\u001b[0m\u001b[1;33m(\u001b[0m\u001b[0mkey\u001b[0m\u001b[1;33m)\u001b[0m\u001b[1;33m\u001b[0m\u001b[1;33m\u001b[0m\u001b[0m\n\u001b[0m\u001b[0;32m   3931\u001b[0m \u001b[1;33m\u001b[0m\u001b[0m\n\u001b[0;32m   3932\u001b[0m         \u001b[1;32mif\u001b[0m \u001b[0misinstance\u001b[0m\u001b[1;33m(\u001b[0m\u001b[0mkey\u001b[0m\u001b[1;33m,\u001b[0m \u001b[0mslice\u001b[0m\u001b[1;33m)\u001b[0m\u001b[1;33m:\u001b[0m\u001b[1;33m\u001b[0m\u001b[1;33m\u001b[0m\u001b[0m\n",
      "\u001b[1;31mIndexError\u001b[0m: only integers, slices (`:`), ellipsis (`...`), numpy.newaxis (`None`) and integer or boolean arrays are valid indices"
     ]
    }
   ],
   "source": [
    "import matplotlib.pyplot as plt\n",
    "n = 'mean'\n",
    "b = 25\n",
    "print(extracted_features.columns[n][6:])\n",
    "data = extracted_features[extracted_features.columns[n]]\n",
    "print(np.max(data)/np.std(data))\n",
    "plt.hist(data,bins=b)"
   ]
  },
  {
   "cell_type": "code",
   "execution_count": 7,
   "metadata": {},
   "outputs": [
    {
     "ename": "NameError",
     "evalue": "name 'extracted_features' is not defined",
     "output_type": "error",
     "traceback": [
      "\u001b[1;31m---------------------------------------------------------------------------\u001b[0m",
      "\u001b[1;31mNameError\u001b[0m                                 Traceback (most recent call last)",
      "\u001b[1;32m<ipython-input-7-f4bdd063ec9b>\u001b[0m in \u001b[0;36m<module>\u001b[1;34m\u001b[0m\n\u001b[1;32m----> 1\u001b[1;33m \u001b[0mextracted_features\u001b[0m\u001b[1;33m.\u001b[0m\u001b[0mto_csv\u001b[0m\u001b[1;33m(\u001b[0m\u001b[1;34m'F:/catalogues/features.csv'\u001b[0m\u001b[1;33m)\u001b[0m\u001b[1;33m\u001b[0m\u001b[1;33m\u001b[0m\u001b[0m\n\u001b[0m",
      "\u001b[1;31mNameError\u001b[0m: name 'extracted_features' is not defined"
     ]
    }
   ],
   "source": [
    "extracted_features.to_csv('F:/catalogues/features.csv')"
   ]
  },
  {
   "cell_type": "code",
   "execution_count": 2,
   "metadata": {},
   "outputs": [
    {
     "name": "stdout",
     "output_type": "stream",
     "text": [
      "Collecting tsfresh\n",
      "  Downloading https://files.pythonhosted.org/packages/46/52/978e078fb1fe411b85f04b224cd54267b53096111f88a5513b7bffa181f6/tsfresh-0.16.0-py2.py3-none-any.whl (85kB)\n",
      "Requirement already satisfied: distributed>=1.18.3 in c:\\users\\abcmo\\anaconda3\\lib\\site-packages (from tsfresh) (2.9.1)\n",
      "Requirement already satisfied: requests>=2.9.1 in c:\\users\\abcmo\\anaconda3\\lib\\site-packages (from tsfresh) (2.22.0)\n",
      "Requirement already satisfied: statsmodels>=0.8.0 in c:\\users\\abcmo\\anaconda3\\lib\\site-packages (from tsfresh) (0.10.1)\n",
      "Requirement already satisfied: scikit-learn>=0.19.0 in c:\\users\\abcmo\\anaconda3\\lib\\site-packages (from tsfresh) (0.22.1)\n",
      "Requirement already satisfied: pandas!=0.24.*,>=0.20.3 in c:\\users\\abcmo\\anaconda3\\lib\\site-packages (from tsfresh) (1.0.3)\n",
      "Requirement already satisfied: numpy>=1.15.1 in c:\\users\\abcmo\\anaconda3\\lib\\site-packages (from tsfresh) (1.18.1)\n",
      "Requirement already satisfied: patsy>=0.4.1 in c:\\users\\abcmo\\anaconda3\\lib\\site-packages (from tsfresh) (0.5.1)\n",
      "Requirement already satisfied: scipy>=1.2.0 in c:\\users\\abcmo\\anaconda3\\lib\\site-packages (from tsfresh) (1.4.1)\n",
      "Requirement already satisfied: tqdm>=4.10.0 in c:\\users\\abcmo\\anaconda3\\lib\\site-packages (from tsfresh) (4.41.1)\n",
      "Requirement already satisfied: dask[dataframe]>=0.15.2 in c:\\users\\abcmo\\anaconda3\\lib\\site-packages (from tsfresh) (2.9.1)\n",
      "Requirement already satisfied: tornado>=5 in c:\\users\\abcmo\\anaconda3\\lib\\site-packages (from distributed>=1.18.3->tsfresh) (6.0.3)\n",
      "Requirement already satisfied: toolz>=0.7.4 in c:\\users\\abcmo\\anaconda3\\lib\\site-packages (from distributed>=1.18.3->tsfresh) (0.10.0)\n",
      "Requirement already satisfied: tblib in c:\\users\\abcmo\\anaconda3\\lib\\site-packages (from distributed>=1.18.3->tsfresh) (1.6.0)\n",
      "Requirement already satisfied: pyyaml in c:\\users\\abcmo\\anaconda3\\lib\\site-packages (from distributed>=1.18.3->tsfresh) (5.2)\n",
      "Requirement already satisfied: psutil>=5.0 in c:\\users\\abcmo\\anaconda3\\lib\\site-packages (from distributed>=1.18.3->tsfresh) (5.6.7)\n",
      "Requirement already satisfied: zict>=0.1.3 in c:\\users\\abcmo\\anaconda3\\lib\\site-packages (from distributed>=1.18.3->tsfresh) (1.0.0)\n",
      "Requirement already satisfied: cloudpickle>=0.2.2 in c:\\users\\abcmo\\anaconda3\\lib\\site-packages (from distributed>=1.18.3->tsfresh) (1.2.2)\n",
      "Requirement already satisfied: click>=6.6 in c:\\users\\abcmo\\anaconda3\\lib\\site-packages (from distributed>=1.18.3->tsfresh) (7.0)\n",
      "Requirement already satisfied: setuptools in c:\\users\\abcmo\\anaconda3\\lib\\site-packages (from distributed>=1.18.3->tsfresh) (44.0.0.post20200106)\n",
      "Requirement already satisfied: msgpack in c:\\users\\abcmo\\anaconda3\\lib\\site-packages (from distributed>=1.18.3->tsfresh) (0.6.1)\n",
      "Requirement already satisfied: sortedcontainers!=2.0.0,!=2.0.1 in c:\\users\\abcmo\\anaconda3\\lib\\site-packages (from distributed>=1.18.3->tsfresh) (2.1.0)\n",
      "Requirement already satisfied: idna<2.9,>=2.5 in c:\\users\\abcmo\\anaconda3\\lib\\site-packages (from requests>=2.9.1->tsfresh) (2.8)\n",
      "Requirement already satisfied: certifi>=2017.4.17 in c:\\users\\abcmo\\anaconda3\\lib\\site-packages (from requests>=2.9.1->tsfresh) (2020.4.5.1)\n",
      "Requirement already satisfied: urllib3!=1.25.0,!=1.25.1,<1.26,>=1.21.1 in c:\\users\\abcmo\\anaconda3\\lib\\site-packages (from requests>=2.9.1->tsfresh) (1.25.7)\n",
      "Requirement already satisfied: chardet<3.1.0,>=3.0.2 in c:\\users\\abcmo\\anaconda3\\lib\\site-packages (from requests>=2.9.1->tsfresh) (3.0.4)\n",
      "Requirement already satisfied: joblib>=0.11 in c:\\users\\abcmo\\anaconda3\\lib\\site-packages (from scikit-learn>=0.19.0->tsfresh) (0.14.1)\n",
      "Requirement already satisfied: pytz>=2017.2 in c:\\users\\abcmo\\anaconda3\\lib\\site-packages (from pandas!=0.24.*,>=0.20.3->tsfresh) (2019.3)\n",
      "Requirement already satisfied: python-dateutil>=2.6.1 in c:\\users\\abcmo\\anaconda3\\lib\\site-packages (from pandas!=0.24.*,>=0.20.3->tsfresh) (2.8.1)\n",
      "Requirement already satisfied: six in c:\\users\\abcmo\\anaconda3\\lib\\site-packages (from patsy>=0.4.1->tsfresh) (1.13.0)\n",
      "Requirement already satisfied: fsspec>=0.6.0; extra == \"dataframe\" in c:\\users\\abcmo\\anaconda3\\lib\\site-packages (from dask[dataframe]>=0.15.2->tsfresh) (0.6.2)\n",
      "Requirement already satisfied: partd>=0.3.10; extra == \"dataframe\" in c:\\users\\abcmo\\anaconda3\\lib\\site-packages (from dask[dataframe]>=0.15.2->tsfresh) (1.1.0)\n",
      "Requirement already satisfied: heapdict in c:\\users\\abcmo\\anaconda3\\lib\\site-packages (from zict>=0.1.3->distributed>=1.18.3->tsfresh) (1.0.1)\n",
      "Requirement already satisfied: locket in c:\\users\\abcmo\\anaconda3\\lib\\site-packages (from partd>=0.3.10; extra == \"dataframe\"->dask[dataframe]>=0.15.2->tsfresh) (0.2.0)\n",
      "Installing collected packages: tsfresh\n",
      "Successfully installed tsfresh-0.16.0\n",
      "Note: you may need to restart the kernel to use updated packages.\n"
     ]
    }
   ],
   "source": [
    "pip install tsfresh"
   ]
  },
  {
   "cell_type": "code",
   "execution_count": null,
   "metadata": {},
   "outputs": [],
   "source": []
  }
 ],
 "metadata": {
  "kernelspec": {
   "display_name": "Python 3",
   "language": "python",
   "name": "python3"
  },
  "language_info": {
   "codemirror_mode": {
    "name": "ipython",
    "version": 3
   },
   "file_extension": ".py",
   "mimetype": "text/x-python",
   "name": "python",
   "nbconvert_exporter": "python",
   "pygments_lexer": "ipython3",
   "version": "3.7.6"
  }
 },
 "nbformat": 4,
 "nbformat_minor": 4
}
