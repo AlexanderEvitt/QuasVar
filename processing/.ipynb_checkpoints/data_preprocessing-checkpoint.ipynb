{
 "cells": [
  {
   "cell_type": "code",
   "execution_count": 1,
   "metadata": {},
   "outputs": [],
   "source": [
    "import sys\n",
    "import numpy as np\n",
    "import pandas as pd\n",
    "import math\n",
    "import os\n",
    "import pickle\n",
    "import matplotlib.pyplot as plt"
   ]
  },
  {
   "cell_type": "code",
   "execution_count": 110,
   "metadata": {},
   "outputs": [
    {
     "name": "stdout",
     "output_type": "stream",
     "text": [
      "1178\n"
     ]
    }
   ],
   "source": [
    "'''\n",
    "Creates x array, by sector, appending stars to the end of blazars\n",
    "'''\n",
    "\n",
    "# This is the length of the light curve being used, 760 is a nice balance between length\n",
    "inputLength = 760\n",
    "x = []\n",
    "\n",
    "for file in os.listdir('E:/lightcurves/blazar/sector/'):\n",
    "    row = int(file.split('-')[0])\n",
    "    with open('E:/lightcurves/blazar/sector/'+file,'rb') as rfile:\n",
    "        lc = pickle.load(rfile)\n",
    "    lc = lc.remove_outliers(sigma=7)\n",
    "\n",
    "    cut_std = np.std(lc.flux[:inputLength])\n",
    "    flux = lc.flux[:inputLength]/0.43\n",
    "    flux = np.array([np.array([flux[i]]) for i in range(len(flux))])\n",
    "    x.append(flux)\n",
    "\n",
    "print(len(x))\n",
    "for file in os.listdir('E:/lightcurves/star/sector/'):\n",
    "    row = int(file.split('-')[0])\n",
    "    with open('E:/lightcurves/star/sector/'+file,'rb') as rfile:\n",
    "        lc = pickle.load(rfile)\n",
    "    lc = lc.remove_outliers(sigma=7)\n",
    "\n",
    "    cut_std = np.std(lc.flux[:inputLength])\n",
    "    flux = lc.flux[:inputLength]/0.43\n",
    "    flux = np.array([np.array([flux[i]]) for i in range(len(flux))])\n",
    "    x.append(flux)\n",
    "    \n",
    "    \n",
    "x = np.array(x)"
   ]
  },
  {
   "cell_type": "code",
   "execution_count": 111,
   "metadata": {},
   "outputs": [],
   "source": [
    "'''\n",
    "Creates y array as a one-hot encoded indicator of either blazar or star\n",
    "'''\n",
    "\n",
    "y = np.zeros((len(x),2))\n",
    "for i in range(len(x)):\n",
    "    if i < 1178:\n",
    "        y[i,0] = 1\n",
    "    else:\n",
    "        y[i,1] = 1"
   ]
  },
  {
   "cell_type": "code",
   "execution_count": 112,
   "metadata": {},
   "outputs": [],
   "source": [
    "'''\n",
    "Randomly shuffles x and y in the same way\n",
    "'''\n",
    "\n",
    "from sklearn.utils import shuffle\n",
    "\n",
    "x, y = shuffle(x,y)\n",
    "\n",
    "np.save('E:/x_m.npy',x)\n",
    "np.save('E:/y_m.npy',y)"
   ]
  },
  {
   "cell_type": "code",
   "execution_count": 108,
   "metadata": {},
   "outputs": [
    {
     "name": "stdout",
     "output_type": "stream",
     "text": [
      "0.9707879560116384\n",
      "0.6566906884550241\n"
     ]
    }
   ],
   "source": [
    "'''\n",
    "Finds some descriptive statistics of both classes\n",
    "'''\n",
    "\n",
    "counter = 0\n",
    "param_b = []\n",
    "param_s = []\n",
    "for l in x:\n",
    "    if counter < 1178:\n",
    "        param_b.append(np.var(l))\n",
    "    else:\n",
    "        param_s.append(np.var(l))\n",
    "    counter = counter + 1\n",
    "    \n",
    "print(np.median(param_b))\n",
    "print(np.median(param_s))"
   ]
  },
  {
   "cell_type": "code",
   "execution_count": null,
   "metadata": {},
   "outputs": [],
   "source": [
    "'''\n",
    "Creates x array, by sector of JUST BLAZARS\n",
    "'''\n",
    "inputLength = 760\n",
    "x = []\n",
    "\n",
    "for file in os.listdir('E:/lightcurves/blazar/sector/'):\n",
    "    row = int(file.split('-')[0])\n",
    "    with open('E:/lightcurves/blazar/sector/'+file,'rb') as rfile:\n",
    "        lc = pickle.load(rfile)\n",
    "    lc = lc.remove_outliers(sigma=7)\n",
    "\n",
    "    cut_std = np.std(lc.flux[:inputLength])\n",
    "    flux = lc.flux[:inputLength]/0.43\n",
    "    flux = np.array([np.array([flux[i]]) for i in range(len(flux))])\n",
    "    x.append(flux)\n",
    "x = np.array(x)\n",
    "\n",
    "np.save('x_c.npy',x)"
   ]
  },
  {
   "cell_type": "code",
   "execution_count": 56,
   "metadata": {},
   "outputs": [],
   "source": [
    "'''\n",
    "Create y array, classification of HSP - ISP - LSP, by sector, one-hot encoded\n",
    "'''\n",
    "\n",
    "n = len(os.listdir('E:/sector_lightcurves/'))\n",
    "\n",
    "rows = []\n",
    "for t in os.listdir('E:/sector_lightcurves/'):\n",
    "    rows.append(int(t.split('-')[0]))\n",
    "rows = np.array(rows)\n",
    "\n",
    "magnesiums =  pd.read_csv('E:/catalogues/final_quasar_catalogue.csv', sep=',', usecols=['MBH_MgII'],header=0,squeeze=True)\n",
    "carbons =  pd.read_csv('E:/catalogues/final_quasar_catalogue.csv', sep=',', usecols=['MBH_CIV'],header=0,squeeze=True)\n",
    "masses = []\n",
    "for i in range(len(rows)):\n",
    "    r = rows[i]\n",
    "    mag = magnesiums[r]\n",
    "    car = carbons[r]\n",
    "    if not math.isnan(mag) and not math.isnan(car):\n",
    "        mass = 0.5*(mag+car)\n",
    "    elif not math.isnan(mag):\n",
    "        mass = mag\n",
    "    elif not math.isnan(car):\n",
    "        mass = car\n",
    "    masses.append(mass)\n",
    "\n",
    "y = np.zeros((n,6))\n",
    "for i in range(len(masses)):\n",
    "    if masses[i] < 8.5:\n",
    "        y[i,0] = 1\n",
    "    elif masses[i] < 8.75:\n",
    "        y[i,1] = 1\n",
    "    elif masses[i] < 9:\n",
    "        y[i,2] = 1\n",
    "    elif masses[i] < 9.25:\n",
    "        y[i,3] = 1\n",
    "    elif masses[i] < 9.5:\n",
    "        y[i,4] = 1\n",
    "    else:\n",
    "        y[i,5] = 1\n",
    "\n",
    "np.save('E:/y_cl.npy',y)"
   ]
  },
  {
   "cell_type": "code",
   "execution_count": 64,
   "metadata": {},
   "outputs": [],
   "source": [
    "'''\n",
    "Creates y array, by sector, regression\n",
    "'''\n",
    "\n",
    "inputLength = 760\n",
    "n = len(os.listdir('E:/sector_lightcurves/'))\n",
    "\n",
    "rows = []\n",
    "for t in os.listdir('E:/sector_lightcurves/'):\n",
    "    rows.append(int(t.split('-')[0]))\n",
    "rows = np.array(rows)\n",
    "\n",
    "magnesiums =  pd.read_csv('E:/catalogues/final_quasar_catalogue.csv', sep=',', usecols=['MBH_MgII'],header=0,squeeze=True)\n",
    "carbons =  pd.read_csv('E:/catalogues/final_quasar_catalogue.csv', sep=',', usecols=['MBH_CIV'],header=0,squeeze=True)\n",
    "masses = []\n",
    "for i in rows:\n",
    "    mag = magnesiums[i]\n",
    "    car = carbons[i]\n",
    "    if not math.isnan(mag) and not math.isnan(car):\n",
    "        mass = 0.5*(mag+car)\n",
    "    elif not math.isnan(mag):\n",
    "        mass = mag\n",
    "    elif not math.isnan(car):\n",
    "        mass = car\n",
    "    masses.append(mass)\n",
    "\n",
    "y = np.array((masses-np.mean(masses))/np.std(masses))\n",
    "np.save('E:/y_r.npy',y)"
   ]
  },
  {
   "cell_type": "code",
   "execution_count": 62,
   "metadata": {},
   "outputs": [],
   "source": [
    "'''\n",
    "Create y of classes of masses, but doing it with E:/lightcurves\n",
    "'''\n",
    "\n",
    "n = len(os.listdir('E:/lightcurves/'))\n",
    "\n",
    "rows = []\n",
    "for t in os.listdir('E:/lightcurves/'):\n",
    "    rows.append(int(t.split('lc')[0]))\n",
    "rows = np.array(rows)\n",
    "\n",
    "magnesiums =  pd.read_csv('E:/catalogues/final_quasar_catalogue.csv', sep=',', usecols=['MBH_MgII'],header=0,squeeze=True)\n",
    "carbons =  pd.read_csv('E:/catalogues/final_quasar_catalogue.csv', sep=',', usecols=['MBH_CIV'],header=0,squeeze=True)\n",
    "masses = []\n",
    "for i in range(len(rows)):\n",
    "    r = rows[i]\n",
    "    mag = magnesiums[r]\n",
    "    car = carbons[r]\n",
    "    if not math.isnan(mag) and not math.isnan(car):\n",
    "        mass = 0.5*(mag+car)\n",
    "    elif not math.isnan(mag):\n",
    "        mass = mag\n",
    "    elif not math.isnan(car):\n",
    "        mass = car\n",
    "    masses.append(mass)\n",
    "\n",
    "y = np.zeros((n,6))\n",
    "for i in range(len(masses)):\n",
    "    if masses[i] < 8.5:\n",
    "        y[i,0] = 1\n",
    "    elif masses[i] < 8.75:\n",
    "        y[i,1] = 1\n",
    "    elif masses[i] < 9:\n",
    "        y[i,2] = 1\n",
    "    elif masses[i] < 9.25:\n",
    "        y[i,3] = 1\n",
    "    elif masses[i] < 9.5:\n",
    "        y[i,4] = 1\n",
    "    else:\n",
    "        y[i,5] = 1\n",
    "\n",
    "#y = np.array((masses-np.mean(masses))/np.std(masses))\n",
    "np.save('E:/y_cl_l.npy',y)"
   ]
  },
  {
   "cell_type": "code",
   "execution_count": 44,
   "metadata": {},
   "outputs": [
    {
     "data": {
      "text/plain": [
       "9.406"
      ]
     },
     "execution_count": 44,
     "metadata": {},
     "output_type": "execute_result"
    }
   ],
   "source": [
    "from tsfresh import extract_features, extract_relevant_features\n",
    "frames = []\n",
    "counter = 0\n",
    "for file in tqdm(os.listdir('E:/lightcurves/')):\n",
    "    filepath = 'E:/lightcurves/' + file\n",
    "    with open(filepath,'rb') as rfile:\n",
    "        lc = pickle.load(rfile)\n",
    "    frames.append(pd.DataFrame({'id':counter*np.ones(len(lc.flux)),'time':lc.time,'flux':lc.flux}))\n",
    "    counter = counter + 1\n",
    "timeseries = pd.concat(frames)\n",
    "extracted_features = extract_features(timeseries, column_id=\"id\", column_sort=\"time\")"
   ]
  },
  {
   "cell_type": "code",
   "execution_count": 53,
   "metadata": {},
   "outputs": [
    {
     "name": "stdout",
     "output_type": "stream",
     "text": [
      "Y: 9.406\n",
      "M: 9.406      C: nan     AVG: nan\n",
      "-----------------------------------------------------\n",
      "Y: 9.343\n",
      "M: 9.51      C: 9.176     AVG: 9.343\n",
      "-----------------------------------------------------\n",
      "Y: 8.568\n",
      "M: 8.568      C: nan     AVG: nan\n",
      "-----------------------------------------------------\n",
      "Y: 9.227\n",
      "M: nan      C: 9.227     AVG: nan\n",
      "-----------------------------------------------------\n",
      "Y: 9.662\n",
      "M: nan      C: 9.662     AVG: nan\n",
      "-----------------------------------------------------\n",
      "Y: 9.68\n",
      "M: nan      C: 9.68     AVG: nan\n",
      "-----------------------------------------------------\n",
      "Y: 9.816\n",
      "M: nan      C: 9.816     AVG: nan\n",
      "-----------------------------------------------------\n",
      "Y: 9.912\n",
      "M: nan      C: 9.912     AVG: nan\n",
      "-----------------------------------------------------\n",
      "Y: 9.164\n",
      "M: nan      C: 9.164     AVG: nan\n",
      "-----------------------------------------------------\n",
      "Y: 8.69\n",
      "M: 8.69      C: nan     AVG: nan\n",
      "-----------------------------------------------------\n",
      "Y: 9.151\n",
      "M: nan      C: 9.151     AVG: nan\n",
      "-----------------------------------------------------\n",
      "Y: 8.311\n",
      "M: 8.311      C: nan     AVG: nan\n",
      "-----------------------------------------------------\n",
      "Y: 9.121500000000001\n",
      "M: 9.057      C: 9.186     AVG: 9.121500000000001\n",
      "-----------------------------------------------------\n",
      "Y: 9.716\n",
      "M: nan      C: 9.716     AVG: nan\n",
      "-----------------------------------------------------\n",
      "Y: 8.052\n",
      "M: 8.052      C: nan     AVG: nan\n",
      "-----------------------------------------------------\n",
      "Y: 8.795\n",
      "M: 8.795      C: nan     AVG: nan\n",
      "-----------------------------------------------------\n",
      "Y: 9.066\n",
      "M: 9.066      C: nan     AVG: nan\n",
      "-----------------------------------------------------\n",
      "Y: 8.923\n",
      "M: nan      C: 8.923     AVG: nan\n",
      "-----------------------------------------------------\n"
     ]
    }
   ],
   "source": [
    "from tqdm import tqdm\n",
    "for n in range(18):\n",
    "    with open('E:/sector_lightcurves/' + os.listdir('E:/sector_lightcurves')[n],'rb') as rfile:\n",
    "        lc = pickle.load(rfile)\n",
    "    lc = lc.remove_nans().remove_outliers(sigma=25)\n",
    "    error = 0\n",
    "    for i in range(len(x[n])):\n",
    "        error = error + (x[n][i][0] - lc.flux[i])\n",
    "    #print('Error: {}'.format(error))\n",
    "    assert error == 0\n",
    "    magnesiums =  pd.read_csv('E:/catalogues/final_quasar_catalogue.csv', sep=',', usecols=['MBH_MgII'],header=0,squeeze=True)[n]\n",
    "    carbons =  pd.read_csv('E:/catalogues/final_quasar_catalogue.csv', sep=',', usecols=['MBH_CIV'],header=0,squeeze=True)[n]\n",
    "    print('Y: {}'.format(y[n]))\n",
    "    print('M: {0}      C: {1}     AVG: {2}'.format(magnesiums,carbons,(magnesiums+carbons)/2))\n",
    "    print('-----------------------------------------------------')"
   ]
  },
  {
   "cell_type": "code",
   "execution_count": 43,
   "metadata": {},
   "outputs": [
    {
     "name": "stdout",
     "output_type": "stream",
     "text": [
      "Error: 0.0\n",
      "[[ 0.43781654]\n",
      " [ 0.49852484]\n",
      " [ 0.20448897]\n",
      " [ 0.22562369]\n",
      " [-0.04539293]\n",
      " [ 0.10947107]\n",
      " [-0.17934496]\n",
      " [ 0.17461173]\n",
      " [ 0.08126419]\n",
      " [-0.09201835]]\n",
      "[ 0.43781654  0.49852484  0.20448897  0.22562369 -0.04539293  0.10947107\n",
      " -0.17934496  0.17461173  0.08126419 -0.09201835]\n",
      "8.568\n",
      "M: 8.568      C: nan     AVG: nan\n"
     ]
    }
   ],
   "source": [
    "n = 2\n",
    "with open('E:/sector_lightcurves/' + os.listdir('E:/sector_lightcurves')[n],'rb') as rfile:\n",
    "    lc = pickle.load(rfile)\n",
    "lc = lc.remove_nans().remove_outliers(sigma=25)\n",
    "error = 0\n",
    "for i in range(len(x[n])):\n",
    "    error = error + (x[n][i][0] - lc.flux[i])\n",
    "print('Error: {}'.format(error))\n",
    "\n",
    "magnesiums =  pd.read_csv('E:/catalogues/final_quasar_catalogue.csv', sep=',', usecols=['MBH_MgII'],header=0,squeeze=True)[n]\n",
    "carbons =  pd.read_csv('E:/catalogues/final_quasar_catalogue.csv', sep=',', usecols=['MBH_CIV'],header=0,squeeze=True)[n]\n",
    "print(y[n])\n",
    "print('M: {0}      C: {1}     AVG: {2}'.format(magnesiums,carbons,(magnesiums+carbons)/2))"
   ]
  },
  {
   "cell_type": "code",
   "execution_count": 16,
   "metadata": {},
   "outputs": [
    {
     "name": "stdout",
     "output_type": "stream",
     "text": [
      "0-17lc.pickle\n",
      "1-17lc.pickle\n",
      "10-17lc.pickle\n",
      "100-17lc.pickle\n",
      "1000-17lc.pickle\n",
      "10000-21lc.pickle\n",
      "10001-21lc.pickle\n",
      "10002-21lc.pickle\n",
      "10003-21lc.pickle\n",
      "10004-8lc.pickle\n"
     ]
    },
    {
     "data": {
      "text/plain": [
       "array([    0,     1,    10,   100,  1000, 10000, 10001, 10002, 10003,\n",
       "       10004])"
      ]
     },
     "execution_count": 16,
     "metadata": {},
     "output_type": "execute_result"
    }
   ],
   "source": [
    "for file in os.listdir('E:/sector_lightcurves')[:10]:\n",
    "    print(file)\n",
    "rows[:10]"
   ]
  },
  {
   "cell_type": "code",
   "execution_count": 42,
   "metadata": {},
   "outputs": [
    {
     "data": {
      "text/plain": [
       "[<matplotlib.lines.Line2D at 0x1eea0364588>]"
      ]
     },
     "execution_count": 42,
     "metadata": {},
     "output_type": "execute_result"
    },
    {
     "data": {
      "image/png": "[encoded data removed]",
      "text/plain": [
       "<Figure size 432x288 with 1 Axes>"
      ]
     },
     "metadata": {
      "needs_background": "light"
     },
     "output_type": "display_data"
    },
    {
     "data": {
      "image/png": "[encoded data removed]",
      "text/plain": [
       "<Figure size 432x288 with 1 Axes>"
      ]
     },
     "metadata": {
      "needs_background": "light"
     },
     "output_type": "display_data"
    }
   ],
   "source": [
    "import matplotlib.pyplot as plt\n",
    "plt.plot(x[n])\n",
    "plt.figure()\n",
    "plt.plot(lc.flux[:760])"
   ]
  },
  {
   "cell_type": "code",
   "execution_count": 31,
   "metadata": {},
   "outputs": [
    {
     "data": {
      "text/html": [
       "<div>\n",
       "<style scoped>\n",
       "    .dataframe tbody tr th:only-of-type {\n",
       "        vertical-align: middle;\n",
       "    }\n",
       "\n",
       "    .dataframe tbody tr th {\n",
       "        vertical-align: top;\n",
       "    }\n",
       "\n",
       "    .dataframe thead th {\n",
       "        text-align: right;\n",
       "    }\n",
       "</style>\n",
       "<table border=\"1\" class=\"dataframe\">\n",
       "  <thead>\n",
       "    <tr style=\"text-align: right;\">\n",
       "      <th></th>\n",
       "      <th>SDSS_NAME</th>\n",
       "      <th>RA</th>\n",
       "      <th>DEC</th>\n",
       "      <th>THING_ID</th>\n",
       "      <th>PLATE</th>\n",
       "      <th>MJD</th>\n",
       "      <th>FIBERID</th>\n",
       "      <th>Z_VI</th>\n",
       "      <th>Z_PIPE</th>\n",
       "      <th>ERR_ZPIPE</th>\n",
       "      <th>...</th>\n",
       "      <th>L3000</th>\n",
       "      <th>eL3000</th>\n",
       "      <th>L1350</th>\n",
       "      <th>eL1350</th>\n",
       "      <th>MBH_MgII</th>\n",
       "      <th>MBH_CIV</th>\n",
       "      <th>Lbol</th>\n",
       "      <th>eLbol</th>\n",
       "      <th>nEdd</th>\n",
       "      <th>SECTORS</th>\n",
       "    </tr>\n",
       "  </thead>\n",
       "  <tbody>\n",
       "    <tr>\n",
       "      <th>0</th>\n",
       "      <td>000033.16+323530.5</td>\n",
       "      <td>0.138173</td>\n",
       "      <td>32.591821</td>\n",
       "      <td>387828308</td>\n",
       "      <td>6498</td>\n",
       "      <td>56565</td>\n",
       "      <td>864</td>\n",
       "      <td>2.202</td>\n",
       "      <td>2.214343</td>\n",
       "      <td>0.000214</td>\n",
       "      <td>...</td>\n",
       "      <td>45.74</td>\n",
       "      <td>0.133</td>\n",
       "      <td>45.945</td>\n",
       "      <td>0.09</td>\n",
       "      <td>9.406</td>\n",
       "      <td>NaN</td>\n",
       "      <td>46.503</td>\n",
       "      <td>0.075</td>\n",
       "      <td>-1.003</td>\n",
       "      <td>1</td>\n",
       "    </tr>\n",
       "  </tbody>\n",
       "</table>\n",
       "<p>1 rows × 168 columns</p>\n",
       "</div>"
      ],
      "text/plain": [
       "            SDSS_NAME        RA        DEC   THING_ID  PLATE    MJD  FIBERID  \\\n",
       "0  000033.16+323530.5  0.138173  32.591821  387828308   6498  56565      864   \n",
       "\n",
       "    Z_VI    Z_PIPE  ERR_ZPIPE  ...  L3000  eL3000   L1350  eL1350  MBH_MgII  \\\n",
       "0  2.202  2.214343   0.000214  ...  45.74   0.133  45.945    0.09     9.406   \n",
       "\n",
       "   MBH_CIV    Lbol  eLbol   nEdd  SECTORS  \n",
       "0      NaN  46.503  0.075 -1.003        1  \n",
       "\n",
       "[1 rows x 168 columns]"
      ]
     },
     "execution_count": 31,
     "metadata": {},
     "output_type": "execute_result"
    }
   ],
   "source": [
    "pd.read_csv('E:/catalogues/final_quasar_catalogue.csv', sep=',',header=0,squeeze=True)[0:1]"
   ]
  },
  {
   "cell_type": "code",
   "execution_count": 68,
   "metadata": {},
   "outputs": [
    {
     "data": {
      "text/plain": [
       "array([    0,     1,    10,   100,  1000, 10000, 10001, 10002, 10003,\n",
       "       10004, 10005, 10007, 10008, 10009,  1001, 10010, 10011, 10012,\n",
       "       10013, 10014])"
      ]
     },
     "execution_count": 68,
     "metadata": {},
     "output_type": "execute_result"
    }
   ],
   "source": [
    "rows[:20]"
   ]
  },
  {
   "cell_type": "code",
   "execution_count": 69,
   "metadata": {},
   "outputs": [
    {
     "data": {
      "text/plain": [
       "9.343"
      ]
     },
     "execution_count": 69,
     "metadata": {},
     "output_type": "execute_result"
    }
   ],
   "source": [
    "(9.51 + 9.176)/2"
   ]
  },
  {
   "cell_type": "code",
   "execution_count": null,
   "metadata": {},
   "outputs": [],
   "source": []
  }
 ],
 "metadata": {
  "kernelspec": {
   "display_name": "Python 3",
   "language": "python",
   "name": "python3"
  },
  "language_info": {
   "codemirror_mode": {
    "name": "ipython",
    "version": 3
   },
   "file_extension": ".py",
   "mimetype": "text/x-python",
   "name": "python",
   "nbconvert_exporter": "python",
   "pygments_lexer": "ipython3",
   "version": "3.8.3"
  }
 },
 "nbformat": 4,
 "nbformat_minor": 4
}
