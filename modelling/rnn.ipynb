{
 "cells": [
  {
   "cell_type": "code",
   "execution_count": 1,
   "metadata": {
    "scrolled": true
   },
   "outputs": [],
   "source": [
    "import numpy as np\n",
    "from pickle import dump, load\n",
    "from numpy import array\n",
    "from tensorflow import keras\n",
    "from tensorflow.keras.utils import to_categorical\n",
    "from tensorflow.keras.models import Sequential\n",
    "from tensorflow.keras.layers import Dense, LSTM, Dropout, Bidirectional, Conv1D, MaxPooling1D, Flatten, Input, concatenate\n",
    "from tensorflow.keras.models import load_model\n",
    "from tensorflow.keras.preprocessing.sequence import pad_sequences\n",
    "from tensorflow.keras.callbacks import EarlyStopping\n",
    "import tensorflow.keras.optimizers as optimizers\n",
    "from tensorflow.keras.utils import plot_model, model_to_dot\n",
    "import tensorflow as tf\n",
    "from os import listdir\n",
    "import lightkurve as lk\n",
    "import pickle\n",
    "import pandas as pd\n",
    "from collections import Counter\n",
    "import matplotlib.pyplot as plt\n",
    "from sklearn.metrics import confusion_matrix\n",
    "\n",
    "def build_rnn(X,lstm_layers,cells,output_size):\n",
    "    model = Sequential()\n",
    "    \n",
    "    #model.add(Dense(units=cells,input_shape=(X.shape[1], X.shape[2])))\n",
    "    for i in range(lstm_layers - 1):\n",
    "        model.add(Bidirectional(LSTM(cells,activation='sigmoid',return_sequences=True)))\n",
    "        model.add(Dropout(0.2))\n",
    "        \n",
    "    model.add(Bidirectional(LSTM(cells,activation='sigmoid')))\n",
    "    model.add(Dropout(0.2))\n",
    "    \n",
    "    model.add(Dense(output_size, activation='softmax'))\n",
    "\n",
    "    opt = optimizers.Adam(learning_rate=0.0008)\n",
    "    model.compile(loss = \"categorical_hinge\", metrics=['categorical_accuracy'], optimizer = opt)\n",
    "    return model\n",
    "\n",
    "def build_cnn(X):\n",
    "    model = Sequential()\n",
    "    \n",
    "    model.add(Conv1D(filters=380, kernel_size=8, activation='relu', input_shape=(760, 1)))\n",
    "    model.add(MaxPooling1D(pool_size=2))\n",
    "    \n",
    "    model.add(Conv1D(filters=190, kernel_size=8, activation='relu', input_shape=(760, 1)))\n",
    "    model.add(MaxPooling1D(pool_size=2))\n",
    "    \n",
    "    model.add(Conv1D(filters=95, kernel_size=8, activation='relu', input_shape=(760, 1)))\n",
    "    model.add(MaxPooling1D(pool_size=2))\n",
    "    \n",
    "    model.add(Conv1D(filters=47, kernel_size=16, activation='relu', input_shape=(760, 1)))\n",
    "    model.add(MaxPooling1D(pool_size=2))\n",
    "    \n",
    "    model.add(Conv1D(filters=24, kernel_size=32, activation='relu', input_shape=(760, 1)))\n",
    "    model.add(MaxPooling1D(pool_size=2))\n",
    "    \n",
    "    model.add(Flatten())\n",
    "    model.add(Dense(20,activation='relu'))\n",
    "    model.add(Dense(10,activation='relu'))\n",
    "    model.add(Dense(2,activation='softmax'))\n",
    "\n",
    "    opt = optimizers.Adam(learning_rate=3e-5)\n",
    "    model.compile(loss = \"categorical_hinge\", metrics=['categorical_accuracy'], optimizer = opt)\n",
    "    return model\n",
    "\n",
    "def build_deep_conv_lstm(x,cells=6,filters=20,pool=2):\n",
    "    input_shape = Input(shape=(x.shape[1],x.shape[2]))\n",
    "\n",
    "    tower_1 = Conv1D(filters=filters, kernel_size=32, activation='relu', input_shape=(760, 1))(input_shape)\n",
    "    tower_1 = MaxPooling1D(pool_size=pool)(tower_1)\n",
    "    tower_1 = Dropout(0.5)(tower_1)\n",
    "\n",
    "    '''tower_2 = MaxPooling1D(pool_size=2)(input_shape)\n",
    "    tower_2 = Conv1D(filters=filters, kernel_size=7, activation='relu', input_shape=(760, 1))(tower_2)\n",
    "    tower_2 = MaxPooling1D(pool_size=pool)(tower_2)\n",
    "    tower_2 = Dropout(0.5)(tower_2)\n",
    "\n",
    "    tower_3 = MaxPooling1D(pool_size=3)(input_shape)\n",
    "    tower_3 = Conv1D(filters=filters, kernel_size=7, activation='relu', input_shape=(760, 1))(tower_3)\n",
    "    tower_3 = MaxPooling1D(pool_size=pool)(tower_3)\n",
    "    tower_3 = Dropout(0.5)(tower_3)'''\n",
    "\n",
    "    tower_4 = MaxPooling1D(pool_size=4)(input_shape)\n",
    "    tower_4 = Conv1D(filters=filters, kernel_size=32, activation='relu', input_shape=(760, 1))(tower_4)\n",
    "    tower_4 = MaxPooling1D(pool_size=pool)(tower_4)\n",
    "    tower_4 = Dropout(0.5)(tower_4)\n",
    "\n",
    "    merged = concatenate([tower_1,tower_4],axis=1)\n",
    "    #merged = Flatten()(merged)\n",
    "\n",
    "    lstm = Bidirectional(LSTM(cells,activation='sigmoid',return_sequences=True))(merged)\n",
    "    lstm = Bidirectional(LSTM(cells,activation='sigmoid'))(merged)\n",
    "\n",
    "    out = Dense(50,activation='relu')(merged)\n",
    "    out = Dropout(0.5)(out)\n",
    "    out = Dense(10,activation='relu')(out)\n",
    "    out = Flatten()(out)\n",
    "    out = Dense(2,activation='softmax')(out)\n",
    "\n",
    "    model = keras.Model(input_shape,out)\n",
    "    opt = optimizers.Adam(learning_rate=3e-4)\n",
    "    model.compile(loss = \"categorical_hinge\", metrics=['categorical_accuracy'], optimizer = opt)\n",
    "    return model\n",
    "\n",
    "x = np.load('E:/x_m.npy')\n",
    "y = np.load('E:/y_m.npy')\n",
    "x_train = x[:1906]\n",
    "y_train = y[:1906]\n",
    "x_test = x[1906:]\n",
    "y_test = y[1906:]"
   ]
  },
  {
   "cell_type": "code",
   "execution_count": 2,
   "metadata": {},
   "outputs": [],
   "source": [
    "%load_ext tensorboard"
   ]
  },
  {
   "cell_type": "code",
   "execution_count": null,
   "metadata": {},
   "outputs": [],
   "source": [
    "model = build_rnn(x,lstm_layers=2,cells=12,output_size=2)"
   ]
  },
  {
   "cell_type": "code",
   "execution_count": 3,
   "metadata": {},
   "outputs": [
    {
     "name": "stdout",
     "output_type": "stream",
     "text": [
      "WARNING:tensorflow:Layer lstm will not use cuDNN kernel since it doesn't meet the cuDNN kernel criteria. It will use generic GPU kernel as fallback when running on GPU\n",
      "WARNING:tensorflow:Layer lstm will not use cuDNN kernel since it doesn't meet the cuDNN kernel criteria. It will use generic GPU kernel as fallback when running on GPU\n",
      "WARNING:tensorflow:Layer lstm will not use cuDNN kernel since it doesn't meet the cuDNN kernel criteria. It will use generic GPU kernel as fallback when running on GPU\n",
      "WARNING:tensorflow:Layer lstm_1 will not use cuDNN kernel since it doesn't meet the cuDNN kernel criteria. It will use generic GPU kernel as fallback when running on GPU\n",
      "WARNING:tensorflow:Layer lstm_1 will not use cuDNN kernel since it doesn't meet the cuDNN kernel criteria. It will use generic GPU kernel as fallback when running on GPU\n",
      "WARNING:tensorflow:Layer lstm_1 will not use cuDNN kernel since it doesn't meet the cuDNN kernel criteria. It will use generic GPU kernel as fallback when running on GPU\n"
     ]
    }
   ],
   "source": [
    "model = build_deep_conv_lstm(x)"
   ]
  },
  {
   "cell_type": "code",
   "execution_count": null,
   "metadata": {},
   "outputs": [],
   "source": [
    "model = build_cnn(x)\n",
    "model.load_weights('E:/march.h5')\n",
    "model.summary()"
   ]
  },
  {
   "cell_type": "code",
   "execution_count": 4,
   "metadata": {},
   "outputs": [],
   "source": [
    "import datetime\n",
    "log_dir=r'/Tensorboard_ex/logs_1/fit/' + datetime.datetime.now().strftime('%Y%m%d-%H%M%S')\n",
    "tensorboard_callback= tf.keras.callbacks.TensorBoard(log_dir=log_dir,                     \n",
    "                               histogram_freq=1)"
   ]
  },
  {
   "cell_type": "code",
   "execution_count": 5,
   "metadata": {},
   "outputs": [
    {
     "name": "stdout",
     "output_type": "stream",
     "text": [
      " 1/30 [>.............................] - ETA: 0s - loss: 1.0907 - categorical_accuracy: 0.4219WARNING:tensorflow:From C:\\Users\\abcmo\\anaconda3\\lib\\site-packages\\tensorflow\\python\\ops\\summary_ops_v2.py:1277: stop (from tensorflow.python.eager.profiler) is deprecated and will be removed after 2020-07-01.\n",
      "Instructions for updating:\n",
      "use `tf.profiler.experimental.stop` instead.\n",
      " 2/30 [=>............................] - ETA: 0s - loss: 1.0465 - categorical_accuracy: 0.4688WARNING:tensorflow:Callbacks method `on_train_batch_end` is slow compared to the batch time (batch time: 0.0092s vs `on_train_batch_end` time: 0.0446s). Check your callbacks.\n",
      "30/30 [==============================] - 0s 10ms/step - loss: 0.9970 - categorical_accuracy: 0.4874\n"
     ]
    }
   ],
   "source": [
    "history = model.fit(x_train, y_train, epochs=1, verbose=1, batch_size=64, validation_split=0, shuffle=True, callbacks=[tensorboard_callback])"
   ]
  },
  {
   "cell_type": "code",
   "execution_count": 6,
   "metadata": {},
   "outputs": [
    {
     "data": {
      "text/plain": [
       "Reusing TensorBoard on port 6006 (pid 6204), started 0:13:57 ago. (Use '!kill 6204' to kill it.)"
      ]
     },
     "metadata": {},
     "output_type": "display_data"
    },
    {
     "data": {
      "text/html": [
       "\n",
       "      <iframe id=\"tensorboard-frame-2137f94ac2d6dead\" width=\"100%\" height=\"800\" frameborder=\"0\">\n",
       "      </iframe>\n",
       "      <script>\n",
       "        (function() {\n",
       "          const frame = document.getElementById(\"tensorboard-frame-2137f94ac2d6dead\");\n",
       "          const url = new URL(\"/\", window.location);\n",
       "          const port = 6006;\n",
       "          if (port) {\n",
       "            url.port = port;\n",
       "          }\n",
       "          frame.src = url;\n",
       "        })();\n",
       "      </script>\n",
       "    "
      ],
      "text/plain": [
       "<IPython.core.display.HTML object>"
      ]
     },
     "metadata": {},
     "output_type": "display_data"
    }
   ],
   "source": [
    "%tensorboard --logdir=\"\\TEnsorBoard_ex\\logs_1\\fit\""
   ]
  },
  {
   "cell_type": "code",
   "execution_count": 25,
   "metadata": {},
   "outputs": [
    {
     "ename": "KeyError",
     "evalue": "'val_categorical_accuracy'",
     "output_type": "error",
     "traceback": [
      "\u001b[1;31m---------------------------------------------------------------------------\u001b[0m",
      "\u001b[1;31mKeyError\u001b[0m                                  Traceback (most recent call last)",
      "\u001b[1;32m<ipython-input-25-7fff89172488>\u001b[0m in \u001b[0;36m<module>\u001b[1;34m\u001b[0m\n\u001b[0;32m      1\u001b[0m \u001b[0mplt\u001b[0m\u001b[1;33m.\u001b[0m\u001b[0mplot\u001b[0m\u001b[1;33m(\u001b[0m\u001b[0mhistory\u001b[0m\u001b[1;33m.\u001b[0m\u001b[0mhistory\u001b[0m\u001b[1;33m[\u001b[0m\u001b[1;34m'categorical_accuracy'\u001b[0m\u001b[1;33m]\u001b[0m\u001b[1;33m)\u001b[0m\u001b[1;33m\u001b[0m\u001b[1;33m\u001b[0m\u001b[0m\n\u001b[1;32m----> 2\u001b[1;33m \u001b[0mplt\u001b[0m\u001b[1;33m.\u001b[0m\u001b[0mplot\u001b[0m\u001b[1;33m(\u001b[0m\u001b[0mhistory\u001b[0m\u001b[1;33m.\u001b[0m\u001b[0mhistory\u001b[0m\u001b[1;33m[\u001b[0m\u001b[1;34m'val_categorical_accuracy'\u001b[0m\u001b[1;33m]\u001b[0m\u001b[1;33m)\u001b[0m\u001b[1;33m\u001b[0m\u001b[1;33m\u001b[0m\u001b[0m\n\u001b[0m\u001b[0;32m      3\u001b[0m \u001b[0mplt\u001b[0m\u001b[1;33m.\u001b[0m\u001b[0mtitle\u001b[0m\u001b[1;33m(\u001b[0m\u001b[1;34m'Model Accuracy'\u001b[0m\u001b[1;33m)\u001b[0m\u001b[1;33m\u001b[0m\u001b[1;33m\u001b[0m\u001b[0m\n\u001b[0;32m      4\u001b[0m \u001b[0mplt\u001b[0m\u001b[1;33m.\u001b[0m\u001b[0mylabel\u001b[0m\u001b[1;33m(\u001b[0m\u001b[1;34m'accuarcy'\u001b[0m\u001b[1;33m)\u001b[0m\u001b[1;33m\u001b[0m\u001b[1;33m\u001b[0m\u001b[0m\n\u001b[0;32m      5\u001b[0m \u001b[0mplt\u001b[0m\u001b[1;33m.\u001b[0m\u001b[0mxlabel\u001b[0m\u001b[1;33m(\u001b[0m\u001b[1;34m'epoch'\u001b[0m\u001b[1;33m)\u001b[0m\u001b[1;33m\u001b[0m\u001b[1;33m\u001b[0m\u001b[0m\n",
      "\u001b[1;31mKeyError\u001b[0m: 'val_categorical_accuracy'"
     ]
    },
    {
     "data": {
      "image/png": "[encoded data removed]",
      "text/plain": [
       "<Figure size 432x288 with 1 Axes>"
      ]
     },
     "metadata": {
      "needs_background": "light"
     },
     "output_type": "display_data"
    }
   ],
   "source": [
    "plt.plot(history.history['categorical_accuracy'])\n",
    "plt.plot(history.history['val_categorical_accuracy'])\n",
    "plt.title('Model Accuracy')\n",
    "plt.ylabel('accuarcy')\n",
    "plt.xlabel('epoch')\n",
    "plt.legend(['train', 'test'], loc='upper right')\n",
    "plt.show()\n",
    "\n",
    "plt.figure()\n",
    "plt.plot(history.history['loss'])\n",
    "plt.plot(history.history['val_loss'])\n",
    "plt.title('Model Loss')\n",
    "plt.ylabel('accuarcy')\n",
    "plt.xlabel('epoch')\n",
    "plt.legend(['train', 'test'], loc='upper right')\n",
    "plt.show()"
   ]
  },
  {
   "cell_type": "code",
   "execution_count": null,
   "metadata": {},
   "outputs": [],
   "source": [
    "import seaborn as sns\n",
    "def unencode(matrix):\n",
    "    new_matrix = np.zeros(matrix.shape[0])\n",
    "    for i in range(matrix.shape[0]):\n",
    "        val = np.argmax(matrix[i])\n",
    "        new_matrix[i] = classes[val]\n",
    "    return new_matrix\n",
    "\n",
    "y_test_pred = model.predict(x_test, verbose=0)\n",
    "\n",
    "\n",
    "classes = [0,1]\n",
    "cm = confusion_matrix(unencode(y_test),unencode(y_test_pred),labels=classes)\n",
    "df = pd.DataFrame(cm).rename({0:'Blazar',1:'Star'},axis=1).rename({0:'Blazar',1:'Star'},axis=0)\n",
    "\n",
    "figure = plt.figure(dpi=1000,figsize=(8, 8))\n",
    "sns.heatmap(df, annot=True,square=True,cmap=plt.cm.Blues)\n",
    "plt.tight_layout()\n",
    "plt.ylabel('True label')\n",
    "plt.xlabel('Predicted label')\n",
    "plt.show()\n",
    "\n",
    "c = 0\n",
    "for i in range(len(y_test)):\n",
    "    if unencode(y_test_pred)[i] == unencode(y_test)[i]:\n",
    "        c = c + 1\n",
    "\n",
    "c / len(y_test)"
   ]
  },
  {
   "cell_type": "code",
   "execution_count": 49,
   "metadata": {},
   "outputs": [],
   "source": []
  },
  {
   "cell_type": "code",
   "execution_count": 47,
   "metadata": {},
   "outputs": [
    {
     "data": {
      "text/plain": [
       "ERROR: Timed out waiting for TensorBoard to start. It may still be running as pid 5792."
      ]
     },
     "metadata": {},
     "output_type": "display_data"
    }
   ],
   "source": []
  },
  {
   "cell_type": "code",
   "execution_count": null,
   "metadata": {},
   "outputs": [],
   "source": []
  }
 ],
 "metadata": {
  "kernelspec": {
   "display_name": "Python 3",
   "language": "python",
   "name": "python3"
  },
  "language_info": {
   "codemirror_mode": {
    "name": "ipython",
    "version": 3
   },
   "file_extension": ".py",
   "mimetype": "text/x-python",
   "name": "python",
   "nbconvert_exporter": "python",
   "pygments_lexer": "ipython3",
   "version": "3.8.3"
  }
 },
 "nbformat": 4,
 "nbformat_minor": 4
}
